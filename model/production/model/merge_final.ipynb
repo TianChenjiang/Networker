{
 "cells": [
  {
   "cell_type": "code",
   "execution_count": 1,
   "metadata": {},
   "outputs": [],
   "source": [
    "import pandas as pd\n",
    "import pickle\n",
    "import numpy as np"
   ]
  },
  {
   "cell_type": "code",
   "execution_count": 2,
   "metadata": {},
   "outputs": [],
   "source": [
    "lookback = 48\n",
    "\n",
    "# 加载info_scaler\n",
    "with open('info_scaler.pkl', 'rb') as f:\n",
    "    info_scaler = pickle.load(f)\n",
    "\n",
    "with open('price_scaler.pkl', 'rb') as f:\n",
    "    price_scaler = pickle.load(f)\n",
    "\n",
    "# 加载所支持的公司代码\n",
    "with open('data/code_set.pkl', 'rb') as f:\n",
    "    code_set = pickle.load(f)\n",
    "\n",
    "# 加载股价字典\n",
    "price_dict = dict()\n",
    "for code in code_set:\n",
    "    price_df = pd.read_csv('data/price/{}.csv'.format(code))\n",
    "    price_df = price_df.drop(['trade_date', 'pre_close'], axis=1)\n",
    "    price_dict[code] = price_df"
   ]
  },
  {
   "cell_type": "code",
   "execution_count": 3,
   "metadata": {},
   "outputs": [],
   "source": [
    "# 加载公司基本面字典\n",
    "company_dict = dict()\n",
    "for code in code_set:\n",
    "    company_df = pd.read_csv('data/fund/{}.csv'.format(code))\n",
    "    company_df = company_df.drop(['ts_code', 'ann_date', 'end_date'], axis=1)\n",
    "    company_dict[code] = company_df\n",
    "\n",
    "# 加载家族企业\n",
    "use = ['Symbol', 'ContrshrProportion', 'IsRelatedTrading', 'ShareholderFirstProp',\n",
    "       'ControlProportion', 'FamEntyp_1.0', 'FamEntyp_2.0', 'FamEntyp_3.0',\n",
    "       'BoardCode_P3401', 'BoardCode_P3402', 'BoardCode_P3403', 'FamStyle_1',\n",
    "       'FamStyle_2', 'ManGeneration_1.0', 'ManGeneration_2.0',\n",
    "       'FamNameStatus_1', 'FamNameStatus_2', 'FamNameStatus_3',\n",
    "       'FamNameStatus_4', 'FamNameStatus_5']\n",
    "fam = pd.read_csv('data/family_firm_clean.csv', index_col=0, usecols=use)"
   ]
  },
  {
   "cell_type": "code",
   "execution_count": 4,
   "metadata": {},
   "outputs": [],
   "source": [
    "def transform_price(price_df, forecast_close_line):\n",
    "    price_df['delta'] = price_df.apply(lambda x: x['close'] - forecast_close_line, axis=1)\n",
    "    price_values = price_scaler.transform(price_df)\n",
    "    return price_values[:lookback]"
   ]
  },
  {
   "cell_type": "code",
   "execution_count": 5,
   "metadata": {},
   "outputs": [],
   "source": [
    "code = '600998.SH'\n",
    "forecast_close_line = 12.1"
   ]
  },
  {
   "cell_type": "code",
   "execution_count": 6,
   "metadata": {},
   "outputs": [],
   "source": [
    "price_df = price_dict[code]\n",
    "price_values = transform_price(price_df, forecast_close_line)"
   ]
  },
  {
   "cell_type": "code",
   "execution_count": 7,
   "metadata": {},
   "outputs": [],
   "source": [
    "company_df = company_dict[code].loc[0]"
   ]
  },
  {
   "cell_type": "code",
   "execution_count": 8,
   "metadata": {},
   "outputs": [
    {
     "data": {
      "text/plain": [
       "current_ratio         1.271000e+00\n",
       "quick_ratio           9.808000e-01\n",
       "cash_ratio            9.006000e-01\n",
       "inv_turn              3.316400e+00\n",
       "ar_turn               2.082100e+00\n",
       "ca_turn               8.540000e-01\n",
       "netprofit_margin      1.573500e+00\n",
       "grossprofit_margin    8.379500e+00\n",
       "roe                   4.055000e+00\n",
       "debt_to_assets        6.928800e+01\n",
       "op_yoy                3.562380e+01\n",
       "ebt_yoy               3.522160e+01\n",
       "assets_yoy            5.154000e-01\n",
       "tr_yoy                1.408760e+01\n",
       "or_yoy                1.408760e+01\n",
       "q_gr_yoy              1.742770e+01\n",
       "q_gr_qoq             -3.637100e+00\n",
       "q_sales_yoy           1.742770e+01\n",
       "q_sales_qoq          -3.637100e+00\n",
       "q_op_yoy              3.975540e+01\n",
       "q_op_qoq              5.208080e+01\n",
       "q_profit_yoy          3.515150e+01\n",
       "q_profit_qoq          4.458190e+01\n",
       "revenue               4.842905e+10\n",
       "Name: 0, dtype: float64"
      ]
     },
     "execution_count": 8,
     "metadata": {},
     "output_type": "execute_result"
    }
   ],
   "source": [
    "company_df"
   ]
  },
  {
   "cell_type": "code",
   "execution_count": 22,
   "metadata": {},
   "outputs": [],
   "source": [
    "pledge_price = price_df.loc[0]['close']\n",
    "data = pd.Series(np.array([code, pledge_price, forecast_close_line]),\n",
    "                    index=['ts_code', 'pledge_price', 'forecast_close_line'])"
   ]
  },
  {
   "cell_type": "code",
   "execution_count": 23,
   "metadata": {},
   "outputs": [
    {
     "data": {
      "text/plain": [
       "ts_code                600998.SH\n",
       "pledge_price             17.5891\n",
       "forecast_close_line         12.1\n",
       "dtype: object"
      ]
     },
     "execution_count": 23,
     "metadata": {},
     "output_type": "execute_result"
    }
   ],
   "source": [
    "data"
   ]
  },
  {
   "cell_type": "code",
   "execution_count": 24,
   "metadata": {},
   "outputs": [],
   "source": [
    "data = pd.concat([data, company_df])"
   ]
  },
  {
   "cell_type": "code",
   "execution_count": 25,
   "metadata": {},
   "outputs": [
    {
     "data": {
      "text/plain": [
       "27"
      ]
     },
     "execution_count": 25,
     "metadata": {},
     "output_type": "execute_result"
    }
   ],
   "source": [
    "len(data.index)"
   ]
  },
  {
   "cell_type": "code",
   "execution_count": 30,
   "metadata": {},
   "outputs": [],
   "source": [
    "df = data.to_frame().T"
   ]
  },
  {
   "cell_type": "code",
   "execution_count": 31,
   "metadata": {},
   "outputs": [
    {
     "data": {
      "text/html": [
       "<div>\n",
       "<style scoped>\n",
       "    .dataframe tbody tr th:only-of-type {\n",
       "        vertical-align: middle;\n",
       "    }\n",
       "\n",
       "    .dataframe tbody tr th {\n",
       "        vertical-align: top;\n",
       "    }\n",
       "\n",
       "    .dataframe thead th {\n",
       "        text-align: right;\n",
       "    }\n",
       "</style>\n",
       "<table border=\"1\" class=\"dataframe\">\n",
       "  <thead>\n",
       "    <tr style=\"text-align: right;\">\n",
       "      <th></th>\n",
       "      <th>ts_code</th>\n",
       "      <th>pledge_price</th>\n",
       "      <th>forecast_close_line</th>\n",
       "      <th>current_ratio</th>\n",
       "      <th>quick_ratio</th>\n",
       "      <th>cash_ratio</th>\n",
       "      <th>inv_turn</th>\n",
       "      <th>ar_turn</th>\n",
       "      <th>ca_turn</th>\n",
       "      <th>netprofit_margin</th>\n",
       "      <th>...</th>\n",
       "      <th>or_yoy</th>\n",
       "      <th>q_gr_yoy</th>\n",
       "      <th>q_gr_qoq</th>\n",
       "      <th>q_sales_yoy</th>\n",
       "      <th>q_sales_qoq</th>\n",
       "      <th>q_op_yoy</th>\n",
       "      <th>q_op_qoq</th>\n",
       "      <th>q_profit_yoy</th>\n",
       "      <th>q_profit_qoq</th>\n",
       "      <th>revenue</th>\n",
       "    </tr>\n",
       "  </thead>\n",
       "  <tbody>\n",
       "    <tr>\n",
       "      <td>0</td>\n",
       "      <td>600998.SH</td>\n",
       "      <td>17.5891</td>\n",
       "      <td>12.1</td>\n",
       "      <td>1.271</td>\n",
       "      <td>0.9808</td>\n",
       "      <td>0.9006</td>\n",
       "      <td>3.3164</td>\n",
       "      <td>2.0821</td>\n",
       "      <td>0.854</td>\n",
       "      <td>1.5735</td>\n",
       "      <td>...</td>\n",
       "      <td>14.0876</td>\n",
       "      <td>17.4277</td>\n",
       "      <td>-3.6371</td>\n",
       "      <td>17.4277</td>\n",
       "      <td>-3.6371</td>\n",
       "      <td>39.7554</td>\n",
       "      <td>52.0808</td>\n",
       "      <td>35.1515</td>\n",
       "      <td>44.5819</td>\n",
       "      <td>4.8429e+10</td>\n",
       "    </tr>\n",
       "  </tbody>\n",
       "</table>\n",
       "<p>1 rows × 27 columns</p>\n",
       "</div>"
      ],
      "text/plain": [
       "     ts_code pledge_price forecast_close_line current_ratio quick_ratio  \\\n",
       "0  600998.SH      17.5891                12.1         1.271      0.9808   \n",
       "\n",
       "  cash_ratio inv_turn ar_turn ca_turn netprofit_margin  ...   or_yoy q_gr_yoy  \\\n",
       "0     0.9006   3.3164  2.0821   0.854           1.5735  ...  14.0876  17.4277   \n",
       "\n",
       "  q_gr_qoq q_sales_yoy q_sales_qoq q_op_yoy q_op_qoq q_profit_yoy  \\\n",
       "0  -3.6371     17.4277     -3.6371  39.7554  52.0808      35.1515   \n",
       "\n",
       "  q_profit_qoq     revenue  \n",
       "0      44.5819  4.8429e+10  \n",
       "\n",
       "[1 rows x 27 columns]"
      ]
     },
     "execution_count": 31,
     "metadata": {},
     "output_type": "execute_result"
    }
   ],
   "source": [
    "df"
   ]
  },
  {
   "cell_type": "code",
   "execution_count": 32,
   "metadata": {},
   "outputs": [
    {
     "data": {
      "text/html": [
       "<div>\n",
       "<style scoped>\n",
       "    .dataframe tbody tr th:only-of-type {\n",
       "        vertical-align: middle;\n",
       "    }\n",
       "\n",
       "    .dataframe tbody tr th {\n",
       "        vertical-align: top;\n",
       "    }\n",
       "\n",
       "    .dataframe thead th {\n",
       "        text-align: right;\n",
       "    }\n",
       "</style>\n",
       "<table border=\"1\" class=\"dataframe\">\n",
       "  <thead>\n",
       "    <tr style=\"text-align: right;\">\n",
       "      <th></th>\n",
       "      <th>ts_code</th>\n",
       "      <th>pledge_price</th>\n",
       "      <th>forecast_close_line</th>\n",
       "      <th>current_ratio</th>\n",
       "      <th>quick_ratio</th>\n",
       "      <th>cash_ratio</th>\n",
       "      <th>inv_turn</th>\n",
       "      <th>ar_turn</th>\n",
       "      <th>ca_turn</th>\n",
       "      <th>netprofit_margin</th>\n",
       "      <th>...</th>\n",
       "      <th>BoardCode_P3403</th>\n",
       "      <th>FamStyle_1</th>\n",
       "      <th>FamStyle_2</th>\n",
       "      <th>ManGeneration_1.0</th>\n",
       "      <th>ManGeneration_2.0</th>\n",
       "      <th>FamNameStatus_1</th>\n",
       "      <th>FamNameStatus_2</th>\n",
       "      <th>FamNameStatus_3</th>\n",
       "      <th>FamNameStatus_4</th>\n",
       "      <th>FamNameStatus_5</th>\n",
       "    </tr>\n",
       "  </thead>\n",
       "  <tbody>\n",
       "    <tr>\n",
       "      <td>0</td>\n",
       "      <td>600998.SH</td>\n",
       "      <td>17.5891</td>\n",
       "      <td>12.1</td>\n",
       "      <td>1.271</td>\n",
       "      <td>0.9808</td>\n",
       "      <td>0.9006</td>\n",
       "      <td>3.3164</td>\n",
       "      <td>2.0821</td>\n",
       "      <td>0.854</td>\n",
       "      <td>1.5735</td>\n",
       "      <td>...</td>\n",
       "      <td>0</td>\n",
       "      <td>1</td>\n",
       "      <td>0</td>\n",
       "      <td>1</td>\n",
       "      <td>0</td>\n",
       "      <td>1</td>\n",
       "      <td>1</td>\n",
       "      <td>1</td>\n",
       "      <td>1</td>\n",
       "      <td>1</td>\n",
       "    </tr>\n",
       "  </tbody>\n",
       "</table>\n",
       "<p>1 rows × 46 columns</p>\n",
       "</div>"
      ],
      "text/plain": [
       "     ts_code pledge_price forecast_close_line current_ratio quick_ratio  \\\n",
       "0  600998.SH      17.5891                12.1         1.271      0.9808   \n",
       "\n",
       "  cash_ratio inv_turn ar_turn ca_turn netprofit_margin  ... BoardCode_P3403  \\\n",
       "0     0.9006   3.3164  2.0821   0.854           1.5735  ...               0   \n",
       "\n",
       "  FamStyle_1 FamStyle_2 ManGeneration_1.0 ManGeneration_2.0 FamNameStatus_1  \\\n",
       "0          1          0                 1                 0               1   \n",
       "\n",
       "  FamNameStatus_2 FamNameStatus_3 FamNameStatus_4 FamNameStatus_5  \n",
       "0               1               1               1               1  \n",
       "\n",
       "[1 rows x 46 columns]"
      ]
     },
     "execution_count": 32,
     "metadata": {},
     "output_type": "execute_result"
    }
   ],
   "source": [
    "df.merge(fam, how='left', left_on='ts_code', right_on='Symbol')"
   ]
  },
  {
   "cell_type": "code",
   "execution_count": null,
   "metadata": {},
   "outputs": [],
   "source": []
  }
 ],
 "metadata": {
  "kernelspec": {
   "display_name": "Python [conda env:keras_tf] *",
   "language": "python",
   "name": "conda-env-keras_tf-py"
  },
  "language_info": {
   "codemirror_mode": {
    "name": "ipython",
    "version": 3
   },
   "file_extension": ".py",
   "mimetype": "text/x-python",
   "name": "python",
   "nbconvert_exporter": "python",
   "pygments_lexer": "ipython3",
   "version": "3.7.4"
  }
 },
 "nbformat": 4,
 "nbformat_minor": 2
}
