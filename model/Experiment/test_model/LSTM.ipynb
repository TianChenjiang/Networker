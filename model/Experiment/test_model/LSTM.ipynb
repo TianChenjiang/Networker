{
 "cells": [
  {
   "cell_type": "code",
   "execution_count": 1,
   "metadata": {},
   "outputs": [
    {
     "name": "stderr",
     "output_type": "stream",
     "text": [
      "Using TensorFlow backend.\n"
     ]
    }
   ],
   "source": [
    "import tushare as ts\n",
    "import seaborn as sns\n",
    "import keras\n",
    "import numpy as np\n",
    "import pandas as pd\n",
    "# import jtplot submodule from jupyterthemes\n",
    "# from jupyterthemes import jtplot\n",
    "\n",
    "# # currently installed theme will be used to\n",
    "# # set plot style if no arguments provided\n",
    "# jtplot.style()\n",
    "from IPython.display import set_matplotlib_formats\n",
    "set_matplotlib_formats('retina')"
   ]
  },
  {
   "cell_type": "code",
   "execution_count": 2,
   "metadata": {},
   "outputs": [
    {
     "name": "stderr",
     "output_type": "stream",
     "text": [
      "C:\\Users\\GreenWood\\Anaconda3\\envs\\tf_gpu_keras\\lib\\site-packages\\tushare\\util\\upass.py:28: FutureWarning: \n",
      ".ix is deprecated. Please use\n",
      ".loc for label based indexing or\n",
      ".iloc for positional indexing\n",
      "\n",
      "See the documentation here:\n",
      "http://pandas.pydata.org/pandas-docs/stable/user_guide/indexing.html#ix-indexer-is-deprecated\n",
      "  return str(df.ix[0]['token'])\n"
     ]
    }
   ],
   "source": [
    "ts.set_token('53cd3b985c649c978160c6ec04bce24f4fbd2ebcb4673e8f2fba9a43')\n",
    "\n",
    "pro = ts.pro_api()\n",
    "\n",
    "sz1 = pro.daily(ts_code='000001.SZ', start_date='20170817', end_date='20190817')"
   ]
  },
  {
   "cell_type": "code",
   "execution_count": 3,
   "metadata": {},
   "outputs": [],
   "source": [
    "sz1 = sz1.drop(['ts_code'], axis=1)"
   ]
  },
  {
   "cell_type": "code",
   "execution_count": 4,
   "metadata": {},
   "outputs": [
    {
     "data": {
      "text/html": [
       "<div>\n",
       "<style scoped>\n",
       "    .dataframe tbody tr th:only-of-type {\n",
       "        vertical-align: middle;\n",
       "    }\n",
       "\n",
       "    .dataframe tbody tr th {\n",
       "        vertical-align: top;\n",
       "    }\n",
       "\n",
       "    .dataframe thead th {\n",
       "        text-align: right;\n",
       "    }\n",
       "</style>\n",
       "<table border=\"1\" class=\"dataframe\">\n",
       "  <thead>\n",
       "    <tr style=\"text-align: right;\">\n",
       "      <th></th>\n",
       "      <th>trade_date</th>\n",
       "      <th>open</th>\n",
       "      <th>high</th>\n",
       "      <th>low</th>\n",
       "      <th>close</th>\n",
       "      <th>pre_close</th>\n",
       "      <th>change</th>\n",
       "      <th>pct_chg</th>\n",
       "      <th>vol</th>\n",
       "      <th>amount</th>\n",
       "    </tr>\n",
       "  </thead>\n",
       "  <tbody>\n",
       "    <tr>\n",
       "      <th>0</th>\n",
       "      <td>20190816</td>\n",
       "      <td>15.09</td>\n",
       "      <td>15.14</td>\n",
       "      <td>14.78</td>\n",
       "      <td>14.90</td>\n",
       "      <td>14.94</td>\n",
       "      <td>-0.04</td>\n",
       "      <td>-0.2677</td>\n",
       "      <td>986902.93</td>\n",
       "      <td>1474900.257</td>\n",
       "    </tr>\n",
       "    <tr>\n",
       "      <th>1</th>\n",
       "      <td>20190815</td>\n",
       "      <td>14.64</td>\n",
       "      <td>14.96</td>\n",
       "      <td>14.60</td>\n",
       "      <td>14.94</td>\n",
       "      <td>14.97</td>\n",
       "      <td>-0.03</td>\n",
       "      <td>-0.2004</td>\n",
       "      <td>897376.26</td>\n",
       "      <td>1333117.725</td>\n",
       "    </tr>\n",
       "    <tr>\n",
       "      <th>2</th>\n",
       "      <td>20190814</td>\n",
       "      <td>15.14</td>\n",
       "      <td>15.22</td>\n",
       "      <td>14.80</td>\n",
       "      <td>14.97</td>\n",
       "      <td>14.89</td>\n",
       "      <td>0.08</td>\n",
       "      <td>0.5373</td>\n",
       "      <td>1360546.54</td>\n",
       "      <td>2038261.151</td>\n",
       "    </tr>\n",
       "    <tr>\n",
       "      <th>3</th>\n",
       "      <td>20190813</td>\n",
       "      <td>15.00</td>\n",
       "      <td>15.08</td>\n",
       "      <td>14.74</td>\n",
       "      <td>14.89</td>\n",
       "      <td>15.12</td>\n",
       "      <td>-0.23</td>\n",
       "      <td>-1.5212</td>\n",
       "      <td>1293736.44</td>\n",
       "      <td>1925835.288</td>\n",
       "    </tr>\n",
       "    <tr>\n",
       "      <th>4</th>\n",
       "      <td>20190812</td>\n",
       "      <td>14.61</td>\n",
       "      <td>15.12</td>\n",
       "      <td>14.60</td>\n",
       "      <td>15.12</td>\n",
       "      <td>14.52</td>\n",
       "      <td>0.60</td>\n",
       "      <td>4.1322</td>\n",
       "      <td>2733425.47</td>\n",
       "      <td>4084497.902</td>\n",
       "    </tr>\n",
       "  </tbody>\n",
       "</table>\n",
       "</div>"
      ],
      "text/plain": [
       "  trade_date   open   high    low  close  pre_close  change  pct_chg  \\\n",
       "0   20190816  15.09  15.14  14.78  14.90      14.94   -0.04  -0.2677   \n",
       "1   20190815  14.64  14.96  14.60  14.94      14.97   -0.03  -0.2004   \n",
       "2   20190814  15.14  15.22  14.80  14.97      14.89    0.08   0.5373   \n",
       "3   20190813  15.00  15.08  14.74  14.89      15.12   -0.23  -1.5212   \n",
       "4   20190812  14.61  15.12  14.60  15.12      14.52    0.60   4.1322   \n",
       "\n",
       "          vol       amount  \n",
       "0   986902.93  1474900.257  \n",
       "1   897376.26  1333117.725  \n",
       "2  1360546.54  2038261.151  \n",
       "3  1293736.44  1925835.288  \n",
       "4  2733425.47  4084497.902  "
      ]
     },
     "execution_count": 4,
     "metadata": {},
     "output_type": "execute_result"
    }
   ],
   "source": [
    "sz1.head()"
   ]
  },
  {
   "cell_type": "code",
   "execution_count": 5,
   "metadata": {},
   "outputs": [],
   "source": [
    "sz1['trade_date'] = pd.to_datetime(sz1['trade_date'])\n",
    "sz1 = sz1.set_index('trade_date')"
   ]
  },
  {
   "cell_type": "code",
   "execution_count": 6,
   "metadata": {},
   "outputs": [
    {
     "data": {
      "text/html": [
       "<div>\n",
       "<style scoped>\n",
       "    .dataframe tbody tr th:only-of-type {\n",
       "        vertical-align: middle;\n",
       "    }\n",
       "\n",
       "    .dataframe tbody tr th {\n",
       "        vertical-align: top;\n",
       "    }\n",
       "\n",
       "    .dataframe thead th {\n",
       "        text-align: right;\n",
       "    }\n",
       "</style>\n",
       "<table border=\"1\" class=\"dataframe\">\n",
       "  <thead>\n",
       "    <tr style=\"text-align: right;\">\n",
       "      <th></th>\n",
       "      <th>open</th>\n",
       "      <th>high</th>\n",
       "      <th>low</th>\n",
       "      <th>close</th>\n",
       "      <th>pre_close</th>\n",
       "      <th>change</th>\n",
       "      <th>pct_chg</th>\n",
       "      <th>vol</th>\n",
       "      <th>amount</th>\n",
       "    </tr>\n",
       "    <tr>\n",
       "      <th>trade_date</th>\n",
       "      <th></th>\n",
       "      <th></th>\n",
       "      <th></th>\n",
       "      <th></th>\n",
       "      <th></th>\n",
       "      <th></th>\n",
       "      <th></th>\n",
       "      <th></th>\n",
       "      <th></th>\n",
       "    </tr>\n",
       "  </thead>\n",
       "  <tbody>\n",
       "    <tr>\n",
       "      <th>2019-08-12</th>\n",
       "      <td>14.61</td>\n",
       "      <td>15.12</td>\n",
       "      <td>14.60</td>\n",
       "      <td>15.12</td>\n",
       "      <td>14.52</td>\n",
       "      <td>0.60</td>\n",
       "      <td>4.1322</td>\n",
       "      <td>2733425.47</td>\n",
       "      <td>4084497.902</td>\n",
       "    </tr>\n",
       "    <tr>\n",
       "      <th>2019-08-13</th>\n",
       "      <td>15.00</td>\n",
       "      <td>15.08</td>\n",
       "      <td>14.74</td>\n",
       "      <td>14.89</td>\n",
       "      <td>15.12</td>\n",
       "      <td>-0.23</td>\n",
       "      <td>-1.5212</td>\n",
       "      <td>1293736.44</td>\n",
       "      <td>1925835.288</td>\n",
       "    </tr>\n",
       "    <tr>\n",
       "      <th>2019-08-14</th>\n",
       "      <td>15.14</td>\n",
       "      <td>15.22</td>\n",
       "      <td>14.80</td>\n",
       "      <td>14.97</td>\n",
       "      <td>14.89</td>\n",
       "      <td>0.08</td>\n",
       "      <td>0.5373</td>\n",
       "      <td>1360546.54</td>\n",
       "      <td>2038261.151</td>\n",
       "    </tr>\n",
       "    <tr>\n",
       "      <th>2019-08-15</th>\n",
       "      <td>14.64</td>\n",
       "      <td>14.96</td>\n",
       "      <td>14.60</td>\n",
       "      <td>14.94</td>\n",
       "      <td>14.97</td>\n",
       "      <td>-0.03</td>\n",
       "      <td>-0.2004</td>\n",
       "      <td>897376.26</td>\n",
       "      <td>1333117.725</td>\n",
       "    </tr>\n",
       "    <tr>\n",
       "      <th>2019-08-16</th>\n",
       "      <td>15.09</td>\n",
       "      <td>15.14</td>\n",
       "      <td>14.78</td>\n",
       "      <td>14.90</td>\n",
       "      <td>14.94</td>\n",
       "      <td>-0.04</td>\n",
       "      <td>-0.2677</td>\n",
       "      <td>986902.93</td>\n",
       "      <td>1474900.257</td>\n",
       "    </tr>\n",
       "  </tbody>\n",
       "</table>\n",
       "</div>"
      ],
      "text/plain": [
       "             open   high    low  close  pre_close  change  pct_chg  \\\n",
       "trade_date                                                           \n",
       "2019-08-12  14.61  15.12  14.60  15.12      14.52    0.60   4.1322   \n",
       "2019-08-13  15.00  15.08  14.74  14.89      15.12   -0.23  -1.5212   \n",
       "2019-08-14  15.14  15.22  14.80  14.97      14.89    0.08   0.5373   \n",
       "2019-08-15  14.64  14.96  14.60  14.94      14.97   -0.03  -0.2004   \n",
       "2019-08-16  15.09  15.14  14.78  14.90      14.94   -0.04  -0.2677   \n",
       "\n",
       "                   vol       amount  \n",
       "trade_date                           \n",
       "2019-08-12  2733425.47  4084497.902  \n",
       "2019-08-13  1293736.44  1925835.288  \n",
       "2019-08-14  1360546.54  2038261.151  \n",
       "2019-08-15   897376.26  1333117.725  \n",
       "2019-08-16   986902.93  1474900.257  "
      ]
     },
     "execution_count": 6,
     "metadata": {},
     "output_type": "execute_result"
    }
   ],
   "source": [
    "sz1 = sz1[::-1]\n",
    "sz1.tail()"
   ]
  },
  {
   "cell_type": "code",
   "execution_count": 7,
   "metadata": {},
   "outputs": [],
   "source": [
    "train_mean =  sz1[:'2018-08-17'].mean()\n",
    "train_std = sz1[:'2018-08-17'].std()"
   ]
  },
  {
   "cell_type": "code",
   "execution_count": 8,
   "metadata": {},
   "outputs": [],
   "source": [
    "sz1 -= train_mean\n",
    "sz1 /= train_std"
   ]
  },
  {
   "cell_type": "code",
   "execution_count": 9,
   "metadata": {},
   "outputs": [],
   "source": [
    "train_data = sz1[:'2018-08-17']"
   ]
  },
  {
   "cell_type": "code",
   "execution_count": 10,
   "metadata": {},
   "outputs": [
    {
     "data": {
      "text/html": [
       "<div>\n",
       "<style scoped>\n",
       "    .dataframe tbody tr th:only-of-type {\n",
       "        vertical-align: middle;\n",
       "    }\n",
       "\n",
       "    .dataframe tbody tr th {\n",
       "        vertical-align: top;\n",
       "    }\n",
       "\n",
       "    .dataframe thead th {\n",
       "        text-align: right;\n",
       "    }\n",
       "</style>\n",
       "<table border=\"1\" class=\"dataframe\">\n",
       "  <thead>\n",
       "    <tr style=\"text-align: right;\">\n",
       "      <th></th>\n",
       "      <th>open</th>\n",
       "      <th>high</th>\n",
       "      <th>low</th>\n",
       "      <th>close</th>\n",
       "      <th>pre_close</th>\n",
       "      <th>change</th>\n",
       "      <th>pct_chg</th>\n",
       "      <th>vol</th>\n",
       "      <th>amount</th>\n",
       "    </tr>\n",
       "    <tr>\n",
       "      <th>trade_date</th>\n",
       "      <th></th>\n",
       "      <th></th>\n",
       "      <th></th>\n",
       "      <th></th>\n",
       "      <th></th>\n",
       "      <th></th>\n",
       "      <th></th>\n",
       "      <th></th>\n",
       "      <th></th>\n",
       "    </tr>\n",
       "  </thead>\n",
       "  <tbody>\n",
       "    <tr>\n",
       "      <th>2018-08-13</th>\n",
       "      <td>-1.493230</td>\n",
       "      <td>-1.515349</td>\n",
       "      <td>-1.569139</td>\n",
       "      <td>-1.524104</td>\n",
       "      <td>-1.420351</td>\n",
       "      <td>-0.679116</td>\n",
       "      <td>-0.904620</td>\n",
       "      <td>-0.599880</td>\n",
       "      <td>-0.755465</td>\n",
       "    </tr>\n",
       "    <tr>\n",
       "      <th>2018-08-14</th>\n",
       "      <td>-1.550386</td>\n",
       "      <td>-1.588561</td>\n",
       "      <td>-1.543068</td>\n",
       "      <td>-1.555519</td>\n",
       "      <td>-1.533907</td>\n",
       "      <td>-0.172748</td>\n",
       "      <td>-0.244041</td>\n",
       "      <td>-1.200027</td>\n",
       "      <td>-1.127814</td>\n",
       "    </tr>\n",
       "    <tr>\n",
       "      <th>2018-08-15</th>\n",
       "      <td>-1.556736</td>\n",
       "      <td>-1.600763</td>\n",
       "      <td>-1.666906</td>\n",
       "      <td>-1.687461</td>\n",
       "      <td>-1.565450</td>\n",
       "      <td>-0.795970</td>\n",
       "      <td>-1.085680</td>\n",
       "      <td>-0.828729</td>\n",
       "      <td>-0.906468</td>\n",
       "    </tr>\n",
       "    <tr>\n",
       "      <th>2018-08-16</th>\n",
       "      <td>-1.740905</td>\n",
       "      <td>-1.680075</td>\n",
       "      <td>-1.738601</td>\n",
       "      <td>-1.693744</td>\n",
       "      <td>-1.697933</td>\n",
       "      <td>-0.016942</td>\n",
       "      <td>-0.036703</td>\n",
       "      <td>-0.878457</td>\n",
       "      <td>-0.943889</td>\n",
       "    </tr>\n",
       "    <tr>\n",
       "      <th>2018-08-17</th>\n",
       "      <td>-1.645646</td>\n",
       "      <td>-1.649570</td>\n",
       "      <td>-1.647352</td>\n",
       "      <td>-1.674895</td>\n",
       "      <td>-1.704241</td>\n",
       "      <td>0.138863</td>\n",
       "      <td>0.178574</td>\n",
       "      <td>-0.861138</td>\n",
       "      <td>-0.925665</td>\n",
       "    </tr>\n",
       "  </tbody>\n",
       "</table>\n",
       "</div>"
      ],
      "text/plain": [
       "                open      high       low     close  pre_close    change  \\\n",
       "trade_date                                                                \n",
       "2018-08-13 -1.493230 -1.515349 -1.569139 -1.524104  -1.420351 -0.679116   \n",
       "2018-08-14 -1.550386 -1.588561 -1.543068 -1.555519  -1.533907 -0.172748   \n",
       "2018-08-15 -1.556736 -1.600763 -1.666906 -1.687461  -1.565450 -0.795970   \n",
       "2018-08-16 -1.740905 -1.680075 -1.738601 -1.693744  -1.697933 -0.016942   \n",
       "2018-08-17 -1.645646 -1.649570 -1.647352 -1.674895  -1.704241  0.138863   \n",
       "\n",
       "             pct_chg       vol    amount  \n",
       "trade_date                                \n",
       "2018-08-13 -0.904620 -0.599880 -0.755465  \n",
       "2018-08-14 -0.244041 -1.200027 -1.127814  \n",
       "2018-08-15 -1.085680 -0.828729 -0.906468  \n",
       "2018-08-16 -0.036703 -0.878457 -0.943889  \n",
       "2018-08-17  0.178574 -0.861138 -0.925665  "
      ]
     },
     "execution_count": 10,
     "metadata": {},
     "output_type": "execute_result"
    }
   ],
   "source": [
    "train_data.tail()"
   ]
  },
  {
   "cell_type": "code",
   "execution_count": 11,
   "metadata": {},
   "outputs": [],
   "source": [
    "def generator(data, lookback, delay, min_index, max_index, shuffle=False, batch_size=128, step=6):\n",
    "    if max_index is None:\n",
    "        max_index = len(data) - delay - 1\n",
    "    i = min_index + lookback\n",
    "    while 1:\n",
    "        if shuffle:\n",
    "            rows = np.random.randint(\n",
    "                min_index + lookback, max_index, size=batch_size)\n",
    "        else:\n",
    "            if i + batch_size >= max_index:\n",
    "                i = min_index + lookback\n",
    "            rows = np.arange(i, min(i + batch_size, max_index))\n",
    "            i += len(rows)\n",
    "\n",
    "        samples = np.zeros((len(rows),\n",
    "                           lookback // step,\n",
    "                           data.shape[-1]))\n",
    "        targets = np.zeros((len(rows),))\n",
    "        for j, row in enumerate(rows):\n",
    "            indices = range(rows[j] - lookback, rows[j], step)\n",
    "            samples[j] = data[indices]\n",
    "            targets[j] = data[rows[j] + delay][3]\n",
    "        yield samples, targets"
   ]
  },
  {
   "cell_type": "code",
   "execution_count": 12,
   "metadata": {},
   "outputs": [
    {
     "data": {
      "text/plain": [
       "488"
      ]
     },
     "execution_count": 12,
     "metadata": {},
     "output_type": "execute_result"
    }
   ],
   "source": [
    "len(sz1)"
   ]
  },
  {
   "cell_type": "code",
   "execution_count": 13,
   "metadata": {},
   "outputs": [
    {
     "data": {
      "text/plain": [
       "246"
      ]
     },
     "execution_count": 13,
     "metadata": {},
     "output_type": "execute_result"
    }
   ],
   "source": [
    "len(train_data)"
   ]
  },
  {
   "cell_type": "code",
   "execution_count": 14,
   "metadata": {},
   "outputs": [
    {
     "data": {
      "text/plain": [
       "(488, 9)"
      ]
     },
     "execution_count": 14,
     "metadata": {},
     "output_type": "execute_result"
    }
   ],
   "source": [
    "sz1.shape"
   ]
  },
  {
   "cell_type": "code",
   "execution_count": 15,
   "metadata": {},
   "outputs": [],
   "source": [
    "lookback = 100\n",
    "step = 1\n",
    "delay = 1\n",
    "batch_size = 8\n",
    "\n",
    "train_size = len(train_data)\n",
    "val_size = 120\n",
    "\n",
    "sz1_values = sz1.values\n",
    "train_gen = generator(sz1_values, \n",
    "                      lookback=lookback,\n",
    "                      delay=delay, \n",
    "                      min_index=0,\n",
    "                      max_index=train_size, \n",
    "                      shuffle=True, \n",
    "                      step=step, \n",
    "                      batch_size=batch_size)\n",
    "val_gen = generator(sz1_values,\n",
    "                    lookback=lookback,\n",
    "                    delay=delay,\n",
    "                    min_index=train_size,\n",
    "                    max_index=train_size+val_size,\n",
    "                    step=step,\n",
    "                    batch_size=batch_size)\n",
    "test_gen = generator(sz1_values,\n",
    "                     lookback=lookback,\n",
    "                     delay=delay,\n",
    "                     min_index=train_size+val_size,\n",
    "                     max_index=None,\n",
    "                     step=step,\n",
    "                     batch_size=batch_size)\n",
    "# This is how many steps to draw from `val_gen`\n",
    "# in order to see the whole validation set:\n",
    "val_steps = (val_size - lookback) // batch_size\n",
    "\n",
    "# This is how many steps to draw from `test_gen`\n",
    "# in order to see the whole test set:\n",
    "test_steps = (len(sz1_values) - val_size - train_size - 1 - lookback) // batch_size"
   ]
  },
  {
   "cell_type": "code",
   "execution_count": 24,
   "metadata": {},
   "outputs": [
    {
     "data": {
      "text/plain": [
       "(array([[[ 0.91366815,  1.00435482,  0.99886112, ...,  0.2717746 ,\n",
       "           0.31201808,  0.41411356],\n",
       "         [ 1.00892796,  0.91894114,  0.99886112, ...,  0.08943842,\n",
       "           0.06057982,  0.17667215],\n",
       "         [ 1.00892796,  0.86403234,  0.80984586, ..., -1.21144372,\n",
       "           0.88957242,  0.87703617],\n",
       "         ...,\n",
       "         [ 1.55508425,  1.60225062,  1.65715564, ...,  1.10670227,\n",
       "          -0.18354968,  0.09194483],\n",
       "         [ 1.72020127,  1.59004866,  1.80706429, ...,  0.11694481,\n",
       "          -0.88304313, -0.58116364],\n",
       "         [ 1.76465585,  1.71206821,  1.87224197, ...,  0.21633646,\n",
       "          -0.75896333, -0.45140105]],\n",
       " \n",
       "        [[ 1.00892796,  0.91894114,  0.99886112, ...,  0.08943842,\n",
       "           0.06057982,  0.17667215],\n",
       "         [ 1.00892796,  0.86403234,  0.80984586, ..., -1.21144372,\n",
       "           0.88957242,  0.87703617],\n",
       "         [ 0.64694066,  0.64439715,  0.61431284, ..., -1.61520162,\n",
       "           0.88355132,  0.81376405],\n",
       "         ...,\n",
       "         [ 1.72020127,  1.59004866,  1.80706429, ...,  0.11694481,\n",
       "          -0.88304313, -0.58116364],\n",
       "         [ 1.76465585,  1.71206821,  1.87224197, ...,  0.21633646,\n",
       "          -0.75896333, -0.45140105],\n",
       "         [ 1.80275977,  1.77307799,  1.94393741, ...,  0.28165232,\n",
       "          -0.63366602, -0.31831124]],\n",
       " \n",
       "        [[ 1.00892796,  0.86403234,  0.80984586, ..., -1.21144372,\n",
       "           0.88957242,  0.87703617],\n",
       "         [ 0.64694066,  0.64439715,  0.61431284, ..., -1.61520162,\n",
       "           0.88355132,  0.81376405],\n",
       "         [ 0.52627822,  0.51627662,  0.48395749, ...,  0.0939283 ,\n",
       "          -0.0756172 , -0.03431489],\n",
       "         ...,\n",
       "         [ 1.76465585,  1.71206821,  1.87224197, ...,  0.21633646,\n",
       "          -0.75896333, -0.45140105],\n",
       "         [ 1.80275977,  1.77307799,  1.94393741, ...,  0.28165232,\n",
       "          -0.63366602, -0.31831124],\n",
       "         [ 1.79640912,  1.6327555 ,  1.80706429, ..., -0.77223945,\n",
       "          -0.88394312, -0.58312434]],\n",
       " \n",
       "        ...,\n",
       " \n",
       "        [[ 0.64694066,  0.60779128,  0.60779507, ...,  0.17053974,\n",
       "           0.3172315 ,  0.32867144],\n",
       "         [ 0.55168084,  0.55288249,  0.53609963, ...,  0.05531537,\n",
       "           0.09716352,  0.12751941],\n",
       "         [ 0.54533019,  0.59558933,  0.62734837, ...,  0.24630047,\n",
       "          -0.23047699, -0.14011867],\n",
       "         ...,\n",
       "         [ 1.64399341,  1.5534428 ,  1.71581554, ..., -0.08325634,\n",
       "          -1.04894214, -0.74977204],\n",
       "         [ 1.45982443,  1.36431249,  1.53331805, ..., -1.18960875,\n",
       "          -0.36579602, -0.1220352 ],\n",
       "         [ 1.35186331,  1.21788903,  1.27912512, ..., -1.32439952,\n",
       "          -0.48457932, -0.26170377]],\n",
       " \n",
       "        [[ 0.55168084,  0.55288249,  0.53609963, ...,  0.05531537,\n",
       "           0.09716352,  0.12751941],\n",
       "         [ 0.54533019,  0.59558933,  0.62734837, ...,  0.24630047,\n",
       "          -0.23047699, -0.14011867],\n",
       "         [ 0.55168084,  0.63219519,  0.67297274, ...,  0.28325923,\n",
       "          -0.24912188, -0.14548165],\n",
       "         ...,\n",
       "         [ 1.45982443,  1.36431249,  1.53331805, ..., -1.18960875,\n",
       "          -0.36579602, -0.1220352 ],\n",
       "         [ 1.35186331,  1.21788903,  1.27912512, ..., -1.32439952,\n",
       "          -0.48457932, -0.26170377],\n",
       "         [ 1.03433058,  1.10807144,  1.1226987 , ...,  0.08787878,\n",
       "          -0.50093867, -0.29878217]],\n",
       " \n",
       "        [[ 0.54533019,  0.59558933,  0.62734837, ...,  0.24630047,\n",
       "          -0.23047699, -0.14011867],\n",
       "         [ 0.55168084,  0.63219519,  0.67297274, ...,  0.28325923,\n",
       "          -0.24912188, -0.14548165],\n",
       "         [ 0.67234327,  0.79082061,  0.65993721, ...,  1.5672689 ,\n",
       "           0.43263859,  0.46108766],\n",
       "         ...,\n",
       "         [ 1.35186331,  1.21788903,  1.27912512, ..., -1.32439952,\n",
       "          -0.48457932, -0.26170377],\n",
       "         [ 1.03433058,  1.10807144,  1.1226987 , ...,  0.08787878,\n",
       "          -0.50093867, -0.29878217],\n",
       "         [ 1.28200611,  1.21788903,  1.3443028 , ...,  0.61801484,\n",
       "          -0.63922357, -0.40098268]]]),\n",
       " array([1.66764136, 1.64879247, 1.42260581, 1.17757026, 1.19013618,\n",
       "        1.29694655, 1.82471543, 1.91267691]))"
      ]
     },
     "execution_count": 24,
     "metadata": {},
     "output_type": "execute_result"
    }
   ],
   "source": [
    "next(test_gen)"
   ]
  },
  {
   "cell_type": "code",
   "execution_count": 23,
   "metadata": {},
   "outputs": [
    {
     "data": {
      "text/plain": [
       "2"
      ]
     },
     "execution_count": 23,
     "metadata": {},
     "output_type": "execute_result"
    }
   ],
   "source": [
    "val_steps"
   ]
  },
  {
   "cell_type": "code",
   "execution_count": 17,
   "metadata": {},
   "outputs": [
    {
     "data": {
      "text/plain": [
       "2"
      ]
     },
     "execution_count": 17,
     "metadata": {},
     "output_type": "execute_result"
    }
   ],
   "source": [
    "test_steps"
   ]
  },
  {
   "cell_type": "code",
   "execution_count": 18,
   "metadata": {},
   "outputs": [],
   "source": [
    "import matplotlib.pyplot as plt\n",
    "def plot_loss(history):\n",
    "    loss = history.history['loss']\n",
    "    val_loss = history.history['val_loss']\n",
    "\n",
    "    epochs = range(len(loss))\n",
    "\n",
    "    plt.figure()\n",
    "\n",
    "    plt.plot(epochs, loss, 'r', label='Training loss')\n",
    "    plt.plot(epochs, val_loss, 'b', label='Validation loss')\n",
    "    plt.title('Training and validation loss')\n",
    "    plt.legend()\n",
    "\n",
    "    plt.show()"
   ]
  },
  {
   "cell_type": "code",
   "execution_count": 19,
   "metadata": {},
   "outputs": [],
   "source": [
    "from keras.models import Sequential\n",
    "from keras import layers\n",
    "from keras.optimizers import RMSprop\n",
    "from keras.initializers import Orthogonal"
   ]
  },
  {
   "cell_type": "code",
   "execution_count": 20,
   "metadata": {},
   "outputs": [],
   "source": [
    "def get_model():\n",
    "    model = Sequential()\n",
    "    model.add(\n",
    "        layers.Bidirectional(layers.LSTM(32, \n",
    "                                 dropout=0.2, \n",
    "                                 recurrent_dropout=0.5, \n",
    "                                 kernel_initializer=Orthogonal(seed=7)),\n",
    "                            input_shape=(None, sz1_values.shape[-1])\n",
    "                            )\n",
    "    )\n",
    "    model.add(layers.Dense(16))\n",
    "    model.add(layers.Dense(1))\n",
    "    return model"
   ]
  },
  {
   "cell_type": "code",
   "execution_count": 21,
   "metadata": {},
   "outputs": [
    {
     "name": "stdout",
     "output_type": "stream",
     "text": [
      "WARNING:tensorflow:From c:\\users\\greenwood\\anaconda3\\envs\\tf_gpu_keras\\lib\\site-packages\\tensorflow\\python\\framework\\op_def_library.py:263: colocate_with (from tensorflow.python.framework.ops) is deprecated and will be removed in a future version.\n",
      "Instructions for updating:\n",
      "Colocations handled automatically by placer.\n",
      "WARNING:tensorflow:From c:\\users\\greenwood\\anaconda3\\envs\\tf_gpu_keras\\lib\\site-packages\\keras\\backend\\tensorflow_backend.py:3445: calling dropout (from tensorflow.python.ops.nn_ops) with keep_prob is deprecated and will be removed in a future version.\n",
      "Instructions for updating:\n",
      "Please use `rate` instead of `keep_prob`. Rate should be set to `rate = 1 - keep_prob`.\n",
      "_________________________________________________________________\n",
      "Layer (type)                 Output Shape              Param #   \n",
      "=================================================================\n",
      "bidirectional_1 (Bidirection (None, 64)                10752     \n",
      "_________________________________________________________________\n",
      "dense_1 (Dense)              (None, 16)                1040      \n",
      "_________________________________________________________________\n",
      "dense_2 (Dense)              (None, 1)                 17        \n",
      "=================================================================\n",
      "Total params: 11,809\n",
      "Trainable params: 11,809\n",
      "Non-trainable params: 0\n",
      "_________________________________________________________________\n"
     ]
    }
   ],
   "source": [
    "model = get_model()\n",
    "model.compile(optimizer=RMSprop(), loss='mse')\n",
    "model.summary()"
   ]
  },
  {
   "cell_type": "code",
   "execution_count": 22,
   "metadata": {},
   "outputs": [
    {
     "name": "stdout",
     "output_type": "stream",
     "text": [
      "WARNING:tensorflow:From c:\\users\\greenwood\\anaconda3\\envs\\tf_gpu_keras\\lib\\site-packages\\tensorflow\\python\\ops\\math_ops.py:3066: to_int32 (from tensorflow.python.ops.math_ops) is deprecated and will be removed in a future version.\n",
      "Instructions for updating:\n",
      "Use tf.cast instead.\n",
      "Epoch 1/20\n",
      "30/30 [==============================] - 13s 432ms/step - loss: 0.2337 - val_loss: 0.1292\n",
      "Epoch 2/20\n",
      "30/30 [==============================] - 10s 325ms/step - loss: 0.1164 - val_loss: 0.0655\n",
      "Epoch 3/20\n",
      "30/30 [==============================] - 10s 340ms/step - loss: 0.0911 - val_loss: 0.1093\n",
      "Epoch 4/20\n",
      "30/30 [==============================] - 10s 329ms/step - loss: 0.1016 - val_loss: 0.0845\n",
      "Epoch 5/20\n",
      "30/30 [==============================] - 10s 329ms/step - loss: 0.0883 - val_loss: 0.0680\n",
      "Epoch 6/20\n",
      "30/30 [==============================] - 10s 336ms/step - loss: 0.0887 - val_loss: 0.1350\n",
      "Epoch 7/20\n",
      "30/30 [==============================] - 10s 335ms/step - loss: 0.0902 - val_loss: 0.0871\n",
      "Epoch 8/20\n",
      "30/30 [==============================] - 10s 335ms/step - loss: 0.0849 - val_loss: 0.1834\n",
      "Epoch 9/20\n",
      "30/30 [==============================] - 10s 335ms/step - loss: 0.0836 - val_loss: 0.1478\n",
      "Epoch 10/20\n",
      "30/30 [==============================] - 10s 332ms/step - loss: 0.0868 - val_loss: 0.1175\n",
      "Epoch 11/20\n",
      "30/30 [==============================] - 10s 334ms/step - loss: 0.0733 - val_loss: 0.1274\n",
      "Epoch 12/20\n",
      "30/30 [==============================] - 10s 333ms/step - loss: 0.0682 - val_loss: 0.1100\n",
      "Epoch 13/20\n",
      "30/30 [==============================] - 10s 339ms/step - loss: 0.0686 - val_loss: 0.0747\n",
      "Epoch 14/20\n",
      "30/30 [==============================] - 10s 349ms/step - loss: 0.0575 - val_loss: 0.0754\n",
      "Epoch 15/20\n",
      "30/30 [==============================] - 10s 341ms/step - loss: 0.0662 - val_loss: 0.0789\n",
      "Epoch 16/20\n",
      "30/30 [==============================] - 10s 335ms/step - loss: 0.0696 - val_loss: 0.0684\n",
      "Epoch 17/20\n",
      "30/30 [==============================] - 11s 369ms/step - loss: 0.0609 - val_loss: 0.0839\n",
      "Epoch 18/20\n",
      "30/30 [==============================] - 9s 312ms/step - loss: 0.0625 - val_loss: 0.0854\n",
      "Epoch 19/20\n",
      "30/30 [==============================] - 9s 314ms/step - loss: 0.0583 - val_loss: 0.0838\n",
      "Epoch 20/20\n",
      "30/30 [==============================] - 9s 314ms/step - loss: 0.0657 - val_loss: 0.0742\n"
     ]
    }
   ],
   "source": [
    "history = model.fit_generator(train_gen, \n",
    "                              steps_per_epoch=30 ,\n",
    "                              epochs=20, \n",
    "                              validation_data=val_gen, \n",
    "                              validation_steps=val_steps)"
   ]
  },
  {
   "cell_type": "code",
   "execution_count": 23,
   "metadata": {},
   "outputs": [
    {
     "data": {
      "image/png": "[encoded data removed]",
      "text/plain": [
       "<Figure size 432x288 with 1 Axes>"
      ]
     },
     "metadata": {
      "needs_background": "light"
     },
     "output_type": "display_data"
    }
   ],
   "source": [
    "plot_loss(history)"
   ]
  },
  {
   "cell_type": "code",
   "execution_count": 24,
   "metadata": {},
   "outputs": [
    {
     "data": {
      "text/plain": [
       "0.4380497336387634"
      ]
     },
     "execution_count": 24,
     "metadata": {},
     "output_type": "execute_result"
    }
   ],
   "source": [
    "model.evaluate_generator(test_gen, steps=test_steps)"
   ]
  },
  {
   "cell_type": "code",
   "execution_count": 25,
   "metadata": {},
   "outputs": [],
   "source": [
    "val_set = sz1_values[train_size: train_size+val_size]\n",
    "real_val = val_set[lookback: , 3]\n",
    "pred_val = []\n",
    "for i in range(val_size - lookback):\n",
    "    window = val_set[i: i + lookback]\n",
    "    window = window.reshape(1, len(window), -1)\n",
    "    pred_val.append(model.predict(window)[0, 0])\n",
    "pred_val = np.array(pred_val)"
   ]
  },
  {
   "cell_type": "code",
   "execution_count": 26,
   "metadata": {},
   "outputs": [
    {
     "data": {
      "text/plain": [
       "20"
      ]
     },
     "execution_count": 26,
     "metadata": {},
     "output_type": "execute_result"
    }
   ],
   "source": [
    "len(pred_val)"
   ]
  },
  {
   "cell_type": "code",
   "execution_count": 27,
   "metadata": {},
   "outputs": [
    {
     "name": "stderr",
     "output_type": "stream",
     "text": [
      "c:\\users\\greenwood\\anaconda3\\envs\\tf_gpu_keras\\lib\\site-packages\\pandas\\plotting\\_matplotlib\\converter.py:102: FutureWarning: Using an implicitly registered datetime converter for a matplotlib plotting method. The converter was registered by pandas on import. Future versions of pandas will require you to explicitly register matplotlib converters.\n",
      "\n",
      "To register the converters:\n",
      "\t>>> from pandas.plotting import register_matplotlib_converters\n",
      "\t>>> register_matplotlib_converters()\n",
      "  warnings.warn(msg, FutureWarning)\n"
     ]
    },
    {
     "data": {
      "image/png": "[encoded data removed]",
      "text/plain": [
       "<Figure size 432x288 with 1 Axes>"
      ]
     },
     "metadata": {
      "needs_background": "light"
     },
     "output_type": "display_data"
    }
   ],
   "source": [
    "date = sz1.iloc[train_size + lookback: train_size + val_size].index\n",
    "real_val = real_val * train_std['close'] + train_mean['close']\n",
    "pred_val = pred_val * train_std['close'] + train_mean['close']\n",
    "plt.figure()\n",
    "\n",
    "plt.plot(date, real_val, 'b', label='real price')\n",
    "plt.plot(date, pred_val, 'r', label='lstm predict')\n",
    "plt.title('LSTM on validation set')\n",
    "plt.legend()\n",
    "\n",
    "plt.show()"
   ]
  },
  {
   "cell_type": "code",
   "execution_count": null,
   "metadata": {},
   "outputs": [],
   "source": []
  }
 ],
 "metadata": {
  "kernelspec": {
   "display_name": "Python 3",
   "language": "python",
   "name": "python3"
  },
  "language_info": {
   "codemirror_mode": {
    "name": "ipython",
    "version": 3
   },
   "file_extension": ".py",
   "mimetype": "text/x-python",
   "name": "python",
   "nbconvert_exporter": "python",
   "pygments_lexer": "ipython3",
   "version": "3.7.3"
  }
 },
 "nbformat": 4,
 "nbformat_minor": 2
}
