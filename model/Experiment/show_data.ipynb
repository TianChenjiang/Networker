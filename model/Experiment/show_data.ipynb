{
 "cells": [
  {
   "cell_type": "code",
   "execution_count": 1,
   "metadata": {},
   "outputs": [
    {
     "name": "stderr",
     "output_type": "stream",
     "text": [
      "Using TensorFlow backend.\n"
     ]
    }
   ],
   "source": [
    "import tushare as ts\n",
    "import seaborn as sns\n",
    "import keras\n",
    "# import jtplot submodule from jupyterthemes\n",
    "# from jupyterthemes import jtplot\n",
    "\n",
    "# # currently installed theme will be used to\n",
    "# # set plot style if no arguments provided\n",
    "# jtplot.style()\n",
    "from IPython.display import set_matplotlib_formats\n",
    "set_matplotlib_formats('retina')"
   ]
  },
  {
   "cell_type": "code",
   "execution_count": 2,
   "metadata": {},
   "outputs": [],
   "source": [
    "ts.set_token('53cd3b985c649c978160c6ec04bce24f4fbd2ebcb4673e8f2fba9a43')"
   ]
  },
  {
   "cell_type": "code",
   "execution_count": 3,
   "metadata": {},
   "outputs": [
    {
     "name": "stderr",
     "output_type": "stream",
     "text": [
      "c:\\users\\greenwood\\anaconda3\\envs\\tf_gpu_keras\\lib\\site-packages\\tushare\\util\\upass.py:28: FutureWarning: \n",
      ".ix is deprecated. Please use\n",
      ".loc for label based indexing or\n",
      ".iloc for positional indexing\n",
      "\n",
      "See the documentation here:\n",
      "http://pandas.pydata.org/pandas-docs/stable/user_guide/indexing.html#ix-indexer-is-deprecated\n",
      "  return str(df.ix[0]['token'])\n"
     ]
    }
   ],
   "source": [
    "pro = ts.pro_api()\n",
    "\n",
    "sz1 = pro.daily(ts_code='000001.SZ', start_date='20150817', end_date='20190817')"
   ]
  },
  {
   "cell_type": "code",
   "execution_count": 4,
   "metadata": {},
   "outputs": [
    {
     "data": {
      "text/html": [
       "<div>\n",
       "<style scoped>\n",
       "    .dataframe tbody tr th:only-of-type {\n",
       "        vertical-align: middle;\n",
       "    }\n",
       "\n",
       "    .dataframe tbody tr th {\n",
       "        vertical-align: top;\n",
       "    }\n",
       "\n",
       "    .dataframe thead th {\n",
       "        text-align: right;\n",
       "    }\n",
       "</style>\n",
       "<table border=\"1\" class=\"dataframe\">\n",
       "  <thead>\n",
       "    <tr style=\"text-align: right;\">\n",
       "      <th></th>\n",
       "      <th>ts_code</th>\n",
       "      <th>trade_date</th>\n",
       "      <th>open</th>\n",
       "      <th>high</th>\n",
       "      <th>low</th>\n",
       "      <th>close</th>\n",
       "      <th>pre_close</th>\n",
       "      <th>change</th>\n",
       "      <th>pct_chg</th>\n",
       "      <th>vol</th>\n",
       "      <th>amount</th>\n",
       "    </tr>\n",
       "  </thead>\n",
       "  <tbody>\n",
       "    <tr>\n",
       "      <th>0</th>\n",
       "      <td>000001.SZ</td>\n",
       "      <td>20190816</td>\n",
       "      <td>15.09</td>\n",
       "      <td>15.14</td>\n",
       "      <td>14.78</td>\n",
       "      <td>14.90</td>\n",
       "      <td>14.94</td>\n",
       "      <td>-0.04</td>\n",
       "      <td>-0.2677</td>\n",
       "      <td>986902.93</td>\n",
       "      <td>1474900.257</td>\n",
       "    </tr>\n",
       "    <tr>\n",
       "      <th>1</th>\n",
       "      <td>000001.SZ</td>\n",
       "      <td>20190815</td>\n",
       "      <td>14.64</td>\n",
       "      <td>14.96</td>\n",
       "      <td>14.60</td>\n",
       "      <td>14.94</td>\n",
       "      <td>14.97</td>\n",
       "      <td>-0.03</td>\n",
       "      <td>-0.2004</td>\n",
       "      <td>897376.26</td>\n",
       "      <td>1333117.725</td>\n",
       "    </tr>\n",
       "    <tr>\n",
       "      <th>2</th>\n",
       "      <td>000001.SZ</td>\n",
       "      <td>20190814</td>\n",
       "      <td>15.14</td>\n",
       "      <td>15.22</td>\n",
       "      <td>14.80</td>\n",
       "      <td>14.97</td>\n",
       "      <td>14.89</td>\n",
       "      <td>0.08</td>\n",
       "      <td>0.5373</td>\n",
       "      <td>1360546.54</td>\n",
       "      <td>2038261.151</td>\n",
       "    </tr>\n",
       "    <tr>\n",
       "      <th>3</th>\n",
       "      <td>000001.SZ</td>\n",
       "      <td>20190813</td>\n",
       "      <td>15.00</td>\n",
       "      <td>15.08</td>\n",
       "      <td>14.74</td>\n",
       "      <td>14.89</td>\n",
       "      <td>15.12</td>\n",
       "      <td>-0.23</td>\n",
       "      <td>-1.5212</td>\n",
       "      <td>1293736.44</td>\n",
       "      <td>1925835.288</td>\n",
       "    </tr>\n",
       "    <tr>\n",
       "      <th>4</th>\n",
       "      <td>000001.SZ</td>\n",
       "      <td>20190812</td>\n",
       "      <td>14.61</td>\n",
       "      <td>15.12</td>\n",
       "      <td>14.60</td>\n",
       "      <td>15.12</td>\n",
       "      <td>14.52</td>\n",
       "      <td>0.60</td>\n",
       "      <td>4.1322</td>\n",
       "      <td>2733425.47</td>\n",
       "      <td>4084497.902</td>\n",
       "    </tr>\n",
       "  </tbody>\n",
       "</table>\n",
       "</div>"
      ],
      "text/plain": [
       "     ts_code trade_date   open   high    low  close  pre_close  change  \\\n",
       "0  000001.SZ   20190816  15.09  15.14  14.78  14.90      14.94   -0.04   \n",
       "1  000001.SZ   20190815  14.64  14.96  14.60  14.94      14.97   -0.03   \n",
       "2  000001.SZ   20190814  15.14  15.22  14.80  14.97      14.89    0.08   \n",
       "3  000001.SZ   20190813  15.00  15.08  14.74  14.89      15.12   -0.23   \n",
       "4  000001.SZ   20190812  14.61  15.12  14.60  15.12      14.52    0.60   \n",
       "\n",
       "   pct_chg         vol       amount  \n",
       "0  -0.2677   986902.93  1474900.257  \n",
       "1  -0.2004   897376.26  1333117.725  \n",
       "2   0.5373  1360546.54  2038261.151  \n",
       "3  -1.5212  1293736.44  1925835.288  \n",
       "4   4.1322  2733425.47  4084497.902  "
      ]
     },
     "execution_count": 4,
     "metadata": {},
     "output_type": "execute_result"
    }
   ],
   "source": [
    "sz1.head()"
   ]
  },
  {
   "cell_type": "code",
   "execution_count": 5,
   "metadata": {},
   "outputs": [
    {
     "name": "stdout",
     "output_type": "stream",
     "text": [
      "<class 'pandas.core.frame.DataFrame'>\n",
      "RangeIndex: 976 entries, 0 to 975\n",
      "Data columns (total 11 columns):\n",
      "ts_code       976 non-null object\n",
      "trade_date    976 non-null object\n",
      "open          976 non-null float64\n",
      "high          976 non-null float64\n",
      "low           976 non-null float64\n",
      "close         976 non-null float64\n",
      "pre_close     976 non-null float64\n",
      "change        976 non-null float64\n",
      "pct_chg       976 non-null float64\n",
      "vol           976 non-null float64\n",
      "amount        976 non-null float64\n",
      "dtypes: float64(9), object(2)\n",
      "memory usage: 84.0+ KB\n"
     ]
    }
   ],
   "source": [
    "sz1.info()"
   ]
  },
  {
   "cell_type": "code",
   "execution_count": 6,
   "metadata": {},
   "outputs": [
    {
     "data": {
      "text/plain": [
       "<matplotlib.axes._subplots.AxesSubplot at 0x1fbea57c2b0>"
      ]
     },
     "execution_count": 6,
     "metadata": {},
     "output_type": "execute_result"
    },
    {
     "data": {
      "image/png": "[encoded data removed]",
      "text/plain": [
       "<Figure size 432x288 with 1 Axes>"
      ]
     },
     "metadata": {
      "needs_background": "light"
     },
     "output_type": "display_data"
    }
   ],
   "source": [
    "sns.lineplot(x='trade_date', y='close', data=sz1)"
   ]
  },
  {
   "cell_type": "code",
   "execution_count": 7,
   "metadata": {},
   "outputs": [
    {
     "data": {
      "text/plain": [
       "<matplotlib.axes._subplots.AxesSubplot at 0x1fbec5902e8>"
      ]
     },
     "execution_count": 7,
     "metadata": {},
     "output_type": "execute_result"
    },
    {
     "data": {
      "image/png": "[encoded data removed]",
      "text/plain": [
       "<Figure size 432x288 with 1 Axes>"
      ]
     },
     "metadata": {
      "needs_background": "light"
     },
     "output_type": "display_data"
    }
   ],
   "source": [
    "sns.lineplot(x='trade_date', y='close', data=sz1[sz1['trade_date'] > '20180718'])"
   ]
  },
  {
   "cell_type": "code",
   "execution_count": null,
   "metadata": {},
   "outputs": [],
   "source": []
  }
 ],
 "metadata": {
  "kernelspec": {
   "display_name": "Python 3",
   "language": "python",
   "name": "python3"
  },
  "language_info": {
   "codemirror_mode": {
    "name": "ipython",
    "version": 3
   },
   "file_extension": ".py",
   "mimetype": "text/x-python",
   "name": "python",
   "nbconvert_exporter": "python",
   "pygments_lexer": "ipython3",
   "version": "3.7.3"
  }
 },
 "nbformat": 4,
 "nbformat_minor": 2
}
