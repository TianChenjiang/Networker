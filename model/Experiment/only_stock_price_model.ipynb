{
 "cells": [
  {
   "cell_type": "code",
   "execution_count": 12,
   "metadata": {},
   "outputs": [],
   "source": [
    "import tushare as ts\n",
    "import seaborn as sns\n",
    "import keras\n",
    "import numpy as np\n",
    "import pandas as pd\n",
    "import random\n",
    "# import jtplot submodule from jupyterthemes\n",
    "# from jupyterthemes import jtplot\n",
    "\n",
    "# # currently installed theme will be used to\n",
    "# # set plot style if no arguments provided\n",
    "# jtplot.style()\n",
    "from IPython.display import set_matplotlib_formats\n",
    "set_matplotlib_formats('retina')"
   ]
  },
  {
   "cell_type": "code",
   "execution_count": 2,
   "metadata": {},
   "outputs": [
    {
     "name": "stderr",
     "output_type": "stream",
     "text": [
      "C:\\Users\\GreenWood\\Anaconda3\\envs\\tf_gpu_keras\\lib\\site-packages\\tushare\\util\\upass.py:28: FutureWarning: \n",
      ".ix is deprecated. Please use\n",
      ".loc for label based indexing or\n",
      ".iloc for positional indexing\n",
      "\n",
      "See the documentation here:\n",
      "http://pandas.pydata.org/pandas-docs/stable/user_guide/indexing.html#ix-indexer-is-deprecated\n",
      "  return str(df.ix[0]['token'])\n"
     ]
    }
   ],
   "source": [
    "ts.set_token('53cd3b985c649c978160c6ec04bce24f4fbd2ebcb4673e8f2fba9a43')\n",
    "\n",
    "pro = ts.pro_api()\n",
    "\n",
    "code_df = pro.stock_basic(exchange='', list_status='L', fields='ts_code')"
   ]
  },
  {
   "cell_type": "code",
   "execution_count": 3,
   "metadata": {},
   "outputs": [
    {
     "data": {
      "text/html": [
       "<div>\n",
       "<style scoped>\n",
       "    .dataframe tbody tr th:only-of-type {\n",
       "        vertical-align: middle;\n",
       "    }\n",
       "\n",
       "    .dataframe tbody tr th {\n",
       "        vertical-align: top;\n",
       "    }\n",
       "\n",
       "    .dataframe thead th {\n",
       "        text-align: right;\n",
       "    }\n",
       "</style>\n",
       "<table border=\"1\" class=\"dataframe\">\n",
       "  <thead>\n",
       "    <tr style=\"text-align: right;\">\n",
       "      <th></th>\n",
       "      <th>ts_code</th>\n",
       "    </tr>\n",
       "  </thead>\n",
       "  <tbody>\n",
       "    <tr>\n",
       "      <th>0</th>\n",
       "      <td>000001.SZ</td>\n",
       "    </tr>\n",
       "    <tr>\n",
       "      <th>1</th>\n",
       "      <td>000002.SZ</td>\n",
       "    </tr>\n",
       "    <tr>\n",
       "      <th>2</th>\n",
       "      <td>000004.SZ</td>\n",
       "    </tr>\n",
       "    <tr>\n",
       "      <th>3</th>\n",
       "      <td>000005.SZ</td>\n",
       "    </tr>\n",
       "    <tr>\n",
       "      <th>4</th>\n",
       "      <td>000006.SZ</td>\n",
       "    </tr>\n",
       "  </tbody>\n",
       "</table>\n",
       "</div>"
      ],
      "text/plain": [
       "     ts_code\n",
       "0  000001.SZ\n",
       "1  000002.SZ\n",
       "2  000004.SZ\n",
       "3  000005.SZ\n",
       "4  000006.SZ"
      ]
     },
     "execution_count": 3,
     "metadata": {},
     "output_type": "execute_result"
    }
   ],
   "source": [
    "code_df.head()"
   ]
  },
  {
   "cell_type": "code",
   "execution_count": 4,
   "metadata": {},
   "outputs": [
    {
     "data": {
      "text/plain": [
       "(3664, 1)"
      ]
     },
     "execution_count": 4,
     "metadata": {},
     "output_type": "execute_result"
    }
   ],
   "source": [
    "code_df.values.shape"
   ]
  },
  {
   "cell_type": "code",
   "execution_count": 5,
   "metadata": {},
   "outputs": [],
   "source": [
    "pledge = pd.read_csv('data/pledge_clean.csv', index_col=0)\n",
    "pledge['close_position_date'] = pd.to_datetime(pledge['close_position_date'])\n",
    "pledge['pledge_date'] = pd.to_datetime(pledge['pledge_date'])\n",
    "pledge = pledge.sort_values(by=['close_position_date'])\n",
    "pledge = pledge.reset_index(drop=True)"
   ]
  },
  {
   "cell_type": "code",
   "execution_count": 6,
   "metadata": {},
   "outputs": [
    {
     "data": {
      "text/html": [
       "<div>\n",
       "<style scoped>\n",
       "    .dataframe tbody tr th:only-of-type {\n",
       "        vertical-align: middle;\n",
       "    }\n",
       "\n",
       "    .dataframe tbody tr th {\n",
       "        vertical-align: top;\n",
       "    }\n",
       "\n",
       "    .dataframe thead th {\n",
       "        text-align: right;\n",
       "    }\n",
       "</style>\n",
       "<table border=\"1\" class=\"dataframe\">\n",
       "  <thead>\n",
       "    <tr style=\"text-align: right;\">\n",
       "      <th></th>\n",
       "      <th>code</th>\n",
       "      <th>pledge_date</th>\n",
       "      <th>alarm_line</th>\n",
       "      <th>close_position_line</th>\n",
       "      <th>price_on_pledge</th>\n",
       "      <th>total_pledge_nb</th>\n",
       "      <th>total_share_ratio</th>\n",
       "      <th>total_stock_ratio</th>\n",
       "      <th>close_position_date</th>\n",
       "      <th>is_st</th>\n",
       "    </tr>\n",
       "  </thead>\n",
       "  <tbody>\n",
       "    <tr>\n",
       "      <th>0</th>\n",
       "      <td>002280.SZ</td>\n",
       "      <td>2016-03-30</td>\n",
       "      <td>16.13</td>\n",
       "      <td>14.12</td>\n",
       "      <td>25.21</td>\n",
       "      <td>4471.250000</td>\n",
       "      <td>39.53000</td>\n",
       "      <td>2.050000</td>\n",
       "      <td>2016-12-14</td>\n",
       "      <td>0</td>\n",
       "    </tr>\n",
       "    <tr>\n",
       "      <th>1</th>\n",
       "      <td>002280.SZ</td>\n",
       "      <td>2016-03-30</td>\n",
       "      <td>16.13</td>\n",
       "      <td>14.12</td>\n",
       "      <td>25.21</td>\n",
       "      <td>4471.250000</td>\n",
       "      <td>39.53000</td>\n",
       "      <td>2.050000</td>\n",
       "      <td>2016-12-14</td>\n",
       "      <td>0</td>\n",
       "    </tr>\n",
       "    <tr>\n",
       "      <th>2</th>\n",
       "      <td>002280.SZ</td>\n",
       "      <td>2016-03-30</td>\n",
       "      <td>16.13</td>\n",
       "      <td>14.12</td>\n",
       "      <td>25.21</td>\n",
       "      <td>4471.250000</td>\n",
       "      <td>39.53000</td>\n",
       "      <td>2.050000</td>\n",
       "      <td>2016-12-14</td>\n",
       "      <td>0</td>\n",
       "    </tr>\n",
       "    <tr>\n",
       "      <th>3</th>\n",
       "      <td>000796.SZ</td>\n",
       "      <td>2016-04-28</td>\n",
       "      <td>17.42</td>\n",
       "      <td>15.24</td>\n",
       "      <td>27.22</td>\n",
       "      <td>37910.007785</td>\n",
       "      <td>82.15942</td>\n",
       "      <td>18.559834</td>\n",
       "      <td>2016-12-20</td>\n",
       "      <td>0</td>\n",
       "    </tr>\n",
       "    <tr>\n",
       "      <th>4</th>\n",
       "      <td>000796.SZ</td>\n",
       "      <td>2016-04-28</td>\n",
       "      <td>17.42</td>\n",
       "      <td>15.24</td>\n",
       "      <td>27.22</td>\n",
       "      <td>37910.007785</td>\n",
       "      <td>82.15942</td>\n",
       "      <td>18.559834</td>\n",
       "      <td>2016-12-20</td>\n",
       "      <td>0</td>\n",
       "    </tr>\n",
       "  </tbody>\n",
       "</table>\n",
       "</div>"
      ],
      "text/plain": [
       "        code pledge_date  alarm_line  close_position_line  price_on_pledge  \\\n",
       "0  002280.SZ  2016-03-30       16.13                14.12            25.21   \n",
       "1  002280.SZ  2016-03-30       16.13                14.12            25.21   \n",
       "2  002280.SZ  2016-03-30       16.13                14.12            25.21   \n",
       "3  000796.SZ  2016-04-28       17.42                15.24            27.22   \n",
       "4  000796.SZ  2016-04-28       17.42                15.24            27.22   \n",
       "\n",
       "   total_pledge_nb  total_share_ratio  total_stock_ratio close_position_date  \\\n",
       "0      4471.250000           39.53000           2.050000          2016-12-14   \n",
       "1      4471.250000           39.53000           2.050000          2016-12-14   \n",
       "2      4471.250000           39.53000           2.050000          2016-12-14   \n",
       "3     37910.007785           82.15942          18.559834          2016-12-20   \n",
       "4     37910.007785           82.15942          18.559834          2016-12-20   \n",
       "\n",
       "   is_st  \n",
       "0      0  \n",
       "1      0  \n",
       "2      0  \n",
       "3      0  \n",
       "4      0  "
      ]
     },
     "execution_count": 6,
     "metadata": {},
     "output_type": "execute_result"
    }
   ],
   "source": [
    "pledge.head()"
   ]
  },
  {
   "cell_type": "code",
   "execution_count": 7,
   "metadata": {},
   "outputs": [],
   "source": [
    "code_price_dict = dict()\n",
    "for i in range(len(code_df)):\n",
    "    code = code_df.iloc[i, 0]\n",
    "    price_df = pd.read_csv('data/price/{}.csv'.format(code), index_col=0)\n",
    "    price_df.index = pd.to_datetime(price_df.index)\n",
    "    code_price_dict[code] = price_df"
   ]
  },
  {
   "cell_type": "code",
   "execution_count": 24,
   "metadata": {},
   "outputs": [],
   "source": [
    "def get_stock_price_by_code(code, lookback, delay, pledge_date, close_position_date, code_price_dict):\n",
    "    \"\"\"\n",
    "    通过股票代码，过去天数，生成三维的股票价格矩阵\n",
    "    delay * lookback * 9(features)\n",
    "    \"\"\"\n",
    "    non_close_rate = 4\n",
    "    price_df = code_price_dict[code]\n",
    "    price_df = price_df[pledge_date: close_position_date]\n",
    "    price_values = price_df.values\n",
    "    if len(price_df) < lookback + delay:\n",
    "        print('Not good')\n",
    "    close_list = [price_values[-lookback - i: -i] for i in range(1, delay + 1)]\n",
    "    usable_non_close_len = len(price_df) - delay - lookback\n",
    "    usable_non_close_len = min(usable_non_close_len, non_close_rate * delay)\n",
    "    non_close_list = [price_values[-lookback - i: -i] for i in range(delay+1, delay+1+usable_non_close_len)]\n",
    "    return close_list, non_close_list"
   ]
  },
  {
   "cell_type": "code",
   "execution_count": 25,
   "metadata": {},
   "outputs": [
    {
     "name": "stdout",
     "output_type": "stream",
     "text": [
      "Not good\n"
     ]
    }
   ],
   "source": [
    "close_list, non_close_list = get_stock_price_by_code(code=pledge.loc[0]['code'], \n",
    "                               lookback=60, \n",
    "                               delay=30, \n",
    "                               pledge_date=pledge.loc[0]['pledge_date'],\n",
    "                               close_position_date=pledge.loc[0]['close_position_date'], \n",
    "                               code_price_dict=code_price_dict)"
   ]
  },
  {
   "cell_type": "code",
   "execution_count": 26,
   "metadata": {},
   "outputs": [
    {
     "ename": "AttributeError",
     "evalue": "'list' object has no attribute 'shape'",
     "output_type": "error",
     "traceback": [
      "\u001b[1;31m---------------------------------------------------------------------------\u001b[0m",
      "\u001b[1;31mAttributeError\u001b[0m                            Traceback (most recent call last)",
      "\u001b[1;32m<ipython-input-26-f88c552600ee>\u001b[0m in \u001b[0;36m<module>\u001b[1;34m\u001b[0m\n\u001b[1;32m----> 1\u001b[1;33m \u001b[0mclose_list\u001b[0m\u001b[1;33m.\u001b[0m\u001b[0mshape\u001b[0m\u001b[1;33m\u001b[0m\u001b[1;33m\u001b[0m\u001b[0m\n\u001b[0m",
      "\u001b[1;31mAttributeError\u001b[0m: 'list' object has no attribute 'shape'"
     ]
    }
   ],
   "source": [
    "close_list.shape"
   ]
  },
  {
   "cell_type": "code",
   "execution_count": 15,
   "metadata": {},
   "outputs": [
    {
     "data": {
      "text/plain": [
       "(63, 60, 9)"
      ]
     },
     "execution_count": 15,
     "metadata": {},
     "output_type": "execute_result"
    }
   ],
   "source": [
    "non_close_list.shape"
   ]
  },
  {
   "cell_type": "code",
   "execution_count": 11,
   "metadata": {},
   "outputs": [
    {
     "data": {
      "text/html": [
       "<div>\n",
       "<style scoped>\n",
       "    .dataframe tbody tr th:only-of-type {\n",
       "        vertical-align: middle;\n",
       "    }\n",
       "\n",
       "    .dataframe tbody tr th {\n",
       "        vertical-align: top;\n",
       "    }\n",
       "\n",
       "    .dataframe thead th {\n",
       "        text-align: right;\n",
       "    }\n",
       "</style>\n",
       "<table border=\"1\" class=\"dataframe\">\n",
       "  <thead>\n",
       "    <tr style=\"text-align: right;\">\n",
       "      <th></th>\n",
       "      <th>alarm_line</th>\n",
       "      <th>close_position_line</th>\n",
       "      <th>price_on_pledge</th>\n",
       "      <th>total_pledge_nb</th>\n",
       "      <th>total_share_ratio</th>\n",
       "      <th>total_stock_ratio</th>\n",
       "      <th>is_st</th>\n",
       "    </tr>\n",
       "  </thead>\n",
       "  <tbody>\n",
       "    <tr>\n",
       "      <th>0</th>\n",
       "      <td>16.13</td>\n",
       "      <td>14.12</td>\n",
       "      <td>25.21</td>\n",
       "      <td>4471.250000</td>\n",
       "      <td>39.53000</td>\n",
       "      <td>2.050000</td>\n",
       "      <td>0</td>\n",
       "    </tr>\n",
       "    <tr>\n",
       "      <th>1</th>\n",
       "      <td>16.13</td>\n",
       "      <td>14.12</td>\n",
       "      <td>25.21</td>\n",
       "      <td>4471.250000</td>\n",
       "      <td>39.53000</td>\n",
       "      <td>2.050000</td>\n",
       "      <td>0</td>\n",
       "    </tr>\n",
       "    <tr>\n",
       "      <th>2</th>\n",
       "      <td>16.13</td>\n",
       "      <td>14.12</td>\n",
       "      <td>25.21</td>\n",
       "      <td>4471.250000</td>\n",
       "      <td>39.53000</td>\n",
       "      <td>2.050000</td>\n",
       "      <td>0</td>\n",
       "    </tr>\n",
       "    <tr>\n",
       "      <th>3</th>\n",
       "      <td>17.42</td>\n",
       "      <td>15.24</td>\n",
       "      <td>27.22</td>\n",
       "      <td>37910.007785</td>\n",
       "      <td>82.15942</td>\n",
       "      <td>18.559834</td>\n",
       "      <td>0</td>\n",
       "    </tr>\n",
       "    <tr>\n",
       "      <th>4</th>\n",
       "      <td>17.42</td>\n",
       "      <td>15.24</td>\n",
       "      <td>27.22</td>\n",
       "      <td>37910.007785</td>\n",
       "      <td>82.15942</td>\n",
       "      <td>18.559834</td>\n",
       "      <td>0</td>\n",
       "    </tr>\n",
       "  </tbody>\n",
       "</table>\n",
       "</div>"
      ],
      "text/plain": [
       "   alarm_line  close_position_line  price_on_pledge  total_pledge_nb  \\\n",
       "0       16.13                14.12            25.21      4471.250000   \n",
       "1       16.13                14.12            25.21      4471.250000   \n",
       "2       16.13                14.12            25.21      4471.250000   \n",
       "3       17.42                15.24            27.22     37910.007785   \n",
       "4       17.42                15.24            27.22     37910.007785   \n",
       "\n",
       "   total_share_ratio  total_stock_ratio  is_st  \n",
       "0           39.53000           2.050000      0  \n",
       "1           39.53000           2.050000      0  \n",
       "2           39.53000           2.050000      0  \n",
       "3           82.15942          18.559834      0  \n",
       "4           82.15942          18.559834      0  "
      ]
     },
     "execution_count": 11,
     "metadata": {},
     "output_type": "execute_result"
    }
   ],
   "source": [
    "pledge.drop(['code', 'pledge_date', 'close_position_date'], axis=1).head()"
   ]
  },
  {
   "cell_type": "code",
   "execution_count": 21,
   "metadata": {},
   "outputs": [],
   "source": [
    "def generator(pledge, lookback, delay, min_index, max_index, code_price_dict):\n",
    "    # batch_size == delay(30)\n",
    "    i = min_index\n",
    "    while 1:\n",
    "        # loop back to min_index\n",
    "        if i >= max_index:\n",
    "            i = min_index\n",
    "        single_pledge = pledge.loc[i]\n",
    "        close_list, non_close_list = get_stock_price_by_code(code=single_pledge['code'], \n",
    "                               lookback=lookback, \n",
    "                               delay=delay, \n",
    "                               pledge_date=single_pledge['pledge_date'],\n",
    "                               close_position_date=single_pledge['close_position_date'], \n",
    "                               code_price_dict=code_price_dict)\n",
    "        single_pledge = single_pledge.drop(['code', 'pledge_date', 'close_position_date'])\n",
    "        close_zip = [(prices, single_pledge.values, 1) for prices in close_list]\n",
    "        non_close_zip = [(prices, single_pledge.values, 0) for prices in non_close_list]\n",
    "        all_zip = close_zip + non_close_zip\n",
    "        random.shuffle(all_zip)\n",
    "        price_time = np.stack([t[0] for t in all_zip])\n",
    "        pledge_info = np.stack([t[1] for t in all_zip])\n",
    "        targets = np.stack([t[2] for t in all_zip])\n",
    "        i += 1\n",
    "        return [price_time, pledge_info], targets"
   ]
  },
  {
   "cell_type": "code",
   "execution_count": 22,
   "metadata": {},
   "outputs": [
    {
     "name": "stdout",
     "output_type": "stream",
     "text": [
      "(array([[ 2.15933000e+01,  2.15933000e+01,  2.09260000e+01,\n",
      "         2.15933000e+01,  1.96312000e+01,  1.96210000e+00,\n",
      "         9.99480000e+00,  5.80404310e+05,  1.25568006e+06],\n",
      "       [ 2.14639000e+01,  2.14639000e+01,  1.99101000e+01,\n",
      "         2.00296000e+01,  2.15933000e+01, -1.56370000e+00,\n",
      "        -7.24160000e+00,  7.15524810e+05,  1.47707218e+06],\n",
      "       [ 1.96013000e+01,  1.97707000e+01,  1.89539000e+01,\n",
      "         1.91830000e+01,  2.00296000e+01, -8.46600000e-01,\n",
      "        -4.22670000e+00,  3.75304630e+05,  7.26292573e+05],\n",
      "       [ 1.91731000e+01,  1.95117000e+01,  1.90336000e+01,\n",
      "         1.90834000e+01,  1.91830000e+01, -9.96000000e-02,\n",
      "        -5.19200000e-01,  2.37469450e+05,  4.58645764e+05],\n",
      "       [ 1.89739000e+01,  1.91033000e+01,  1.82368000e+01,\n",
      "         1.83762000e+01,  1.90834000e+01, -7.07200000e-01,\n",
      "        -3.70580000e+00,  3.00886960e+05,  5.59424042e+05],\n",
      "       [ 1.84460000e+01,  1.85655000e+01,  1.82667000e+01,\n",
      "         1.85157000e+01,  1.83762000e+01,  1.39500000e-01,\n",
      "         7.59100000e-01,  1.81657240e+05,  3.36930171e+05],\n",
      "       [ 1.84061000e+01,  1.84758000e+01,  1.77687000e+01,\n",
      "         1.79380000e+01,  1.85157000e+01, -5.77700000e-01,\n",
      "        -3.12010000e+00,  3.00857020e+05,  5.44749436e+05],\n",
      "       [ 1.79579000e+01,  1.82169000e+01,  1.77488000e+01,\n",
      "         1.79579000e+01,  1.79380000e+01,  1.99000000e-02,\n",
      "         1.10900000e-01,  2.49279950e+05,  4.49989105e+05],\n",
      "       [ 1.79778000e+01,  1.82169000e+01,  1.78085000e+01,\n",
      "         1.81372000e+01,  1.79579000e+01,  1.79300000e-01,\n",
      "         9.98400000e-01,  1.89201800e+05,  3.42292097e+05],\n",
      "       [ 1.80376000e+01,  1.82866000e+01,  1.79280000e+01,\n",
      "         1.79778000e+01,  1.81372000e+01, -1.59400000e-01,\n",
      "        -8.78900000e-01,  1.97699090e+05,  3.59291065e+05],\n",
      "       [ 1.82268000e+01,  1.82766000e+01,  1.80376000e+01,\n",
      "         1.81073000e+01,  1.79778000e+01,  1.29500000e-01,\n",
      "         7.20300000e-01,  1.59281580e+05,  2.89959438e+05],\n",
      "       [ 1.80974000e+01,  1.81770000e+01,  1.73902000e+01,\n",
      "         1.76990000e+01,  1.81073000e+01, -4.08300000e-01,\n",
      "        -2.25490000e+00,  2.14640200e+05,  3.84332012e+05],\n",
      "       [ 1.79081000e+01,  1.79679000e+01,  1.77288000e+01,\n",
      "         1.77886000e+01,  1.76990000e+01,  8.96000000e-02,\n",
      "         5.06200000e-01,  1.50466410e+05,  2.68927221e+05],\n",
      "       [ 1.77886000e+01,  1.78583000e+01,  1.74002000e+01,\n",
      "         1.75695000e+01,  1.77886000e+01, -2.19100000e-01,\n",
      "        -1.23170000e+00,  2.60716150e+05,  4.59183972e+05],\n",
      "       [ 1.75296000e+01,  1.77986000e+01,  1.74300000e+01,\n",
      "         1.76292000e+01,  1.75695000e+01,  5.97000000e-02,\n",
      "         3.39800000e-01,  1.66792670e+05,  2.95053301e+05],\n",
      "       [ 1.78583000e+01,  1.93125000e+01,  1.78583000e+01,\n",
      "         1.87846000e+01,  1.76292000e+01,  1.15540000e+00,\n",
      "         6.55390000e+00,  6.60938200e+05,  1.24000279e+06],\n",
      "       [ 1.88842000e+01,  1.90137000e+01,  1.84559000e+01,\n",
      "         1.85655000e+01,  1.87846000e+01, -2.19100000e-01,\n",
      "        -1.16640000e+00,  3.15531610e+05,  5.90377259e+05],\n",
      "       [ 1.85157000e+01,  1.85157000e+01,  1.80476000e+01,\n",
      "         1.81173000e+01,  1.85655000e+01, -4.48200000e-01,\n",
      "        -2.41420000e+00,  2.26094410e+05,  4.12652304e+05],\n",
      "       [ 1.81870000e+01,  1.82468000e+01,  1.79480000e+01,\n",
      "         1.79878000e+01,  1.81173000e+01, -1.29500000e-01,\n",
      "        -7.14800000e-01,  1.46455680e+05,  2.65650128e+05],\n",
      "       [ 1.79679000e+01,  1.79878000e+01,  1.76392000e+01,\n",
      "         1.77288000e+01,  1.79878000e+01, -2.59000000e-01,\n",
      "        -1.43990000e+00,  1.78438270e+05,  3.18114932e+05],\n",
      "       [ 1.77388000e+01,  1.79778000e+01,  1.76691000e+01,\n",
      "         1.79280000e+01,  1.77288000e+01,  1.99200000e-01,\n",
      "         1.12360000e+00,  1.60589990e+05,  2.86999294e+05],\n",
      "       [ 1.79778000e+01,  1.87149000e+01,  1.79778000e+01,\n",
      "         1.82866000e+01,  1.79280000e+01,  3.58600000e-01,\n",
      "         2.00020000e+00,  3.78230020e+05,  6.98603566e+05],\n",
      "       [ 1.81272000e+01,  1.81272000e+01,  1.77786000e+01,\n",
      "         1.77986000e+01,  1.82866000e+01, -4.88000000e-01,\n",
      "        -2.66860000e+00,  2.07589140e+05,  3.73573221e+05],\n",
      "       [ 1.77786000e+01,  1.80077000e+01,  1.74400000e+01,\n",
      "         1.79480000e+01,  1.77986000e+01,  1.49400000e-01,\n",
      "         8.39400000e-01,  1.60531810e+05,  2.86315344e+05],\n",
      "       [ 1.80476000e+01,  1.80874000e+01,  1.77089000e+01,\n",
      "         1.77288000e+01,  1.79480000e+01, -2.19200000e-01,\n",
      "        -1.22130000e+00,  1.38057260e+05,  2.46605177e+05],\n",
      "       [ 1.77288000e+01,  1.79579000e+01,  1.75894000e+01,\n",
      "         1.76093000e+01,  1.77288000e+01, -1.19500000e-01,\n",
      "        -6.74000000e-01,  1.25808300e+05,  2.23702077e+05],\n",
      "       [ 1.75296000e+01,  1.78882000e+01,  1.75197000e+01,\n",
      "         1.76392000e+01,  1.76093000e+01,  2.99000000e-02,\n",
      "         1.69800000e-01,  1.10563770e+05,  1.96471102e+05],\n",
      "       [ 1.77786000e+01,  1.78185000e+01,  1.75197000e+01,\n",
      "         1.75496000e+01,  1.76392000e+01, -8.96000000e-02,\n",
      "        -5.08000000e-01,  1.19454080e+05,  2.10924339e+05],\n",
      "       [ 1.76193000e+01,  1.76193000e+01,  1.67129000e+01,\n",
      "         1.68225000e+01,  1.75496000e+01, -7.27100000e-01,\n",
      "        -4.14310000e+00,  2.41288930e+05,  4.13953692e+05],\n",
      "       [ 1.67229000e+01,  1.67229000e+01,  1.61751000e+01,\n",
      "         1.62348000e+01,  1.68225000e+01, -5.87700000e-01,\n",
      "        -3.49350000e+00,  1.60371230e+05,  2.64802553e+05],\n",
      "       [ 1.62448000e+01,  1.65237000e+01,  1.62050000e+01,\n",
      "         1.62846000e+01,  1.62348000e+01,  4.98000000e-02,\n",
      "         3.06700000e-01,  1.03157240e+05,  1.68841575e+05]]), array([16.13, 14.12, 25.21, 4471.25, 39.53, 2.05, 0], dtype=object), 1)\n"
     ]
    },
    {
     "ename": "ValueError",
     "evalue": "all input arrays must have the same shape",
     "output_type": "error",
     "traceback": [
      "\u001b[1;31m---------------------------------------------------------------------------\u001b[0m",
      "\u001b[1;31mValueError\u001b[0m                                Traceback (most recent call last)",
      "\u001b[1;32m<ipython-input-22-5dc862759a6f>\u001b[0m in \u001b[0;36m<module>\u001b[1;34m\u001b[0m\n\u001b[1;32m----> 1\u001b[1;33m \u001b[0mtrain_gen\u001b[0m \u001b[1;33m=\u001b[0m \u001b[0mgenerator\u001b[0m\u001b[1;33m(\u001b[0m\u001b[0mpledge\u001b[0m\u001b[1;33m,\u001b[0m \u001b[1;36m60\u001b[0m\u001b[1;33m,\u001b[0m \u001b[1;36m30\u001b[0m\u001b[1;33m,\u001b[0m \u001b[1;36m0\u001b[0m\u001b[1;33m,\u001b[0m \u001b[1;36m500\u001b[0m\u001b[1;33m,\u001b[0m \u001b[0mcode_price_dict\u001b[0m\u001b[1;33m)\u001b[0m\u001b[1;33m\u001b[0m\u001b[1;33m\u001b[0m\u001b[0m\n\u001b[0m",
      "\u001b[1;32m<ipython-input-21-ddc48c775646>\u001b[0m in \u001b[0;36mgenerator\u001b[1;34m(pledge, lookback, delay, min_index, max_index, code_price_dict)\u001b[0m\n\u001b[0;32m     19\u001b[0m         \u001b[0mrandom\u001b[0m\u001b[1;33m.\u001b[0m\u001b[0mshuffle\u001b[0m\u001b[1;33m(\u001b[0m\u001b[0mall_zip\u001b[0m\u001b[1;33m)\u001b[0m\u001b[1;33m\u001b[0m\u001b[1;33m\u001b[0m\u001b[0m\n\u001b[0;32m     20\u001b[0m         \u001b[0mprint\u001b[0m\u001b[1;33m(\u001b[0m\u001b[0mall_zip\u001b[0m\u001b[1;33m[\u001b[0m\u001b[1;36m0\u001b[0m\u001b[1;33m]\u001b[0m\u001b[1;33m)\u001b[0m\u001b[1;33m\u001b[0m\u001b[1;33m\u001b[0m\u001b[0m\n\u001b[1;32m---> 21\u001b[1;33m         \u001b[0mprice_time\u001b[0m \u001b[1;33m=\u001b[0m \u001b[0mnp\u001b[0m\u001b[1;33m.\u001b[0m\u001b[0mstack\u001b[0m\u001b[1;33m(\u001b[0m\u001b[1;33m[\u001b[0m\u001b[0mt\u001b[0m\u001b[1;33m[\u001b[0m\u001b[1;36m0\u001b[0m\u001b[1;33m]\u001b[0m \u001b[1;32mfor\u001b[0m \u001b[0mt\u001b[0m \u001b[1;32min\u001b[0m \u001b[0mall_zip\u001b[0m\u001b[1;33m]\u001b[0m\u001b[1;33m)\u001b[0m\u001b[1;33m\u001b[0m\u001b[1;33m\u001b[0m\u001b[0m\n\u001b[0m\u001b[0;32m     22\u001b[0m         \u001b[0mpledge_info\u001b[0m \u001b[1;33m=\u001b[0m \u001b[0mnp\u001b[0m\u001b[1;33m.\u001b[0m\u001b[0mstack\u001b[0m\u001b[1;33m(\u001b[0m\u001b[1;33m[\u001b[0m\u001b[0mt\u001b[0m\u001b[1;33m[\u001b[0m\u001b[1;36m1\u001b[0m\u001b[1;33m]\u001b[0m \u001b[1;32mfor\u001b[0m \u001b[0mt\u001b[0m \u001b[1;32min\u001b[0m \u001b[0mall_zip\u001b[0m\u001b[1;33m]\u001b[0m\u001b[1;33m)\u001b[0m\u001b[1;33m\u001b[0m\u001b[1;33m\u001b[0m\u001b[0m\n\u001b[0;32m     23\u001b[0m         \u001b[0mtargets\u001b[0m \u001b[1;33m=\u001b[0m \u001b[0mnp\u001b[0m\u001b[1;33m.\u001b[0m\u001b[0mstack\u001b[0m\u001b[1;33m(\u001b[0m\u001b[1;33m[\u001b[0m\u001b[0mt\u001b[0m\u001b[1;33m[\u001b[0m\u001b[1;36m2\u001b[0m\u001b[1;33m]\u001b[0m \u001b[1;32mfor\u001b[0m \u001b[0mt\u001b[0m \u001b[1;32min\u001b[0m \u001b[0mall_zip\u001b[0m\u001b[1;33m]\u001b[0m\u001b[1;33m)\u001b[0m\u001b[1;33m\u001b[0m\u001b[1;33m\u001b[0m\u001b[0m\n",
      "\u001b[1;32m~\\Anaconda3\\envs\\tf_gpu_keras\\lib\\site-packages\\numpy\\core\\shape_base.py\u001b[0m in \u001b[0;36mstack\u001b[1;34m(arrays, axis, out)\u001b[0m\n\u001b[0;32m    414\u001b[0m     \u001b[0mshapes\u001b[0m \u001b[1;33m=\u001b[0m \u001b[1;33m{\u001b[0m\u001b[0marr\u001b[0m\u001b[1;33m.\u001b[0m\u001b[0mshape\u001b[0m \u001b[1;32mfor\u001b[0m \u001b[0marr\u001b[0m \u001b[1;32min\u001b[0m \u001b[0marrays\u001b[0m\u001b[1;33m}\u001b[0m\u001b[1;33m\u001b[0m\u001b[1;33m\u001b[0m\u001b[0m\n\u001b[0;32m    415\u001b[0m     \u001b[1;32mif\u001b[0m \u001b[0mlen\u001b[0m\u001b[1;33m(\u001b[0m\u001b[0mshapes\u001b[0m\u001b[1;33m)\u001b[0m \u001b[1;33m!=\u001b[0m \u001b[1;36m1\u001b[0m\u001b[1;33m:\u001b[0m\u001b[1;33m\u001b[0m\u001b[1;33m\u001b[0m\u001b[0m\n\u001b[1;32m--> 416\u001b[1;33m         \u001b[1;32mraise\u001b[0m \u001b[0mValueError\u001b[0m\u001b[1;33m(\u001b[0m\u001b[1;34m'all input arrays must have the same shape'\u001b[0m\u001b[1;33m)\u001b[0m\u001b[1;33m\u001b[0m\u001b[1;33m\u001b[0m\u001b[0m\n\u001b[0m\u001b[0;32m    417\u001b[0m \u001b[1;33m\u001b[0m\u001b[0m\n\u001b[0;32m    418\u001b[0m     \u001b[0mresult_ndim\u001b[0m \u001b[1;33m=\u001b[0m \u001b[0marrays\u001b[0m\u001b[1;33m[\u001b[0m\u001b[1;36m0\u001b[0m\u001b[1;33m]\u001b[0m\u001b[1;33m.\u001b[0m\u001b[0mndim\u001b[0m \u001b[1;33m+\u001b[0m \u001b[1;36m1\u001b[0m\u001b[1;33m\u001b[0m\u001b[1;33m\u001b[0m\u001b[0m\n",
      "\u001b[1;31mValueError\u001b[0m: all input arrays must have the same shape"
     ]
    }
   ],
   "source": [
    "train_gen = generator(pledge, 60, 30, 0, 500, code_price_dict)"
   ]
  },
  {
   "cell_type": "code",
   "execution_count": null,
   "metadata": {},
   "outputs": [],
   "source": []
  }
 ],
 "metadata": {
  "kernelspec": {
   "display_name": "Python 3",
   "language": "python",
   "name": "python3"
  },
  "language_info": {
   "codemirror_mode": {
    "name": "ipython",
    "version": 3
   },
   "file_extension": ".py",
   "mimetype": "text/x-python",
   "name": "python",
   "nbconvert_exporter": "python",
   "pygments_lexer": "ipython3",
   "version": "3.7.3"
  }
 },
 "nbformat": 4,
 "nbformat_minor": 2
}
