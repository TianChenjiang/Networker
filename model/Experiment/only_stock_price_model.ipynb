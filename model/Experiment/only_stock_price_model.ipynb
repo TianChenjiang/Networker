{
 "cells": [
  {
   "cell_type": "code",
   "execution_count": 24,
   "metadata": {},
   "outputs": [],
   "source": [
    "import tushare as ts\n",
    "import seaborn as sns\n",
    "import keras\n",
    "import numpy as np\n",
    "import pandas as pd\n",
    "import random\n",
    "import matplotlib.pyplot as plt\n",
    "from IPython.display import set_matplotlib_formats\n",
    "from keras.models import Model\n",
    "from keras.layers import Input, Dense, LSTM, Dropout\n",
    "from keras.optimizers import RMSprop\n",
    "from keras.initializers import Orthogonal\n",
    "from tcn import TCN\n",
    "from sklearn.preprocessing import MinMaxScaler\n",
    "set_matplotlib_formats('retina')"
   ]
  },
  {
   "cell_type": "code",
   "execution_count": 2,
   "metadata": {},
   "outputs": [
    {
     "name": "stderr",
     "output_type": "stream",
     "text": [
      "C:\\Users\\GreenWood\\Anaconda3\\envs\\tf_gpu_keras\\lib\\site-packages\\tushare\\util\\upass.py:28: FutureWarning: \n",
      ".ix is deprecated. Please use\n",
      ".loc for label based indexing or\n",
      ".iloc for positional indexing\n",
      "\n",
      "See the documentation here:\n",
      "http://pandas.pydata.org/pandas-docs/stable/user_guide/indexing.html#ix-indexer-is-deprecated\n",
      "  return str(df.ix[0]['token'])\n"
     ]
    }
   ],
   "source": [
    "ts.set_token('53cd3b985c649c978160c6ec04bce24f4fbd2ebcb4673e8f2fba9a43')\n",
    "\n",
    "pro = ts.pro_api()\n",
    "\n",
    "code_df = pro.stock_basic(exchange='', list_status='L', fields='ts_code')"
   ]
  },
  {
   "cell_type": "code",
   "execution_count": 3,
   "metadata": {},
   "outputs": [
    {
     "data": {
      "text/html": [
       "<div>\n",
       "<style scoped>\n",
       "    .dataframe tbody tr th:only-of-type {\n",
       "        vertical-align: middle;\n",
       "    }\n",
       "\n",
       "    .dataframe tbody tr th {\n",
       "        vertical-align: top;\n",
       "    }\n",
       "\n",
       "    .dataframe thead th {\n",
       "        text-align: right;\n",
       "    }\n",
       "</style>\n",
       "<table border=\"1\" class=\"dataframe\">\n",
       "  <thead>\n",
       "    <tr style=\"text-align: right;\">\n",
       "      <th></th>\n",
       "      <th>ts_code</th>\n",
       "    </tr>\n",
       "  </thead>\n",
       "  <tbody>\n",
       "    <tr>\n",
       "      <th>0</th>\n",
       "      <td>000001.SZ</td>\n",
       "    </tr>\n",
       "    <tr>\n",
       "      <th>1</th>\n",
       "      <td>000002.SZ</td>\n",
       "    </tr>\n",
       "    <tr>\n",
       "      <th>2</th>\n",
       "      <td>000004.SZ</td>\n",
       "    </tr>\n",
       "    <tr>\n",
       "      <th>3</th>\n",
       "      <td>000005.SZ</td>\n",
       "    </tr>\n",
       "    <tr>\n",
       "      <th>4</th>\n",
       "      <td>000006.SZ</td>\n",
       "    </tr>\n",
       "  </tbody>\n",
       "</table>\n",
       "</div>"
      ],
      "text/plain": [
       "     ts_code\n",
       "0  000001.SZ\n",
       "1  000002.SZ\n",
       "2  000004.SZ\n",
       "3  000005.SZ\n",
       "4  000006.SZ"
      ]
     },
     "execution_count": 3,
     "metadata": {},
     "output_type": "execute_result"
    }
   ],
   "source": [
    "code_df.head()"
   ]
  },
  {
   "cell_type": "code",
   "execution_count": 4,
   "metadata": {},
   "outputs": [
    {
     "data": {
      "text/plain": [
       "(3664, 1)"
      ]
     },
     "execution_count": 4,
     "metadata": {},
     "output_type": "execute_result"
    }
   ],
   "source": [
    "code_df.values.shape"
   ]
  },
  {
   "cell_type": "code",
   "execution_count": 5,
   "metadata": {},
   "outputs": [],
   "source": [
    "pledge = pd.read_csv('data/pledge_clean.csv', index_col=0)\n",
    "pledge['close_position_date'] = pd.to_datetime(pledge['close_position_date'])\n",
    "pledge['pledge_date'] = pd.to_datetime(pledge['pledge_date'])"
   ]
  },
  {
   "cell_type": "code",
   "execution_count": 6,
   "metadata": {},
   "outputs": [],
   "source": [
    "pledge = pledge.sort_values(by=['close_position_date'])\n",
    "pledge = pledge.reset_index(drop=True)"
   ]
  },
  {
   "cell_type": "code",
   "execution_count": 7,
   "metadata": {},
   "outputs": [
    {
     "data": {
      "text/html": [
       "<div>\n",
       "<style scoped>\n",
       "    .dataframe tbody tr th:only-of-type {\n",
       "        vertical-align: middle;\n",
       "    }\n",
       "\n",
       "    .dataframe tbody tr th {\n",
       "        vertical-align: top;\n",
       "    }\n",
       "\n",
       "    .dataframe thead th {\n",
       "        text-align: right;\n",
       "    }\n",
       "</style>\n",
       "<table border=\"1\" class=\"dataframe\">\n",
       "  <thead>\n",
       "    <tr style=\"text-align: right;\">\n",
       "      <th></th>\n",
       "      <th>code</th>\n",
       "      <th>pledge_date</th>\n",
       "      <th>alarm_line</th>\n",
       "      <th>close_position_line</th>\n",
       "      <th>price_on_pledge</th>\n",
       "      <th>total_pledge_nb</th>\n",
       "      <th>total_share_ratio</th>\n",
       "      <th>total_stock_ratio</th>\n",
       "      <th>close_position_date</th>\n",
       "      <th>is_st</th>\n",
       "    </tr>\n",
       "  </thead>\n",
       "  <tbody>\n",
       "    <tr>\n",
       "      <th>0</th>\n",
       "      <td>002280.SZ</td>\n",
       "      <td>2016-03-30</td>\n",
       "      <td>16.13</td>\n",
       "      <td>14.12</td>\n",
       "      <td>25.21</td>\n",
       "      <td>4471.250000</td>\n",
       "      <td>39.53000</td>\n",
       "      <td>2.050000</td>\n",
       "      <td>2016-12-14</td>\n",
       "      <td>0</td>\n",
       "    </tr>\n",
       "    <tr>\n",
       "      <th>1</th>\n",
       "      <td>002280.SZ</td>\n",
       "      <td>2016-03-30</td>\n",
       "      <td>16.13</td>\n",
       "      <td>14.12</td>\n",
       "      <td>25.21</td>\n",
       "      <td>4471.250000</td>\n",
       "      <td>39.53000</td>\n",
       "      <td>2.050000</td>\n",
       "      <td>2016-12-14</td>\n",
       "      <td>0</td>\n",
       "    </tr>\n",
       "    <tr>\n",
       "      <th>2</th>\n",
       "      <td>002280.SZ</td>\n",
       "      <td>2016-03-30</td>\n",
       "      <td>16.13</td>\n",
       "      <td>14.12</td>\n",
       "      <td>25.21</td>\n",
       "      <td>4471.250000</td>\n",
       "      <td>39.53000</td>\n",
       "      <td>2.050000</td>\n",
       "      <td>2016-12-14</td>\n",
       "      <td>0</td>\n",
       "    </tr>\n",
       "    <tr>\n",
       "      <th>3</th>\n",
       "      <td>000796.SZ</td>\n",
       "      <td>2016-03-09</td>\n",
       "      <td>17.42</td>\n",
       "      <td>15.24</td>\n",
       "      <td>27.22</td>\n",
       "      <td>25525.720000</td>\n",
       "      <td>100.00000</td>\n",
       "      <td>31.790000</td>\n",
       "      <td>2016-12-20</td>\n",
       "      <td>0</td>\n",
       "    </tr>\n",
       "    <tr>\n",
       "      <th>4</th>\n",
       "      <td>000796.SZ</td>\n",
       "      <td>2016-01-18</td>\n",
       "      <td>17.42</td>\n",
       "      <td>15.24</td>\n",
       "      <td>27.22</td>\n",
       "      <td>23525.720000</td>\n",
       "      <td>92.16000</td>\n",
       "      <td>29.300000</td>\n",
       "      <td>2016-12-20</td>\n",
       "      <td>0</td>\n",
       "    </tr>\n",
       "    <tr>\n",
       "      <th>5</th>\n",
       "      <td>000796.SZ</td>\n",
       "      <td>2016-04-28</td>\n",
       "      <td>17.42</td>\n",
       "      <td>15.24</td>\n",
       "      <td>27.22</td>\n",
       "      <td>37910.007785</td>\n",
       "      <td>82.15942</td>\n",
       "      <td>18.559834</td>\n",
       "      <td>2016-12-20</td>\n",
       "      <td>0</td>\n",
       "    </tr>\n",
       "    <tr>\n",
       "      <th>6</th>\n",
       "      <td>000796.SZ</td>\n",
       "      <td>2016-04-28</td>\n",
       "      <td>17.42</td>\n",
       "      <td>15.24</td>\n",
       "      <td>27.22</td>\n",
       "      <td>37910.007785</td>\n",
       "      <td>82.15942</td>\n",
       "      <td>18.559834</td>\n",
       "      <td>2016-12-20</td>\n",
       "      <td>0</td>\n",
       "    </tr>\n",
       "    <tr>\n",
       "      <th>7</th>\n",
       "      <td>002147.SZ</td>\n",
       "      <td>2016-12-05</td>\n",
       "      <td>18.03</td>\n",
       "      <td>15.77</td>\n",
       "      <td>28.17</td>\n",
       "      <td>30280.580000</td>\n",
       "      <td>97.83000</td>\n",
       "      <td>34.080000</td>\n",
       "      <td>2017-01-16</td>\n",
       "      <td>0</td>\n",
       "    </tr>\n",
       "    <tr>\n",
       "      <th>8</th>\n",
       "      <td>000503.SZ</td>\n",
       "      <td>2016-12-01</td>\n",
       "      <td>37.08</td>\n",
       "      <td>32.44</td>\n",
       "      <td>57.93</td>\n",
       "      <td>4214.180000</td>\n",
       "      <td>17.88000</td>\n",
       "      <td>4.690000</td>\n",
       "      <td>2017-04-12</td>\n",
       "      <td>0</td>\n",
       "    </tr>\n",
       "    <tr>\n",
       "      <th>9</th>\n",
       "      <td>000503.SZ</td>\n",
       "      <td>2016-12-07</td>\n",
       "      <td>34.50</td>\n",
       "      <td>30.18</td>\n",
       "      <td>53.90</td>\n",
       "      <td>17629.000000</td>\n",
       "      <td>70.97000</td>\n",
       "      <td>19.610000</td>\n",
       "      <td>2017-05-09</td>\n",
       "      <td>0</td>\n",
       "    </tr>\n",
       "  </tbody>\n",
       "</table>\n",
       "</div>"
      ],
      "text/plain": [
       "        code pledge_date  alarm_line  close_position_line  price_on_pledge  \\\n",
       "0  002280.SZ  2016-03-30       16.13                14.12            25.21   \n",
       "1  002280.SZ  2016-03-30       16.13                14.12            25.21   \n",
       "2  002280.SZ  2016-03-30       16.13                14.12            25.21   \n",
       "3  000796.SZ  2016-03-09       17.42                15.24            27.22   \n",
       "4  000796.SZ  2016-01-18       17.42                15.24            27.22   \n",
       "5  000796.SZ  2016-04-28       17.42                15.24            27.22   \n",
       "6  000796.SZ  2016-04-28       17.42                15.24            27.22   \n",
       "7  002147.SZ  2016-12-05       18.03                15.77            28.17   \n",
       "8  000503.SZ  2016-12-01       37.08                32.44            57.93   \n",
       "9  000503.SZ  2016-12-07       34.50                30.18            53.90   \n",
       "\n",
       "   total_pledge_nb  total_share_ratio  total_stock_ratio close_position_date  \\\n",
       "0      4471.250000           39.53000           2.050000          2016-12-14   \n",
       "1      4471.250000           39.53000           2.050000          2016-12-14   \n",
       "2      4471.250000           39.53000           2.050000          2016-12-14   \n",
       "3     25525.720000          100.00000          31.790000          2016-12-20   \n",
       "4     23525.720000           92.16000          29.300000          2016-12-20   \n",
       "5     37910.007785           82.15942          18.559834          2016-12-20   \n",
       "6     37910.007785           82.15942          18.559834          2016-12-20   \n",
       "7     30280.580000           97.83000          34.080000          2017-01-16   \n",
       "8      4214.180000           17.88000           4.690000          2017-04-12   \n",
       "9     17629.000000           70.97000          19.610000          2017-05-09   \n",
       "\n",
       "   is_st  \n",
       "0      0  \n",
       "1      0  \n",
       "2      0  \n",
       "3      0  \n",
       "4      0  \n",
       "5      0  \n",
       "6      0  \n",
       "7      0  \n",
       "8      0  \n",
       "9      0  "
      ]
     },
     "execution_count": 7,
     "metadata": {},
     "output_type": "execute_result"
    }
   ],
   "source": [
    "pledge.head(10)"
   ]
  },
  {
   "cell_type": "code",
   "execution_count": 8,
   "metadata": {},
   "outputs": [],
   "source": [
    "code_price_dict = dict()\n",
    "for i in range(len(code_df)):\n",
    "    code = code_df.iloc[i, 0]\n",
    "    price_df = pd.read_csv('data/price/{}.csv'.format(code), index_col=0)\n",
    "    price_df.index = pd.to_datetime(price_df.index)\n",
    "    code_price_dict[code] = price_df"
   ]
  },
  {
   "cell_type": "code",
   "execution_count": 9,
   "metadata": {},
   "outputs": [],
   "source": [
    "def get_stock_price_by_code(code, lookback, delay, pledge_date, close_position_date, code_price_dict, pledge_price):\n",
    "    \"\"\"\n",
    "    通过股票代码，过去天数，生成三维的股票价格矩阵\n",
    "    delay * lookback * 9(features)\n",
    "    \"\"\"\n",
    "    scaler = MinMaxScaler()\n",
    "    non_close_rate = 4\n",
    "    price_df = code_price_dict[code]\n",
    "    price_df['delta'] = price_df.apply(lambda x: x['close'] - pledge_price, axis=1)\n",
    "    price_df = price_df[pledge_date: close_position_date]\n",
    "    price_values = price_df.values\n",
    "    # 平仓训练集\n",
    "    usable_close_len = len(price_df) - lookback\n",
    "    usable_close_len = min(usable_close_len, delay + 1)\n",
    "    close_list = []\n",
    "    for i in range(1, usable_close_len + 1):\n",
    "        price_time = price_values[-lookback - i: -i]\n",
    "        close_list.append(scaler.fit_transform(price_time))\n",
    "    # 正常训练集\n",
    "    usable_non_close_len = len(price_df) - delay - lookback\n",
    "    usable_non_close_len = min(usable_non_close_len, non_close_rate * delay)\n",
    "    non_close_list = []\n",
    "    for i in range(delay+1, delay+1+usable_non_close_len):\n",
    "        price_time = price_values[-lookback - i: -i]\n",
    "        non_close_list.append(scaler.fit_transform(price_time))\n",
    "        \n",
    "    return close_list, non_close_list"
   ]
  },
  {
   "cell_type": "code",
   "execution_count": 10,
   "metadata": {},
   "outputs": [
    {
     "data": {
      "text/html": [
       "<div>\n",
       "<style scoped>\n",
       "    .dataframe tbody tr th:only-of-type {\n",
       "        vertical-align: middle;\n",
       "    }\n",
       "\n",
       "    .dataframe tbody tr th {\n",
       "        vertical-align: top;\n",
       "    }\n",
       "\n",
       "    .dataframe thead th {\n",
       "        text-align: right;\n",
       "    }\n",
       "</style>\n",
       "<table border=\"1\" class=\"dataframe\">\n",
       "  <thead>\n",
       "    <tr style=\"text-align: right;\">\n",
       "      <th></th>\n",
       "      <th>alarm_line</th>\n",
       "      <th>close_position_line</th>\n",
       "      <th>price_on_pledge</th>\n",
       "      <th>total_pledge_nb</th>\n",
       "      <th>total_share_ratio</th>\n",
       "      <th>total_stock_ratio</th>\n",
       "      <th>is_st</th>\n",
       "    </tr>\n",
       "  </thead>\n",
       "  <tbody>\n",
       "    <tr>\n",
       "      <th>0</th>\n",
       "      <td>16.13</td>\n",
       "      <td>14.12</td>\n",
       "      <td>25.21</td>\n",
       "      <td>4471.25</td>\n",
       "      <td>39.53</td>\n",
       "      <td>2.05</td>\n",
       "      <td>0</td>\n",
       "    </tr>\n",
       "    <tr>\n",
       "      <th>1</th>\n",
       "      <td>16.13</td>\n",
       "      <td>14.12</td>\n",
       "      <td>25.21</td>\n",
       "      <td>4471.25</td>\n",
       "      <td>39.53</td>\n",
       "      <td>2.05</td>\n",
       "      <td>0</td>\n",
       "    </tr>\n",
       "    <tr>\n",
       "      <th>2</th>\n",
       "      <td>16.13</td>\n",
       "      <td>14.12</td>\n",
       "      <td>25.21</td>\n",
       "      <td>4471.25</td>\n",
       "      <td>39.53</td>\n",
       "      <td>2.05</td>\n",
       "      <td>0</td>\n",
       "    </tr>\n",
       "    <tr>\n",
       "      <th>3</th>\n",
       "      <td>17.42</td>\n",
       "      <td>15.24</td>\n",
       "      <td>27.22</td>\n",
       "      <td>25525.72</td>\n",
       "      <td>100.00</td>\n",
       "      <td>31.79</td>\n",
       "      <td>0</td>\n",
       "    </tr>\n",
       "    <tr>\n",
       "      <th>4</th>\n",
       "      <td>17.42</td>\n",
       "      <td>15.24</td>\n",
       "      <td>27.22</td>\n",
       "      <td>23525.72</td>\n",
       "      <td>92.16</td>\n",
       "      <td>29.30</td>\n",
       "      <td>0</td>\n",
       "    </tr>\n",
       "  </tbody>\n",
       "</table>\n",
       "</div>"
      ],
      "text/plain": [
       "   alarm_line  close_position_line  price_on_pledge  total_pledge_nb  \\\n",
       "0       16.13                14.12            25.21          4471.25   \n",
       "1       16.13                14.12            25.21          4471.25   \n",
       "2       16.13                14.12            25.21          4471.25   \n",
       "3       17.42                15.24            27.22         25525.72   \n",
       "4       17.42                15.24            27.22         23525.72   \n",
       "\n",
       "   total_share_ratio  total_stock_ratio  is_st  \n",
       "0              39.53               2.05      0  \n",
       "1              39.53               2.05      0  \n",
       "2              39.53               2.05      0  \n",
       "3             100.00              31.79      0  \n",
       "4              92.16              29.30      0  "
      ]
     },
     "execution_count": 10,
     "metadata": {},
     "output_type": "execute_result"
    }
   ],
   "source": [
    "pledge.drop(['code', 'pledge_date', 'close_position_date'], axis=1).head()"
   ]
  },
  {
   "cell_type": "code",
   "execution_count": 11,
   "metadata": {},
   "outputs": [],
   "source": [
    "def generator(pledge, lookback, delay, min_index, max_index, code_price_dict):\n",
    "    # batch_size == delay(30)\n",
    "    i = min_index\n",
    "    all_zip = []\n",
    "    # 归一化\n",
    "    scaler = MinMaxScaler()\n",
    "    pledge_scaled = pledge.drop(['code', 'pledge_date', 'close_position_date'], axis=1)\n",
    "    pledge_scaled = scaler.fit_transform(pledge_scaled)\n",
    "    while i < max_index:\n",
    "        single_pledge = pledge.loc[i]\n",
    "        single_pledge_scaled = pledge_scaled[i]\n",
    "        close_list, non_close_list = get_stock_price_by_code(code=single_pledge['code'],\n",
    "                               lookback=lookback,\n",
    "                               delay=delay,\n",
    "                               pledge_date=single_pledge['pledge_date'],\n",
    "                               close_position_date=single_pledge['close_position_date'],\n",
    "                               code_price_dict=code_price_dict,\n",
    "                               pledge_price=single_pledge['price_on_pledge'])\n",
    "        close_zip = [(prices, single_pledge_scaled, 1) for prices in close_list]\n",
    "        non_close_zip = [(prices, single_pledge_scaled, 0) for prices in non_close_list]\n",
    "        all_zip += close_zip + non_close_zip\n",
    "        i += 1\n",
    "    random.shuffle(all_zip)\n",
    "    price_time = np.stack([t[0] for t in all_zip])\n",
    "    pledge_info = np.stack([t[1] for t in all_zip])\n",
    "    targets = np.stack([t[2] for t in all_zip])\n",
    "    \n",
    "    return price_time, pledge_info, targets"
   ]
  },
  {
   "cell_type": "code",
   "execution_count": 61,
   "metadata": {},
   "outputs": [],
   "source": [
    "lookback = 48\n",
    "delay = 30\n",
    "\n",
    "train_price, train_info, train_targets = generator(pledge, lookback, delay, 0, 800, code_price_dict)\n",
    "test_price, test_info, test_targets = generator(pledge, lookback, delay, 800, len(pledge), code_price_dict)"
   ]
  },
  {
   "cell_type": "code",
   "execution_count": 53,
   "metadata": {},
   "outputs": [
    {
     "data": {
      "text/plain": [
       "(80336, 7)"
      ]
     },
     "execution_count": 53,
     "metadata": {},
     "output_type": "execute_result"
    }
   ],
   "source": [
    "train_info.shape"
   ]
  },
  {
   "cell_type": "code",
   "execution_count": 54,
   "metadata": {},
   "outputs": [
    {
     "data": {
      "text/plain": [
       "(80336, 64, 10)"
      ]
     },
     "execution_count": 54,
     "metadata": {},
     "output_type": "execute_result"
    }
   ],
   "source": [
    "train_price.shape"
   ]
  },
  {
   "cell_type": "code",
   "execution_count": 38,
   "metadata": {},
   "outputs": [],
   "source": [
    "def show_ratio(targets):\n",
    "    unique, counts = np.unique(targets, return_counts=True)\n",
    "    d = dict(zip(unique, counts))\n",
    "    print(d)\n",
    "    print(d[0] / (d[0] + d[1]))"
   ]
  },
  {
   "cell_type": "code",
   "execution_count": 62,
   "metadata": {},
   "outputs": [
    {
     "name": "stdout",
     "output_type": "stream",
     "text": [
      "{0: 64521, 1: 22102}\n",
      "0.744848365907438\n"
     ]
    }
   ],
   "source": [
    "show_ratio(train_targets)"
   ]
  },
  {
   "cell_type": "code",
   "execution_count": 63,
   "metadata": {},
   "outputs": [
    {
     "name": "stdout",
     "output_type": "stream",
     "text": [
      "{0: 12396, 1: 4435}\n",
      "0.736498128453449\n"
     ]
    }
   ],
   "source": [
    "show_ratio(test_targets)"
   ]
  },
  {
   "cell_type": "code",
   "execution_count": 70,
   "metadata": {},
   "outputs": [],
   "source": [
    "def get_model(time_steps, price_dim, info_dim):\n",
    "    price_input = Input(shape=(time_steps, price_dim), name='price_input')\n",
    "#     lstm_out = LSTM(32, \n",
    "#                     dropout=0.2,\n",
    "#                     recurrent_dropout=0.5, \n",
    "#                     kernel_initializer=Orthogonal(seed=7)\n",
    "#                    )(price_input)\n",
    "    tcn_out = TCN(nb_filters=64, \n",
    "            kernel_size=3, \n",
    "            dilations=[1, 2, 4, 8, 16], \n",
    "            nb_stacks=1, \n",
    "            dropout_rate=0.3,\n",
    "            kernel_initializer=Orthogonal(seed=7),\n",
    "            use_skip_connections=True,\n",
    "            return_sequences=False)(price_input)\n",
    "    info_input = Input(shape=(info_dim,), name='info_input')\n",
    "    x = keras.layers.concatenate([tcn_out, info_input])\n",
    "    x = Dense(32, activation='relu')(x)\n",
    "    x = Dropout(0.2)(x)\n",
    "    x = Dense(16, activation='relu')(x)\n",
    "    output = Dense(1, activation='sigmoid', name='output')(x)\n",
    "    \n",
    "    model = Model(inputs=[price_input, info_input], outputs=[output])\n",
    "    return model"
   ]
  },
  {
   "cell_type": "code",
   "execution_count": 71,
   "metadata": {},
   "outputs": [
    {
     "name": "stdout",
     "output_type": "stream",
     "text": [
      "__________________________________________________________________________________________________\n",
      "Layer (type)                    Output Shape         Param #     Connected to                     \n",
      "==================================================================================================\n",
      "price_input (InputLayer)        (None, 48, 10)       0                                            \n",
      "__________________________________________________________________________________________________\n",
      "conv1d_154 (Conv1D)             (None, 48, 64)       704         price_input[0][0]                \n",
      "__________________________________________________________________________________________________\n",
      "conv1d_155 (Conv1D)             (None, 48, 64)       12352       conv1d_154[0][0]                 \n",
      "__________________________________________________________________________________________________\n",
      "activation_145 (Activation)     (None, 48, 64)       0           conv1d_155[0][0]                 \n",
      "__________________________________________________________________________________________________\n",
      "spatial_dropout1d_97 (SpatialDr (None, 48, 64)       0           activation_145[0][0]             \n",
      "__________________________________________________________________________________________________\n",
      "conv1d_156 (Conv1D)             (None, 48, 64)       12352       spatial_dropout1d_97[0][0]       \n",
      "__________________________________________________________________________________________________\n",
      "activation_146 (Activation)     (None, 48, 64)       0           conv1d_156[0][0]                 \n",
      "__________________________________________________________________________________________________\n",
      "spatial_dropout1d_98 (SpatialDr (None, 48, 64)       0           activation_146[0][0]             \n",
      "__________________________________________________________________________________________________\n",
      "conv1d_157 (Conv1D)             (None, 48, 64)       4160        conv1d_154[0][0]                 \n",
      "__________________________________________________________________________________________________\n",
      "add_58 (Add)                    (None, 48, 64)       0           conv1d_157[0][0]                 \n",
      "                                                                 spatial_dropout1d_98[0][0]       \n",
      "__________________________________________________________________________________________________\n",
      "activation_147 (Activation)     (None, 48, 64)       0           add_58[0][0]                     \n",
      "__________________________________________________________________________________________________\n",
      "conv1d_158 (Conv1D)             (None, 48, 64)       12352       activation_147[0][0]             \n",
      "__________________________________________________________________________________________________\n",
      "activation_148 (Activation)     (None, 48, 64)       0           conv1d_158[0][0]                 \n",
      "__________________________________________________________________________________________________\n",
      "spatial_dropout1d_99 (SpatialDr (None, 48, 64)       0           activation_148[0][0]             \n",
      "__________________________________________________________________________________________________\n",
      "conv1d_159 (Conv1D)             (None, 48, 64)       12352       spatial_dropout1d_99[0][0]       \n",
      "__________________________________________________________________________________________________\n",
      "activation_149 (Activation)     (None, 48, 64)       0           conv1d_159[0][0]                 \n",
      "__________________________________________________________________________________________________\n",
      "spatial_dropout1d_100 (SpatialD (None, 48, 64)       0           activation_149[0][0]             \n",
      "__________________________________________________________________________________________________\n",
      "conv1d_160 (Conv1D)             (None, 48, 64)       4160        activation_147[0][0]             \n",
      "__________________________________________________________________________________________________\n",
      "add_59 (Add)                    (None, 48, 64)       0           conv1d_160[0][0]                 \n",
      "                                                                 spatial_dropout1d_100[0][0]      \n",
      "__________________________________________________________________________________________________\n",
      "activation_150 (Activation)     (None, 48, 64)       0           add_59[0][0]                     \n",
      "__________________________________________________________________________________________________\n",
      "conv1d_161 (Conv1D)             (None, 48, 64)       12352       activation_150[0][0]             \n",
      "__________________________________________________________________________________________________\n",
      "activation_151 (Activation)     (None, 48, 64)       0           conv1d_161[0][0]                 \n",
      "__________________________________________________________________________________________________\n",
      "spatial_dropout1d_101 (SpatialD (None, 48, 64)       0           activation_151[0][0]             \n",
      "__________________________________________________________________________________________________\n",
      "conv1d_162 (Conv1D)             (None, 48, 64)       12352       spatial_dropout1d_101[0][0]      \n",
      "__________________________________________________________________________________________________\n",
      "activation_152 (Activation)     (None, 48, 64)       0           conv1d_162[0][0]                 \n",
      "__________________________________________________________________________________________________\n",
      "spatial_dropout1d_102 (SpatialD (None, 48, 64)       0           activation_152[0][0]             \n",
      "__________________________________________________________________________________________________\n",
      "conv1d_163 (Conv1D)             (None, 48, 64)       4160        activation_150[0][0]             \n",
      "__________________________________________________________________________________________________\n",
      "add_60 (Add)                    (None, 48, 64)       0           conv1d_163[0][0]                 \n",
      "                                                                 spatial_dropout1d_102[0][0]      \n",
      "__________________________________________________________________________________________________\n",
      "activation_153 (Activation)     (None, 48, 64)       0           add_60[0][0]                     \n",
      "__________________________________________________________________________________________________\n",
      "conv1d_164 (Conv1D)             (None, 48, 64)       12352       activation_153[0][0]             \n",
      "__________________________________________________________________________________________________\n",
      "activation_154 (Activation)     (None, 48, 64)       0           conv1d_164[0][0]                 \n",
      "__________________________________________________________________________________________________\n",
      "spatial_dropout1d_103 (SpatialD (None, 48, 64)       0           activation_154[0][0]             \n",
      "__________________________________________________________________________________________________\n",
      "conv1d_165 (Conv1D)             (None, 48, 64)       12352       spatial_dropout1d_103[0][0]      \n",
      "__________________________________________________________________________________________________\n",
      "activation_155 (Activation)     (None, 48, 64)       0           conv1d_165[0][0]                 \n",
      "__________________________________________________________________________________________________\n",
      "spatial_dropout1d_104 (SpatialD (None, 48, 64)       0           activation_155[0][0]             \n",
      "__________________________________________________________________________________________________\n",
      "conv1d_166 (Conv1D)             (None, 48, 64)       4160        activation_153[0][0]             \n",
      "__________________________________________________________________________________________________\n",
      "add_61 (Add)                    (None, 48, 64)       0           conv1d_166[0][0]                 \n",
      "                                                                 spatial_dropout1d_104[0][0]      \n",
      "__________________________________________________________________________________________________\n",
      "activation_156 (Activation)     (None, 48, 64)       0           add_61[0][0]                     \n",
      "__________________________________________________________________________________________________\n",
      "conv1d_167 (Conv1D)             (None, 48, 64)       12352       activation_156[0][0]             \n",
      "__________________________________________________________________________________________________\n",
      "activation_157 (Activation)     (None, 48, 64)       0           conv1d_167[0][0]                 \n",
      "__________________________________________________________________________________________________\n",
      "spatial_dropout1d_105 (SpatialD (None, 48, 64)       0           activation_157[0][0]             \n",
      "__________________________________________________________________________________________________\n",
      "conv1d_168 (Conv1D)             (None, 48, 64)       12352       spatial_dropout1d_105[0][0]      \n",
      "__________________________________________________________________________________________________\n",
      "activation_158 (Activation)     (None, 48, 64)       0           conv1d_168[0][0]                 \n",
      "__________________________________________________________________________________________________\n",
      "spatial_dropout1d_106 (SpatialD (None, 48, 64)       0           activation_158[0][0]             \n",
      "__________________________________________________________________________________________________\n",
      "add_63 (Add)                    (None, 48, 64)       0           spatial_dropout1d_98[0][0]       \n",
      "                                                                 spatial_dropout1d_100[0][0]      \n",
      "                                                                 spatial_dropout1d_102[0][0]      \n",
      "                                                                 spatial_dropout1d_104[0][0]      \n",
      "                                                                 spatial_dropout1d_106[0][0]      \n",
      "__________________________________________________________________________________________________\n",
      "lambda_10 (Lambda)              (None, 64)           0           add_63[0][0]                     \n",
      "__________________________________________________________________________________________________\n",
      "info_input (InputLayer)         (None, 7)            0                                            \n",
      "__________________________________________________________________________________________________\n",
      "concatenate_10 (Concatenate)    (None, 71)           0           lambda_10[0][0]                  \n",
      "                                                                 info_input[0][0]                 \n",
      "__________________________________________________________________________________________________\n",
      "dense_20 (Dense)                (None, 32)           2304        concatenate_10[0][0]             \n",
      "__________________________________________________________________________________________________\n",
      "dropout_6 (Dropout)             (None, 32)           0           dense_20[0][0]                   \n",
      "__________________________________________________________________________________________________\n",
      "dense_21 (Dense)                (None, 16)           528         dropout_6[0][0]                  \n",
      "__________________________________________________________________________________________________\n",
      "output (Dense)                  (None, 1)            17          dense_21[0][0]                   \n",
      "==================================================================================================\n",
      "Total params: 143,713\n",
      "Trainable params: 143,713\n",
      "Non-trainable params: 0\n",
      "__________________________________________________________________________________________________\n"
     ]
    }
   ],
   "source": [
    "model = get_model(time_steps=lookback, price_dim=train_price.shape[-1], info_dim=train_info.shape[-1])\n",
    "model.compile(optimizer=RMSprop(), loss='binary_crossentropy', metrics=['accuracy'])\n",
    "model.summary()"
   ]
  },
  {
   "cell_type": "code",
   "execution_count": 72,
   "metadata": {},
   "outputs": [
    {
     "name": "stdout",
     "output_type": "stream",
     "text": [
      "Train on 86623 samples, validate on 16831 samples\n",
      "Epoch 1/3\n",
      "86623/86623 [==============================] - 37s 428us/step - loss: 0.5451 - acc: 0.7454 - val_loss: 0.5674 - val_acc: 0.7257\n",
      "Epoch 2/3\n",
      "86623/86623 [==============================] - 34s 390us/step - loss: 0.4971 - acc: 0.7711 - val_loss: 0.5339 - val_acc: 0.7502\n",
      "Epoch 3/3\n",
      "86623/86623 [==============================] - 34s 390us/step - loss: 0.4655 - acc: 0.7891 - val_loss: 0.5161 - val_acc: 0.7610\n"
     ]
    }
   ],
   "source": [
    "history = model.fit([train_price, train_info], \n",
    "          train_targets, \n",
    "          epochs=3, \n",
    "          batch_size=64,\n",
    "          validation_data=([test_price, test_info], test_targets))"
   ]
  },
  {
   "cell_type": "code",
   "execution_count": 33,
   "metadata": {},
   "outputs": [],
   "source": [
    "def plot_loss(history, title):\n",
    "    loss = history.history['loss']\n",
    "    val_loss = history.history['val_loss']\n",
    "\n",
    "    epochs = range(len(loss))\n",
    "\n",
    "    plt.figure()\n",
    "\n",
    "    plt.plot(epochs, loss, 'r', label='Training loss')\n",
    "    plt.plot(epochs, val_loss, 'b', label='Validation loss')\n",
    "    plt.title(title)\n",
    "    plt.legend()\n",
    "\n",
    "    plt.show()"
   ]
  },
  {
   "cell_type": "code",
   "execution_count": 73,
   "metadata": {},
   "outputs": [
    {
     "data": {
      "image/png": "[encoded data removed]",
      "text/plain": [
       "<Figure size 432x288 with 1 Axes>"
      ]
     },
     "metadata": {
      "image/png": {
       "height": 263,
       "width": 378
      },
      "needs_background": "light"
     },
     "output_type": "display_data"
    }
   ],
   "source": [
    "plot_loss(history, 'TCN scaled')"
   ]
  },
  {
   "cell_type": "code",
   "execution_count": 74,
   "metadata": {},
   "outputs": [
    {
     "data": {
      "text/plain": [
       "0.7219226444287044"
      ]
     },
     "execution_count": 74,
     "metadata": {},
     "output_type": "execute_result"
    }
   ],
   "source": [
    "from sklearn.metrics import roc_auc_score\n",
    "y_predict = model.predict([test_price, test_info])\n",
    "roc_auc_score(test_targets, y_predict)"
   ]
  },
  {
   "cell_type": "code",
   "execution_count": null,
   "metadata": {},
   "outputs": [],
   "source": []
  }
 ],
 "metadata": {
  "kernelspec": {
   "display_name": "Python 3",
   "language": "python",
   "name": "python3"
  },
  "language_info": {
   "codemirror_mode": {
    "name": "ipython",
    "version": 3
   },
   "file_extension": ".py",
   "mimetype": "text/x-python",
   "name": "python",
   "nbconvert_exporter": "python",
   "pygments_lexer": "ipython3",
   "version": "3.7.3"
  }
 },
 "nbformat": 4,
 "nbformat_minor": 2
}
