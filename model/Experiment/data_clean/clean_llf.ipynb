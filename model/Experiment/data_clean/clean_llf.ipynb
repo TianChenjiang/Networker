{
 "cells": [
  {
   "cell_type": "code",
   "execution_count": 1,
   "metadata": {},
   "outputs": [],
   "source": [
    "import pandas as pd\n",
    "from datetime import datetime"
   ]
  },
  {
   "cell_type": "code",
   "execution_count": 2,
   "metadata": {},
   "outputs": [],
   "source": [
    "cols = ['ts_code', 'start_date', 'is_release', 'release_date']\n",
    "data = pd.read_csv('../data/pledge_llf.csv', usecols=cols, parse_dates=['start_date', 'release_date'])"
   ]
  },
  {
   "cell_type": "code",
   "execution_count": 3,
   "metadata": {},
   "outputs": [
    {
     "name": "stdout",
     "output_type": "stream",
     "text": [
      "<class 'pandas.core.frame.DataFrame'>\n",
      "RangeIndex: 99284 entries, 0 to 99283\n",
      "Data columns (total 4 columns):\n",
      "ts_code         99284 non-null object\n",
      "start_date      97521 non-null object\n",
      "is_release      93436 non-null float64\n",
      "release_date    53040 non-null object\n",
      "dtypes: float64(1), object(3)\n",
      "memory usage: 3.0+ MB\n"
     ]
    }
   ],
   "source": [
    "data.info()"
   ]
  },
  {
   "cell_type": "code",
   "execution_count": 4,
   "metadata": {},
   "outputs": [],
   "source": [
    "data = data.dropna(subset=['start_date'])"
   ]
  },
  {
   "cell_type": "code",
   "execution_count": 5,
   "metadata": {},
   "outputs": [
    {
     "name": "stdout",
     "output_type": "stream",
     "text": [
      "<class 'pandas.core.frame.DataFrame'>\n",
      "Int64Index: 97521 entries, 0 to 99283\n",
      "Data columns (total 4 columns):\n",
      "ts_code         97521 non-null object\n",
      "start_date      97521 non-null object\n",
      "is_release      92392 non-null float64\n",
      "release_date    51335 non-null object\n",
      "dtypes: float64(1), object(3)\n",
      "memory usage: 3.7+ MB\n"
     ]
    }
   ],
   "source": [
    "data.info()"
   ]
  },
  {
   "cell_type": "code",
   "execution_count": 6,
   "metadata": {},
   "outputs": [
    {
     "data": {
      "text/html": [
       "<div>\n",
       "<style scoped>\n",
       "    .dataframe tbody tr th:only-of-type {\n",
       "        vertical-align: middle;\n",
       "    }\n",
       "\n",
       "    .dataframe tbody tr th {\n",
       "        vertical-align: top;\n",
       "    }\n",
       "\n",
       "    .dataframe thead th {\n",
       "        text-align: right;\n",
       "    }\n",
       "</style>\n",
       "<table border=\"1\" class=\"dataframe\">\n",
       "  <thead>\n",
       "    <tr style=\"text-align: right;\">\n",
       "      <th></th>\n",
       "      <th>ts_code</th>\n",
       "      <th>start_date</th>\n",
       "      <th>is_release</th>\n",
       "      <th>release_date</th>\n",
       "    </tr>\n",
       "  </thead>\n",
       "  <tbody>\n",
       "    <tr>\n",
       "      <td>0</td>\n",
       "      <td>000002.SZ</td>\n",
       "      <td>20181225</td>\n",
       "      <td>1.0</td>\n",
       "      <td>20190826</td>\n",
       "    </tr>\n",
       "    <tr>\n",
       "      <td>1</td>\n",
       "      <td>000002.SZ</td>\n",
       "      <td>20190827</td>\n",
       "      <td>0.0</td>\n",
       "      <td>NaN</td>\n",
       "    </tr>\n",
       "    <tr>\n",
       "      <td>2</td>\n",
       "      <td>000002.SZ</td>\n",
       "      <td>20181218</td>\n",
       "      <td>1.0</td>\n",
       "      <td>20190722</td>\n",
       "    </tr>\n",
       "    <tr>\n",
       "      <td>3</td>\n",
       "      <td>000002.SZ</td>\n",
       "      <td>20190611</td>\n",
       "      <td>0.0</td>\n",
       "      <td>NaN</td>\n",
       "    </tr>\n",
       "    <tr>\n",
       "      <td>4</td>\n",
       "      <td>000002.SZ</td>\n",
       "      <td>20180926</td>\n",
       "      <td>1.0</td>\n",
       "      <td>20190605</td>\n",
       "    </tr>\n",
       "  </tbody>\n",
       "</table>\n",
       "</div>"
      ],
      "text/plain": [
       "     ts_code start_date  is_release release_date\n",
       "0  000002.SZ   20181225         1.0     20190826\n",
       "1  000002.SZ   20190827         0.0          NaN\n",
       "2  000002.SZ   20181218         1.0     20190722\n",
       "3  000002.SZ   20190611         0.0          NaN\n",
       "4  000002.SZ   20180926         1.0     20190605"
      ]
     },
     "execution_count": 6,
     "metadata": {},
     "output_type": "execute_result"
    }
   ],
   "source": [
    "data.head()"
   ]
  },
  {
   "cell_type": "code",
   "execution_count": 7,
   "metadata": {},
   "outputs": [],
   "source": [
    "data['len'] = data.apply(lambda x: len(x.start_date), axis=1)"
   ]
  },
  {
   "cell_type": "code",
   "execution_count": 8,
   "metadata": {},
   "outputs": [],
   "source": [
    "data = data[data['len'] == 8]"
   ]
  },
  {
   "cell_type": "code",
   "execution_count": 9,
   "metadata": {},
   "outputs": [],
   "source": [
    "data['start_date'] = pd.to_datetime(data['start_date'])"
   ]
  },
  {
   "cell_type": "code",
   "execution_count": 10,
   "metadata": {},
   "outputs": [
    {
     "data": {
      "text/html": [
       "<div>\n",
       "<style scoped>\n",
       "    .dataframe tbody tr th:only-of-type {\n",
       "        vertical-align: middle;\n",
       "    }\n",
       "\n",
       "    .dataframe tbody tr th {\n",
       "        vertical-align: top;\n",
       "    }\n",
       "\n",
       "    .dataframe thead th {\n",
       "        text-align: right;\n",
       "    }\n",
       "</style>\n",
       "<table border=\"1\" class=\"dataframe\">\n",
       "  <thead>\n",
       "    <tr style=\"text-align: right;\">\n",
       "      <th></th>\n",
       "      <th>ts_code</th>\n",
       "      <th>start_date</th>\n",
       "      <th>is_release</th>\n",
       "      <th>release_date</th>\n",
       "      <th>len</th>\n",
       "    </tr>\n",
       "  </thead>\n",
       "  <tbody>\n",
       "    <tr>\n",
       "      <td>0</td>\n",
       "      <td>000002.SZ</td>\n",
       "      <td>2018-12-25</td>\n",
       "      <td>1.0</td>\n",
       "      <td>20190826</td>\n",
       "      <td>8</td>\n",
       "    </tr>\n",
       "    <tr>\n",
       "      <td>1</td>\n",
       "      <td>000002.SZ</td>\n",
       "      <td>2019-08-27</td>\n",
       "      <td>0.0</td>\n",
       "      <td>NaN</td>\n",
       "      <td>8</td>\n",
       "    </tr>\n",
       "    <tr>\n",
       "      <td>2</td>\n",
       "      <td>000002.SZ</td>\n",
       "      <td>2018-12-18</td>\n",
       "      <td>1.0</td>\n",
       "      <td>20190722</td>\n",
       "      <td>8</td>\n",
       "    </tr>\n",
       "    <tr>\n",
       "      <td>3</td>\n",
       "      <td>000002.SZ</td>\n",
       "      <td>2019-06-11</td>\n",
       "      <td>0.0</td>\n",
       "      <td>NaN</td>\n",
       "      <td>8</td>\n",
       "    </tr>\n",
       "    <tr>\n",
       "      <td>4</td>\n",
       "      <td>000002.SZ</td>\n",
       "      <td>2018-09-26</td>\n",
       "      <td>1.0</td>\n",
       "      <td>20190605</td>\n",
       "      <td>8</td>\n",
       "    </tr>\n",
       "  </tbody>\n",
       "</table>\n",
       "</div>"
      ],
      "text/plain": [
       "     ts_code start_date  is_release release_date  len\n",
       "0  000002.SZ 2018-12-25         1.0     20190826    8\n",
       "1  000002.SZ 2019-08-27         0.0          NaN    8\n",
       "2  000002.SZ 2018-12-18         1.0     20190722    8\n",
       "3  000002.SZ 2019-06-11         0.0          NaN    8\n",
       "4  000002.SZ 2018-09-26         1.0     20190605    8"
      ]
     },
     "execution_count": 10,
     "metadata": {},
     "output_type": "execute_result"
    }
   ],
   "source": [
    "data.head()"
   ]
  },
  {
   "cell_type": "code",
   "execution_count": 11,
   "metadata": {},
   "outputs": [
    {
     "name": "stdout",
     "output_type": "stream",
     "text": [
      "<class 'pandas.core.frame.DataFrame'>\n",
      "Int64Index: 97452 entries, 0 to 99283\n",
      "Data columns (total 5 columns):\n",
      "ts_code         97452 non-null object\n",
      "start_date      97452 non-null datetime64[ns]\n",
      "is_release      92347 non-null float64\n",
      "release_date    51281 non-null object\n",
      "len             97452 non-null int64\n",
      "dtypes: datetime64[ns](1), float64(1), int64(1), object(2)\n",
      "memory usage: 4.5+ MB\n"
     ]
    }
   ],
   "source": [
    "data.info()"
   ]
  },
  {
   "cell_type": "code",
   "execution_count": 12,
   "metadata": {},
   "outputs": [],
   "source": [
    "data = data[(data['start_date'] > '2016-01-01') & (data['start_date'] < '2019-08-01')]"
   ]
  },
  {
   "cell_type": "code",
   "execution_count": 13,
   "metadata": {},
   "outputs": [],
   "source": [
    "data = data.drop_duplicates()"
   ]
  },
  {
   "cell_type": "code",
   "execution_count": 14,
   "metadata": {},
   "outputs": [
    {
     "name": "stdout",
     "output_type": "stream",
     "text": [
      "<class 'pandas.core.frame.DataFrame'>\n",
      "Int64Index: 54871 entries, 0 to 99283\n",
      "Data columns (total 5 columns):\n",
      "ts_code         54871 non-null object\n",
      "start_date      54871 non-null datetime64[ns]\n",
      "is_release      54871 non-null float64\n",
      "release_date    27640 non-null object\n",
      "len             54871 non-null int64\n",
      "dtypes: datetime64[ns](1), float64(1), int64(1), object(2)\n",
      "memory usage: 2.5+ MB\n"
     ]
    }
   ],
   "source": [
    "data.info()"
   ]
  },
  {
   "cell_type": "code",
   "execution_count": 15,
   "metadata": {},
   "outputs": [],
   "source": [
    "data = data.drop(['len'], axis=1)"
   ]
  },
  {
   "cell_type": "code",
   "execution_count": 16,
   "metadata": {},
   "outputs": [],
   "source": [
    "data.to_csv('../data/pledge_llf_clean.csv')"
   ]
  },
  {
   "cell_type": "code",
   "execution_count": 17,
   "metadata": {},
   "outputs": [
    {
     "data": {
      "text/html": [
       "<div>\n",
       "<style scoped>\n",
       "    .dataframe tbody tr th:only-of-type {\n",
       "        vertical-align: middle;\n",
       "    }\n",
       "\n",
       "    .dataframe tbody tr th {\n",
       "        vertical-align: top;\n",
       "    }\n",
       "\n",
       "    .dataframe thead th {\n",
       "        text-align: right;\n",
       "    }\n",
       "</style>\n",
       "<table border=\"1\" class=\"dataframe\">\n",
       "  <thead>\n",
       "    <tr style=\"text-align: right;\">\n",
       "      <th></th>\n",
       "      <th>ts_code</th>\n",
       "      <th>start_date</th>\n",
       "      <th>is_release</th>\n",
       "      <th>release_date</th>\n",
       "    </tr>\n",
       "  </thead>\n",
       "  <tbody>\n",
       "    <tr>\n",
       "      <td>0</td>\n",
       "      <td>000002.SZ</td>\n",
       "      <td>2018-12-25</td>\n",
       "      <td>1.0</td>\n",
       "      <td>20190826</td>\n",
       "    </tr>\n",
       "    <tr>\n",
       "      <td>2</td>\n",
       "      <td>000002.SZ</td>\n",
       "      <td>2018-12-18</td>\n",
       "      <td>1.0</td>\n",
       "      <td>20190722</td>\n",
       "    </tr>\n",
       "    <tr>\n",
       "      <td>3</td>\n",
       "      <td>000002.SZ</td>\n",
       "      <td>2019-06-11</td>\n",
       "      <td>0.0</td>\n",
       "      <td>NaN</td>\n",
       "    </tr>\n",
       "    <tr>\n",
       "      <td>4</td>\n",
       "      <td>000002.SZ</td>\n",
       "      <td>2018-09-26</td>\n",
       "      <td>1.0</td>\n",
       "      <td>20190605</td>\n",
       "    </tr>\n",
       "    <tr>\n",
       "      <td>5</td>\n",
       "      <td>000002.SZ</td>\n",
       "      <td>2018-09-28</td>\n",
       "      <td>1.0</td>\n",
       "      <td>20190605</td>\n",
       "    </tr>\n",
       "  </tbody>\n",
       "</table>\n",
       "</div>"
      ],
      "text/plain": [
       "     ts_code start_date  is_release release_date\n",
       "0  000002.SZ 2018-12-25         1.0     20190826\n",
       "2  000002.SZ 2018-12-18         1.0     20190722\n",
       "3  000002.SZ 2019-06-11         0.0          NaN\n",
       "4  000002.SZ 2018-09-26         1.0     20190605\n",
       "5  000002.SZ 2018-09-28         1.0     20190605"
      ]
     },
     "execution_count": 17,
     "metadata": {},
     "output_type": "execute_result"
    }
   ],
   "source": [
    "data.head()"
   ]
  },
  {
   "cell_type": "code",
   "execution_count": 18,
   "metadata": {},
   "outputs": [],
   "source": [
    "price_dict = {}\n",
    "for code in set(data['ts_code']):\n",
    "    price_df = pd.read_csv('../data/price/{}.csv'.format(code), index_col=0)\n",
    "    price_df.index = pd.to_datetime(price_df.index)\n",
    "    price_dict[code] = price_df"
   ]
  },
  {
   "cell_type": "code",
   "execution_count": 19,
   "metadata": {},
   "outputs": [
    {
     "data": {
      "text/plain": [
       "2413"
      ]
     },
     "execution_count": 19,
     "metadata": {},
     "output_type": "execute_result"
    }
   ],
   "source": [
    "len(price_dict)"
   ]
  },
  {
   "cell_type": "code",
   "execution_count": 20,
   "metadata": {},
   "outputs": [
    {
     "name": "stdout",
     "output_type": "stream",
     "text": [
      "<class 'pandas.core.frame.DataFrame'>\n",
      "DatetimeIndex: 761 entries, 2016-07-04 to 2019-08-21\n",
      "Data columns (total 9 columns):\n",
      "open         761 non-null float64\n",
      "high         761 non-null float64\n",
      "low          761 non-null float64\n",
      "close        761 non-null float64\n",
      "pre_close    761 non-null float64\n",
      "change       761 non-null float64\n",
      "pct_chg      761 non-null float64\n",
      "vol          761 non-null float64\n",
      "amount       761 non-null float64\n",
      "dtypes: float64(9)\n",
      "memory usage: 59.5 KB\n"
     ]
    }
   ],
   "source": [
    "price_dict['000002.SZ'].info()"
   ]
  },
  {
   "cell_type": "code",
   "execution_count": 21,
   "metadata": {},
   "outputs": [
    {
     "data": {
      "text/html": [
       "<div>\n",
       "<style scoped>\n",
       "    .dataframe tbody tr th:only-of-type {\n",
       "        vertical-align: middle;\n",
       "    }\n",
       "\n",
       "    .dataframe tbody tr th {\n",
       "        vertical-align: top;\n",
       "    }\n",
       "\n",
       "    .dataframe thead th {\n",
       "        text-align: right;\n",
       "    }\n",
       "</style>\n",
       "<table border=\"1\" class=\"dataframe\">\n",
       "  <thead>\n",
       "    <tr style=\"text-align: right;\">\n",
       "      <th></th>\n",
       "      <th>open</th>\n",
       "      <th>high</th>\n",
       "      <th>low</th>\n",
       "      <th>close</th>\n",
       "      <th>pre_close</th>\n",
       "      <th>change</th>\n",
       "      <th>pct_chg</th>\n",
       "      <th>vol</th>\n",
       "      <th>amount</th>\n",
       "    </tr>\n",
       "    <tr>\n",
       "      <th>trade_date</th>\n",
       "      <th></th>\n",
       "      <th></th>\n",
       "      <th></th>\n",
       "      <th></th>\n",
       "      <th></th>\n",
       "      <th></th>\n",
       "      <th></th>\n",
       "      <th></th>\n",
       "      <th></th>\n",
       "    </tr>\n",
       "  </thead>\n",
       "  <tbody>\n",
       "    <tr>\n",
       "      <td>2016-07-04</td>\n",
       "      <td>18.8836</td>\n",
       "      <td>18.8836</td>\n",
       "      <td>18.8836</td>\n",
       "      <td>18.8836</td>\n",
       "      <td>20.9790</td>\n",
       "      <td>-2.0954</td>\n",
       "      <td>-9.9881</td>\n",
       "      <td>42663.00</td>\n",
       "      <td>9.381594e+04</td>\n",
       "    </tr>\n",
       "    <tr>\n",
       "      <td>2016-07-05</td>\n",
       "      <td>16.9944</td>\n",
       "      <td>16.9944</td>\n",
       "      <td>16.9944</td>\n",
       "      <td>16.9944</td>\n",
       "      <td>18.8836</td>\n",
       "      <td>-1.8892</td>\n",
       "      <td>-10.0044</td>\n",
       "      <td>1990576.00</td>\n",
       "      <td>3.939350e+06</td>\n",
       "    </tr>\n",
       "    <tr>\n",
       "      <td>2016-07-06</td>\n",
       "      <td>16.4019</td>\n",
       "      <td>17.8446</td>\n",
       "      <td>16.4019</td>\n",
       "      <td>17.0030</td>\n",
       "      <td>16.9944</td>\n",
       "      <td>0.0086</td>\n",
       "      <td>0.0506</td>\n",
       "      <td>10283727.12</td>\n",
       "      <td>2.010649e+07</td>\n",
       "    </tr>\n",
       "    <tr>\n",
       "      <td>2016-07-07</td>\n",
       "      <td>16.4019</td>\n",
       "      <td>16.5049</td>\n",
       "      <td>16.0670</td>\n",
       "      <td>16.1614</td>\n",
       "      <td>17.0030</td>\n",
       "      <td>-0.8416</td>\n",
       "      <td>-4.9497</td>\n",
       "      <td>4300225.52</td>\n",
       "      <td>8.133978e+06</td>\n",
       "    </tr>\n",
       "    <tr>\n",
       "      <td>2016-07-08</td>\n",
       "      <td>15.9725</td>\n",
       "      <td>16.2988</td>\n",
       "      <td>15.6376</td>\n",
       "      <td>16.1013</td>\n",
       "      <td>16.1614</td>\n",
       "      <td>-0.0601</td>\n",
       "      <td>-0.3719</td>\n",
       "      <td>3124436.98</td>\n",
       "      <td>5.799513e+06</td>\n",
       "    </tr>\n",
       "  </tbody>\n",
       "</table>\n",
       "</div>"
      ],
      "text/plain": [
       "               open     high      low    close  pre_close  change  pct_chg  \\\n",
       "trade_date                                                                   \n",
       "2016-07-04  18.8836  18.8836  18.8836  18.8836    20.9790 -2.0954  -9.9881   \n",
       "2016-07-05  16.9944  16.9944  16.9944  16.9944    18.8836 -1.8892 -10.0044   \n",
       "2016-07-06  16.4019  17.8446  16.4019  17.0030    16.9944  0.0086   0.0506   \n",
       "2016-07-07  16.4019  16.5049  16.0670  16.1614    17.0030 -0.8416  -4.9497   \n",
       "2016-07-08  15.9725  16.2988  15.6376  16.1013    16.1614 -0.0601  -0.3719   \n",
       "\n",
       "                    vol        amount  \n",
       "trade_date                             \n",
       "2016-07-04     42663.00  9.381594e+04  \n",
       "2016-07-05   1990576.00  3.939350e+06  \n",
       "2016-07-06  10283727.12  2.010649e+07  \n",
       "2016-07-07   4300225.52  8.133978e+06  \n",
       "2016-07-08   3124436.98  5.799513e+06  "
      ]
     },
     "execution_count": 21,
     "metadata": {},
     "output_type": "execute_result"
    }
   ],
   "source": [
    "price_dict['000002.SZ'].head()"
   ]
  },
  {
   "cell_type": "code",
   "execution_count": 56,
   "metadata": {},
   "outputs": [
    {
     "data": {
      "text/plain": [
       "Timestamp('2016-07-05 00:00:00')"
      ]
     },
     "execution_count": 56,
     "metadata": {},
     "output_type": "execute_result"
    }
   ],
   "source": [
    "price_dict['000002.SZ'].iloc[1].name"
   ]
  },
  {
   "cell_type": "code",
   "execution_count": 22,
   "metadata": {},
   "outputs": [],
   "source": [
    "data['has_price'] = data.apply(lambda x: x.start_date in price_dict[x.ts_code].index, axis=1)"
   ]
  },
  {
   "cell_type": "code",
   "execution_count": 23,
   "metadata": {},
   "outputs": [
    {
     "name": "stdout",
     "output_type": "stream",
     "text": [
      "<class 'pandas.core.frame.DataFrame'>\n",
      "Int64Index: 51087 entries, 0 to 99283\n",
      "Data columns (total 5 columns):\n",
      "ts_code         51087 non-null object\n",
      "start_date      51087 non-null datetime64[ns]\n",
      "is_release      51087 non-null float64\n",
      "release_date    25618 non-null object\n",
      "has_price       51087 non-null bool\n",
      "dtypes: bool(1), datetime64[ns](1), float64(1), object(2)\n",
      "memory usage: 2.0+ MB\n"
     ]
    }
   ],
   "source": [
    "data[data['has_price']].info()"
   ]
  },
  {
   "cell_type": "code",
   "execution_count": 24,
   "metadata": {},
   "outputs": [],
   "source": [
    "data = data[data['has_price']]"
   ]
  },
  {
   "cell_type": "code",
   "execution_count": 25,
   "metadata": {},
   "outputs": [],
   "source": [
    "data['pledge_price'] = data.apply(lambda x: price_dict[x.ts_code].loc[x.start_date]['low'], axis=1)"
   ]
  },
  {
   "cell_type": "code",
   "execution_count": 26,
   "metadata": {},
   "outputs": [],
   "source": [
    "data = data.drop(['has_price'], axis=1)"
   ]
  },
  {
   "cell_type": "code",
   "execution_count": 27,
   "metadata": {},
   "outputs": [
    {
     "data": {
      "text/html": [
       "<div>\n",
       "<style scoped>\n",
       "    .dataframe tbody tr th:only-of-type {\n",
       "        vertical-align: middle;\n",
       "    }\n",
       "\n",
       "    .dataframe tbody tr th {\n",
       "        vertical-align: top;\n",
       "    }\n",
       "\n",
       "    .dataframe thead th {\n",
       "        text-align: right;\n",
       "    }\n",
       "</style>\n",
       "<table border=\"1\" class=\"dataframe\">\n",
       "  <thead>\n",
       "    <tr style=\"text-align: right;\">\n",
       "      <th></th>\n",
       "      <th>ts_code</th>\n",
       "      <th>start_date</th>\n",
       "      <th>is_release</th>\n",
       "      <th>release_date</th>\n",
       "      <th>pledge_price</th>\n",
       "    </tr>\n",
       "  </thead>\n",
       "  <tbody>\n",
       "    <tr>\n",
       "      <td>0</td>\n",
       "      <td>000002.SZ</td>\n",
       "      <td>2018-12-25</td>\n",
       "      <td>1.0</td>\n",
       "      <td>20190826</td>\n",
       "      <td>22.4751</td>\n",
       "    </tr>\n",
       "    <tr>\n",
       "      <td>2</td>\n",
       "      <td>000002.SZ</td>\n",
       "      <td>2018-12-18</td>\n",
       "      <td>1.0</td>\n",
       "      <td>20190722</td>\n",
       "      <td>24.3593</td>\n",
       "    </tr>\n",
       "    <tr>\n",
       "      <td>3</td>\n",
       "      <td>000002.SZ</td>\n",
       "      <td>2019-06-11</td>\n",
       "      <td>0.0</td>\n",
       "      <td>NaN</td>\n",
       "      <td>26.7721</td>\n",
       "    </tr>\n",
       "    <tr>\n",
       "      <td>4</td>\n",
       "      <td>000002.SZ</td>\n",
       "      <td>2018-09-26</td>\n",
       "      <td>1.0</td>\n",
       "      <td>20190605</td>\n",
       "      <td>22.9654</td>\n",
       "    </tr>\n",
       "    <tr>\n",
       "      <td>5</td>\n",
       "      <td>000002.SZ</td>\n",
       "      <td>2018-09-28</td>\n",
       "      <td>1.0</td>\n",
       "      <td>20190605</td>\n",
       "      <td>23.0231</td>\n",
       "    </tr>\n",
       "  </tbody>\n",
       "</table>\n",
       "</div>"
      ],
      "text/plain": [
       "     ts_code start_date  is_release release_date  pledge_price\n",
       "0  000002.SZ 2018-12-25         1.0     20190826       22.4751\n",
       "2  000002.SZ 2018-12-18         1.0     20190722       24.3593\n",
       "3  000002.SZ 2019-06-11         0.0          NaN       26.7721\n",
       "4  000002.SZ 2018-09-26         1.0     20190605       22.9654\n",
       "5  000002.SZ 2018-09-28         1.0     20190605       23.0231"
      ]
     },
     "execution_count": 27,
     "metadata": {},
     "output_type": "execute_result"
    }
   ],
   "source": [
    "data.head()"
   ]
  },
  {
   "cell_type": "code",
   "execution_count": 28,
   "metadata": {},
   "outputs": [],
   "source": [
    "data['forcast_close_line'] = data.apply(lambda x: x.pledge_price * 0.7, axis=1)"
   ]
  },
  {
   "cell_type": "code",
   "execution_count": 29,
   "metadata": {},
   "outputs": [
    {
     "data": {
      "text/html": [
       "<div>\n",
       "<style scoped>\n",
       "    .dataframe tbody tr th:only-of-type {\n",
       "        vertical-align: middle;\n",
       "    }\n",
       "\n",
       "    .dataframe tbody tr th {\n",
       "        vertical-align: top;\n",
       "    }\n",
       "\n",
       "    .dataframe thead th {\n",
       "        text-align: right;\n",
       "    }\n",
       "</style>\n",
       "<table border=\"1\" class=\"dataframe\">\n",
       "  <thead>\n",
       "    <tr style=\"text-align: right;\">\n",
       "      <th></th>\n",
       "      <th>ts_code</th>\n",
       "      <th>start_date</th>\n",
       "      <th>is_release</th>\n",
       "      <th>release_date</th>\n",
       "      <th>pledge_price</th>\n",
       "      <th>forcast_close_line</th>\n",
       "    </tr>\n",
       "  </thead>\n",
       "  <tbody>\n",
       "    <tr>\n",
       "      <td>0</td>\n",
       "      <td>000002.SZ</td>\n",
       "      <td>2018-12-25</td>\n",
       "      <td>1.0</td>\n",
       "      <td>20190826</td>\n",
       "      <td>22.4751</td>\n",
       "      <td>15.73257</td>\n",
       "    </tr>\n",
       "    <tr>\n",
       "      <td>2</td>\n",
       "      <td>000002.SZ</td>\n",
       "      <td>2018-12-18</td>\n",
       "      <td>1.0</td>\n",
       "      <td>20190722</td>\n",
       "      <td>24.3593</td>\n",
       "      <td>17.05151</td>\n",
       "    </tr>\n",
       "    <tr>\n",
       "      <td>3</td>\n",
       "      <td>000002.SZ</td>\n",
       "      <td>2019-06-11</td>\n",
       "      <td>0.0</td>\n",
       "      <td>NaN</td>\n",
       "      <td>26.7721</td>\n",
       "      <td>18.74047</td>\n",
       "    </tr>\n",
       "    <tr>\n",
       "      <td>4</td>\n",
       "      <td>000002.SZ</td>\n",
       "      <td>2018-09-26</td>\n",
       "      <td>1.0</td>\n",
       "      <td>20190605</td>\n",
       "      <td>22.9654</td>\n",
       "      <td>16.07578</td>\n",
       "    </tr>\n",
       "    <tr>\n",
       "      <td>5</td>\n",
       "      <td>000002.SZ</td>\n",
       "      <td>2018-09-28</td>\n",
       "      <td>1.0</td>\n",
       "      <td>20190605</td>\n",
       "      <td>23.0231</td>\n",
       "      <td>16.11617</td>\n",
       "    </tr>\n",
       "  </tbody>\n",
       "</table>\n",
       "</div>"
      ],
      "text/plain": [
       "     ts_code start_date  is_release release_date  pledge_price  \\\n",
       "0  000002.SZ 2018-12-25         1.0     20190826       22.4751   \n",
       "2  000002.SZ 2018-12-18         1.0     20190722       24.3593   \n",
       "3  000002.SZ 2019-06-11         0.0          NaN       26.7721   \n",
       "4  000002.SZ 2018-09-26         1.0     20190605       22.9654   \n",
       "5  000002.SZ 2018-09-28         1.0     20190605       23.0231   \n",
       "\n",
       "   forcast_close_line  \n",
       "0            15.73257  \n",
       "2            17.05151  \n",
       "3            18.74047  \n",
       "4            16.07578  \n",
       "5            16.11617  "
      ]
     },
     "execution_count": 29,
     "metadata": {},
     "output_type": "execute_result"
    }
   ],
   "source": [
    "data.head()"
   ]
  },
  {
   "cell_type": "code",
   "execution_count": 30,
   "metadata": {},
   "outputs": [
    {
     "data": {
      "text/html": [
       "<div>\n",
       "<style scoped>\n",
       "    .dataframe tbody tr th:only-of-type {\n",
       "        vertical-align: middle;\n",
       "    }\n",
       "\n",
       "    .dataframe tbody tr th {\n",
       "        vertical-align: top;\n",
       "    }\n",
       "\n",
       "    .dataframe thead th {\n",
       "        text-align: right;\n",
       "    }\n",
       "</style>\n",
       "<table border=\"1\" class=\"dataframe\">\n",
       "  <thead>\n",
       "    <tr style=\"text-align: right;\">\n",
       "      <th></th>\n",
       "      <th>ts_code</th>\n",
       "      <th>start_date</th>\n",
       "      <th>release_date</th>\n",
       "      <th>pledge_price</th>\n",
       "      <th>forcast_close_line</th>\n",
       "    </tr>\n",
       "    <tr>\n",
       "      <th>is_release</th>\n",
       "      <th></th>\n",
       "      <th></th>\n",
       "      <th></th>\n",
       "      <th></th>\n",
       "      <th></th>\n",
       "    </tr>\n",
       "  </thead>\n",
       "  <tbody>\n",
       "    <tr>\n",
       "      <td>0.0</td>\n",
       "      <td>25462</td>\n",
       "      <td>25462</td>\n",
       "      <td>0</td>\n",
       "      <td>25462</td>\n",
       "      <td>25462</td>\n",
       "    </tr>\n",
       "    <tr>\n",
       "      <td>1.0</td>\n",
       "      <td>25625</td>\n",
       "      <td>25625</td>\n",
       "      <td>25618</td>\n",
       "      <td>25625</td>\n",
       "      <td>25625</td>\n",
       "    </tr>\n",
       "  </tbody>\n",
       "</table>\n",
       "</div>"
      ],
      "text/plain": [
       "            ts_code  start_date  release_date  pledge_price  \\\n",
       "is_release                                                    \n",
       "0.0           25462       25462             0         25462   \n",
       "1.0           25625       25625         25618         25625   \n",
       "\n",
       "            forcast_close_line  \n",
       "is_release                      \n",
       "0.0                      25462  \n",
       "1.0                      25625  "
      ]
     },
     "execution_count": 30,
     "metadata": {},
     "output_type": "execute_result"
    }
   ],
   "source": [
    "data.groupby(['is_release']).count()"
   ]
  },
  {
   "cell_type": "code",
   "execution_count": 36,
   "metadata": {},
   "outputs": [],
   "source": [
    "def filter_release_date(x):\n",
    "    # 还未解押\n",
    "    if int(x.is_release) == 0:\n",
    "        return True\n",
    "    # 已解押但没有时间数据\n",
    "    if x.release_date is None:\n",
    "        return False\n",
    "    # 已解押但时间数据非法\n",
    "    if len(str(x.release_date)) != 8:\n",
    "        return False\n",
    "    return True\n",
    "        "
   ]
  },
  {
   "cell_type": "code",
   "execution_count": 37,
   "metadata": {},
   "outputs": [],
   "source": [
    "data['is_valid_release_date'] = data.apply(filter_release_date, axis=1)"
   ]
  },
  {
   "cell_type": "code",
   "execution_count": 38,
   "metadata": {},
   "outputs": [
    {
     "name": "stdout",
     "output_type": "stream",
     "text": [
      "<class 'pandas.core.frame.DataFrame'>\n",
      "Int64Index: 51080 entries, 0 to 99283\n",
      "Data columns (total 7 columns):\n",
      "ts_code                  51080 non-null object\n",
      "start_date               51080 non-null datetime64[ns]\n",
      "is_release               51080 non-null float64\n",
      "release_date             25618 non-null object\n",
      "pledge_price             51080 non-null float64\n",
      "forcast_close_line       51080 non-null float64\n",
      "is_valid_release_date    51080 non-null bool\n",
      "dtypes: bool(1), datetime64[ns](1), float64(3), object(2)\n",
      "memory usage: 2.8+ MB\n"
     ]
    }
   ],
   "source": [
    "data[data['is_valid_release_date']].info()"
   ]
  },
  {
   "cell_type": "code",
   "execution_count": 39,
   "metadata": {},
   "outputs": [],
   "source": [
    "data = data[data['is_valid_release_date']]"
   ]
  },
  {
   "cell_type": "code",
   "execution_count": 40,
   "metadata": {},
   "outputs": [
    {
     "data": {
      "text/html": [
       "<div>\n",
       "<style scoped>\n",
       "    .dataframe tbody tr th:only-of-type {\n",
       "        vertical-align: middle;\n",
       "    }\n",
       "\n",
       "    .dataframe tbody tr th {\n",
       "        vertical-align: top;\n",
       "    }\n",
       "\n",
       "    .dataframe thead th {\n",
       "        text-align: right;\n",
       "    }\n",
       "</style>\n",
       "<table border=\"1\" class=\"dataframe\">\n",
       "  <thead>\n",
       "    <tr style=\"text-align: right;\">\n",
       "      <th></th>\n",
       "      <th>ts_code</th>\n",
       "      <th>start_date</th>\n",
       "      <th>is_release</th>\n",
       "      <th>release_date</th>\n",
       "      <th>pledge_price</th>\n",
       "      <th>forcast_close_line</th>\n",
       "      <th>is_valid_release_date</th>\n",
       "    </tr>\n",
       "  </thead>\n",
       "  <tbody>\n",
       "    <tr>\n",
       "      <td>0</td>\n",
       "      <td>000002.SZ</td>\n",
       "      <td>2018-12-25</td>\n",
       "      <td>1.0</td>\n",
       "      <td>20190826</td>\n",
       "      <td>22.4751</td>\n",
       "      <td>15.73257</td>\n",
       "      <td>True</td>\n",
       "    </tr>\n",
       "    <tr>\n",
       "      <td>2</td>\n",
       "      <td>000002.SZ</td>\n",
       "      <td>2018-12-18</td>\n",
       "      <td>1.0</td>\n",
       "      <td>20190722</td>\n",
       "      <td>24.3593</td>\n",
       "      <td>17.05151</td>\n",
       "      <td>True</td>\n",
       "    </tr>\n",
       "    <tr>\n",
       "      <td>3</td>\n",
       "      <td>000002.SZ</td>\n",
       "      <td>2019-06-11</td>\n",
       "      <td>0.0</td>\n",
       "      <td>NaN</td>\n",
       "      <td>26.7721</td>\n",
       "      <td>18.74047</td>\n",
       "      <td>True</td>\n",
       "    </tr>\n",
       "    <tr>\n",
       "      <td>4</td>\n",
       "      <td>000002.SZ</td>\n",
       "      <td>2018-09-26</td>\n",
       "      <td>1.0</td>\n",
       "      <td>20190605</td>\n",
       "      <td>22.9654</td>\n",
       "      <td>16.07578</td>\n",
       "      <td>True</td>\n",
       "    </tr>\n",
       "    <tr>\n",
       "      <td>5</td>\n",
       "      <td>000002.SZ</td>\n",
       "      <td>2018-09-28</td>\n",
       "      <td>1.0</td>\n",
       "      <td>20190605</td>\n",
       "      <td>23.0231</td>\n",
       "      <td>16.11617</td>\n",
       "      <td>True</td>\n",
       "    </tr>\n",
       "  </tbody>\n",
       "</table>\n",
       "</div>"
      ],
      "text/plain": [
       "     ts_code start_date  is_release release_date  pledge_price  \\\n",
       "0  000002.SZ 2018-12-25         1.0     20190826       22.4751   \n",
       "2  000002.SZ 2018-12-18         1.0     20190722       24.3593   \n",
       "3  000002.SZ 2019-06-11         0.0          NaN       26.7721   \n",
       "4  000002.SZ 2018-09-26         1.0     20190605       22.9654   \n",
       "5  000002.SZ 2018-09-28         1.0     20190605       23.0231   \n",
       "\n",
       "   forcast_close_line  is_valid_release_date  \n",
       "0            15.73257                   True  \n",
       "2            17.05151                   True  \n",
       "3            18.74047                   True  \n",
       "4            16.07578                   True  \n",
       "5            16.11617                   True  "
      ]
     },
     "execution_count": 40,
     "metadata": {},
     "output_type": "execute_result"
    }
   ],
   "source": [
    "data.head()"
   ]
  },
  {
   "cell_type": "code",
   "execution_count": 41,
   "metadata": {},
   "outputs": [],
   "source": [
    "data = data.drop(['is_valid_release_date'], axis=1)"
   ]
  },
  {
   "cell_type": "code",
   "execution_count": 42,
   "metadata": {},
   "outputs": [],
   "source": [
    "data['release_date'] = pd.to_datetime(data['release_date'])"
   ]
  },
  {
   "cell_type": "code",
   "execution_count": 43,
   "metadata": {},
   "outputs": [
    {
     "data": {
      "text/html": [
       "<div>\n",
       "<style scoped>\n",
       "    .dataframe tbody tr th:only-of-type {\n",
       "        vertical-align: middle;\n",
       "    }\n",
       "\n",
       "    .dataframe tbody tr th {\n",
       "        vertical-align: top;\n",
       "    }\n",
       "\n",
       "    .dataframe thead th {\n",
       "        text-align: right;\n",
       "    }\n",
       "</style>\n",
       "<table border=\"1\" class=\"dataframe\">\n",
       "  <thead>\n",
       "    <tr style=\"text-align: right;\">\n",
       "      <th></th>\n",
       "      <th>ts_code</th>\n",
       "      <th>start_date</th>\n",
       "      <th>is_release</th>\n",
       "      <th>release_date</th>\n",
       "      <th>pledge_price</th>\n",
       "      <th>forcast_close_line</th>\n",
       "    </tr>\n",
       "  </thead>\n",
       "  <tbody>\n",
       "    <tr>\n",
       "      <td>0</td>\n",
       "      <td>000002.SZ</td>\n",
       "      <td>2018-12-25</td>\n",
       "      <td>1.0</td>\n",
       "      <td>2019-08-26</td>\n",
       "      <td>22.4751</td>\n",
       "      <td>15.73257</td>\n",
       "    </tr>\n",
       "    <tr>\n",
       "      <td>2</td>\n",
       "      <td>000002.SZ</td>\n",
       "      <td>2018-12-18</td>\n",
       "      <td>1.0</td>\n",
       "      <td>2019-07-22</td>\n",
       "      <td>24.3593</td>\n",
       "      <td>17.05151</td>\n",
       "    </tr>\n",
       "    <tr>\n",
       "      <td>3</td>\n",
       "      <td>000002.SZ</td>\n",
       "      <td>2019-06-11</td>\n",
       "      <td>0.0</td>\n",
       "      <td>NaT</td>\n",
       "      <td>26.7721</td>\n",
       "      <td>18.74047</td>\n",
       "    </tr>\n",
       "    <tr>\n",
       "      <td>4</td>\n",
       "      <td>000002.SZ</td>\n",
       "      <td>2018-09-26</td>\n",
       "      <td>1.0</td>\n",
       "      <td>2019-06-05</td>\n",
       "      <td>22.9654</td>\n",
       "      <td>16.07578</td>\n",
       "    </tr>\n",
       "    <tr>\n",
       "      <td>5</td>\n",
       "      <td>000002.SZ</td>\n",
       "      <td>2018-09-28</td>\n",
       "      <td>1.0</td>\n",
       "      <td>2019-06-05</td>\n",
       "      <td>23.0231</td>\n",
       "      <td>16.11617</td>\n",
       "    </tr>\n",
       "  </tbody>\n",
       "</table>\n",
       "</div>"
      ],
      "text/plain": [
       "     ts_code start_date  is_release release_date  pledge_price  \\\n",
       "0  000002.SZ 2018-12-25         1.0   2019-08-26       22.4751   \n",
       "2  000002.SZ 2018-12-18         1.0   2019-07-22       24.3593   \n",
       "3  000002.SZ 2019-06-11         0.0          NaT       26.7721   \n",
       "4  000002.SZ 2018-09-26         1.0   2019-06-05       22.9654   \n",
       "5  000002.SZ 2018-09-28         1.0   2019-06-05       23.0231   \n",
       "\n",
       "   forcast_close_line  \n",
       "0            15.73257  \n",
       "2            17.05151  \n",
       "3            18.74047  \n",
       "4            16.07578  \n",
       "5            16.11617  "
      ]
     },
     "execution_count": 43,
     "metadata": {},
     "output_type": "execute_result"
    }
   ],
   "source": [
    "data.head()"
   ]
  },
  {
   "cell_type": "code",
   "execution_count": 58,
   "metadata": {},
   "outputs": [],
   "source": [
    "def is_close(x):\n",
    "    p_df = price_dict[x.ts_code]\n",
    "    if int(x.is_release) == 1:\n",
    "        p_df = p_df[x.start_date: x.release_date]\n",
    "    else:\n",
    "        p_df = p_df[x.start_date:]\n",
    "    smaller_than_close = p_df[p_df['close'] < x.forcast_close_line]\n",
    "    if len(smaller_than_close) > 0:\n",
    "        return True, smaller_than_close.iloc[0].name\n",
    "    else:\n",
    "        return False, None"
   ]
  },
  {
   "cell_type": "code",
   "execution_count": 63,
   "metadata": {},
   "outputs": [],
   "source": [
    "# data['is_reach_close_line'], data['close_date'] = data.apply(is_close, axis=1)\n",
    "two_df = pd.DataFrame(data.apply(lambda x: is_close(x), axis=1).to_list(), \n",
    "             columns=['is_reach_close_line', 'close_date'],\n",
    "            index=data.index)"
   ]
  },
  {
   "cell_type": "code",
   "execution_count": 65,
   "metadata": {},
   "outputs": [],
   "source": [
    "data = pd.concat([data, two_df], axis=1)"
   ]
  },
  {
   "cell_type": "code",
   "execution_count": 69,
   "metadata": {},
   "outputs": [
    {
     "data": {
      "text/html": [
       "<div>\n",
       "<style scoped>\n",
       "    .dataframe tbody tr th:only-of-type {\n",
       "        vertical-align: middle;\n",
       "    }\n",
       "\n",
       "    .dataframe tbody tr th {\n",
       "        vertical-align: top;\n",
       "    }\n",
       "\n",
       "    .dataframe thead th {\n",
       "        text-align: right;\n",
       "    }\n",
       "</style>\n",
       "<table border=\"1\" class=\"dataframe\">\n",
       "  <thead>\n",
       "    <tr style=\"text-align: right;\">\n",
       "      <th></th>\n",
       "      <th>ts_code</th>\n",
       "      <th>start_date</th>\n",
       "      <th>is_release</th>\n",
       "      <th>release_date</th>\n",
       "      <th>pledge_price</th>\n",
       "      <th>forcast_close_line</th>\n",
       "      <th>close_date</th>\n",
       "    </tr>\n",
       "    <tr>\n",
       "      <th>is_reach_close_line</th>\n",
       "      <th></th>\n",
       "      <th></th>\n",
       "      <th></th>\n",
       "      <th></th>\n",
       "      <th></th>\n",
       "      <th></th>\n",
       "      <th></th>\n",
       "    </tr>\n",
       "  </thead>\n",
       "  <tbody>\n",
       "    <tr>\n",
       "      <td>False</td>\n",
       "      <td>27293</td>\n",
       "      <td>27293</td>\n",
       "      <td>27293</td>\n",
       "      <td>16054</td>\n",
       "      <td>27293</td>\n",
       "      <td>27293</td>\n",
       "      <td>0</td>\n",
       "    </tr>\n",
       "    <tr>\n",
       "      <td>True</td>\n",
       "      <td>23787</td>\n",
       "      <td>23787</td>\n",
       "      <td>23787</td>\n",
       "      <td>9564</td>\n",
       "      <td>23787</td>\n",
       "      <td>23787</td>\n",
       "      <td>23787</td>\n",
       "    </tr>\n",
       "  </tbody>\n",
       "</table>\n",
       "</div>"
      ],
      "text/plain": [
       "                     ts_code  start_date  is_release  release_date  \\\n",
       "is_reach_close_line                                                  \n",
       "False                  27293       27293       27293         16054   \n",
       "True                   23787       23787       23787          9564   \n",
       "\n",
       "                     pledge_price  forcast_close_line  close_date  \n",
       "is_reach_close_line                                                \n",
       "False                       27293               27293           0  \n",
       "True                        23787               23787       23787  "
      ]
     },
     "execution_count": 69,
     "metadata": {},
     "output_type": "execute_result"
    }
   ],
   "source": [
    "data.groupby('is_reach_close_line').count()"
   ]
  },
  {
   "cell_type": "code",
   "execution_count": 70,
   "metadata": {},
   "outputs": [],
   "source": [
    "data = data.drop(['is_release'], axis=1)"
   ]
  },
  {
   "cell_type": "code",
   "execution_count": 71,
   "metadata": {},
   "outputs": [
    {
     "data": {
      "text/html": [
       "<div>\n",
       "<style scoped>\n",
       "    .dataframe tbody tr th:only-of-type {\n",
       "        vertical-align: middle;\n",
       "    }\n",
       "\n",
       "    .dataframe tbody tr th {\n",
       "        vertical-align: top;\n",
       "    }\n",
       "\n",
       "    .dataframe thead th {\n",
       "        text-align: right;\n",
       "    }\n",
       "</style>\n",
       "<table border=\"1\" class=\"dataframe\">\n",
       "  <thead>\n",
       "    <tr style=\"text-align: right;\">\n",
       "      <th></th>\n",
       "      <th>ts_code</th>\n",
       "      <th>start_date</th>\n",
       "      <th>release_date</th>\n",
       "      <th>pledge_price</th>\n",
       "      <th>forcast_close_line</th>\n",
       "      <th>is_reach_close_line</th>\n",
       "      <th>close_date</th>\n",
       "    </tr>\n",
       "  </thead>\n",
       "  <tbody>\n",
       "    <tr>\n",
       "      <td>0</td>\n",
       "      <td>000002.SZ</td>\n",
       "      <td>2018-12-25</td>\n",
       "      <td>2019-08-26</td>\n",
       "      <td>22.4751</td>\n",
       "      <td>15.73257</td>\n",
       "      <td>False</td>\n",
       "      <td>NaT</td>\n",
       "    </tr>\n",
       "    <tr>\n",
       "      <td>2</td>\n",
       "      <td>000002.SZ</td>\n",
       "      <td>2018-12-18</td>\n",
       "      <td>2019-07-22</td>\n",
       "      <td>24.3593</td>\n",
       "      <td>17.05151</td>\n",
       "      <td>False</td>\n",
       "      <td>NaT</td>\n",
       "    </tr>\n",
       "    <tr>\n",
       "      <td>3</td>\n",
       "      <td>000002.SZ</td>\n",
       "      <td>2019-06-11</td>\n",
       "      <td>NaT</td>\n",
       "      <td>26.7721</td>\n",
       "      <td>18.74047</td>\n",
       "      <td>False</td>\n",
       "      <td>NaT</td>\n",
       "    </tr>\n",
       "    <tr>\n",
       "      <td>4</td>\n",
       "      <td>000002.SZ</td>\n",
       "      <td>2018-09-26</td>\n",
       "      <td>2019-06-05</td>\n",
       "      <td>22.9654</td>\n",
       "      <td>16.07578</td>\n",
       "      <td>False</td>\n",
       "      <td>NaT</td>\n",
       "    </tr>\n",
       "    <tr>\n",
       "      <td>5</td>\n",
       "      <td>000002.SZ</td>\n",
       "      <td>2018-09-28</td>\n",
       "      <td>2019-06-05</td>\n",
       "      <td>23.0231</td>\n",
       "      <td>16.11617</td>\n",
       "      <td>False</td>\n",
       "      <td>NaT</td>\n",
       "    </tr>\n",
       "  </tbody>\n",
       "</table>\n",
       "</div>"
      ],
      "text/plain": [
       "     ts_code start_date release_date  pledge_price  forcast_close_line  \\\n",
       "0  000002.SZ 2018-12-25   2019-08-26       22.4751            15.73257   \n",
       "2  000002.SZ 2018-12-18   2019-07-22       24.3593            17.05151   \n",
       "3  000002.SZ 2019-06-11          NaT       26.7721            18.74047   \n",
       "4  000002.SZ 2018-09-26   2019-06-05       22.9654            16.07578   \n",
       "5  000002.SZ 2018-09-28   2019-06-05       23.0231            16.11617   \n",
       "\n",
       "   is_reach_close_line close_date  \n",
       "0                False        NaT  \n",
       "2                False        NaT  \n",
       "3                False        NaT  \n",
       "4                False        NaT  \n",
       "5                False        NaT  "
      ]
     },
     "execution_count": 71,
     "metadata": {},
     "output_type": "execute_result"
    }
   ],
   "source": [
    "data.head()"
   ]
  },
  {
   "cell_type": "code",
   "execution_count": 72,
   "metadata": {},
   "outputs": [],
   "source": [
    "data.to_csv('../data/pledge_full_clean.csv', index=False)"
   ]
  },
  {
   "cell_type": "code",
   "execution_count": 75,
   "metadata": {},
   "outputs": [],
   "source": [
    "pledge_positive = data[data['is_reach_close_line']]\n",
    "pledge_neg = data[data['is_reach_close_line'] == False]"
   ]
  },
  {
   "cell_type": "code",
   "execution_count": 76,
   "metadata": {},
   "outputs": [
    {
     "name": "stdout",
     "output_type": "stream",
     "text": [
      "<class 'pandas.core.frame.DataFrame'>\n",
      "Int64Index: 23787 entries, 13 to 99276\n",
      "Data columns (total 7 columns):\n",
      "ts_code                23787 non-null object\n",
      "start_date             23787 non-null datetime64[ns]\n",
      "release_date           9564 non-null datetime64[ns]\n",
      "pledge_price           23787 non-null float64\n",
      "forcast_close_line     23787 non-null float64\n",
      "is_reach_close_line    23787 non-null bool\n",
      "close_date             23787 non-null datetime64[ns]\n",
      "dtypes: bool(1), datetime64[ns](3), float64(2), object(1)\n",
      "memory usage: 1.3+ MB\n"
     ]
    }
   ],
   "source": [
    "pledge_positive.info()"
   ]
  },
  {
   "cell_type": "code",
   "execution_count": 77,
   "metadata": {},
   "outputs": [
    {
     "data": {
      "text/html": [
       "<div>\n",
       "<style scoped>\n",
       "    .dataframe tbody tr th:only-of-type {\n",
       "        vertical-align: middle;\n",
       "    }\n",
       "\n",
       "    .dataframe tbody tr th {\n",
       "        vertical-align: top;\n",
       "    }\n",
       "\n",
       "    .dataframe thead th {\n",
       "        text-align: right;\n",
       "    }\n",
       "</style>\n",
       "<table border=\"1\" class=\"dataframe\">\n",
       "  <thead>\n",
       "    <tr style=\"text-align: right;\">\n",
       "      <th></th>\n",
       "      <th>ts_code</th>\n",
       "      <th>start_date</th>\n",
       "      <th>release_date</th>\n",
       "      <th>pledge_price</th>\n",
       "      <th>forcast_close_line</th>\n",
       "      <th>is_reach_close_line</th>\n",
       "      <th>close_date</th>\n",
       "    </tr>\n",
       "  </thead>\n",
       "  <tbody>\n",
       "    <tr>\n",
       "      <td>13</td>\n",
       "      <td>000002.SZ</td>\n",
       "      <td>2017-12-01</td>\n",
       "      <td>2019-01-17</td>\n",
       "      <td>28.2164</td>\n",
       "      <td>19.75148</td>\n",
       "      <td>True</td>\n",
       "      <td>2018-08-03</td>\n",
       "    </tr>\n",
       "    <tr>\n",
       "      <td>22</td>\n",
       "      <td>000002.SZ</td>\n",
       "      <td>2018-01-30</td>\n",
       "      <td>2018-12-24</td>\n",
       "      <td>33.5544</td>\n",
       "      <td>23.48808</td>\n",
       "      <td>True</td>\n",
       "      <td>2018-05-30</td>\n",
       "    </tr>\n",
       "    <tr>\n",
       "      <td>27</td>\n",
       "      <td>000002.SZ</td>\n",
       "      <td>2017-12-01</td>\n",
       "      <td>2018-11-30</td>\n",
       "      <td>28.2164</td>\n",
       "      <td>19.75148</td>\n",
       "      <td>True</td>\n",
       "      <td>2018-08-03</td>\n",
       "    </tr>\n",
       "    <tr>\n",
       "      <td>28</td>\n",
       "      <td>000002.SZ</td>\n",
       "      <td>2017-12-01</td>\n",
       "      <td>NaT</td>\n",
       "      <td>28.2164</td>\n",
       "      <td>19.75148</td>\n",
       "      <td>True</td>\n",
       "      <td>2018-08-03</td>\n",
       "    </tr>\n",
       "    <tr>\n",
       "      <td>30</td>\n",
       "      <td>000002.SZ</td>\n",
       "      <td>2017-12-01</td>\n",
       "      <td>2018-11-28</td>\n",
       "      <td>28.2164</td>\n",
       "      <td>19.75148</td>\n",
       "      <td>True</td>\n",
       "      <td>2018-08-03</td>\n",
       "    </tr>\n",
       "  </tbody>\n",
       "</table>\n",
       "</div>"
      ],
      "text/plain": [
       "      ts_code start_date release_date  pledge_price  forcast_close_line  \\\n",
       "13  000002.SZ 2017-12-01   2019-01-17       28.2164            19.75148   \n",
       "22  000002.SZ 2018-01-30   2018-12-24       33.5544            23.48808   \n",
       "27  000002.SZ 2017-12-01   2018-11-30       28.2164            19.75148   \n",
       "28  000002.SZ 2017-12-01          NaT       28.2164            19.75148   \n",
       "30  000002.SZ 2017-12-01   2018-11-28       28.2164            19.75148   \n",
       "\n",
       "    is_reach_close_line close_date  \n",
       "13                 True 2018-08-03  \n",
       "22                 True 2018-05-30  \n",
       "27                 True 2018-08-03  \n",
       "28                 True 2018-08-03  \n",
       "30                 True 2018-08-03  "
      ]
     },
     "execution_count": 77,
     "metadata": {},
     "output_type": "execute_result"
    }
   ],
   "source": [
    "pledge_positive.head()"
   ]
  },
  {
   "cell_type": "code",
   "execution_count": 78,
   "metadata": {},
   "outputs": [],
   "source": [
    "pledge_positive = pledge_positive.drop(['release_date'], axis=1)"
   ]
  },
  {
   "cell_type": "code",
   "execution_count": 80,
   "metadata": {},
   "outputs": [
    {
     "name": "stdout",
     "output_type": "stream",
     "text": [
      "<class 'pandas.core.frame.DataFrame'>\n",
      "Int64Index: 23787 entries, 13 to 99276\n",
      "Data columns (total 6 columns):\n",
      "ts_code                23787 non-null object\n",
      "start_date             23787 non-null datetime64[ns]\n",
      "pledge_price           23787 non-null float64\n",
      "forcast_close_line     23787 non-null float64\n",
      "is_reach_close_line    23787 non-null bool\n",
      "close_date             23787 non-null datetime64[ns]\n",
      "dtypes: bool(1), datetime64[ns](2), float64(2), object(1)\n",
      "memory usage: 1.1+ MB\n"
     ]
    }
   ],
   "source": [
    "pledge_positive.info()"
   ]
  },
  {
   "cell_type": "code",
   "execution_count": 79,
   "metadata": {},
   "outputs": [
    {
     "data": {
      "text/html": [
       "<div>\n",
       "<style scoped>\n",
       "    .dataframe tbody tr th:only-of-type {\n",
       "        vertical-align: middle;\n",
       "    }\n",
       "\n",
       "    .dataframe tbody tr th {\n",
       "        vertical-align: top;\n",
       "    }\n",
       "\n",
       "    .dataframe thead th {\n",
       "        text-align: right;\n",
       "    }\n",
       "</style>\n",
       "<table border=\"1\" class=\"dataframe\">\n",
       "  <thead>\n",
       "    <tr style=\"text-align: right;\">\n",
       "      <th></th>\n",
       "      <th>ts_code</th>\n",
       "      <th>start_date</th>\n",
       "      <th>release_date</th>\n",
       "      <th>pledge_price</th>\n",
       "      <th>forcast_close_line</th>\n",
       "      <th>is_reach_close_line</th>\n",
       "      <th>close_date</th>\n",
       "    </tr>\n",
       "  </thead>\n",
       "  <tbody>\n",
       "    <tr>\n",
       "      <td>0</td>\n",
       "      <td>000002.SZ</td>\n",
       "      <td>2018-12-25</td>\n",
       "      <td>2019-08-26</td>\n",
       "      <td>22.4751</td>\n",
       "      <td>15.73257</td>\n",
       "      <td>False</td>\n",
       "      <td>NaT</td>\n",
       "    </tr>\n",
       "    <tr>\n",
       "      <td>2</td>\n",
       "      <td>000002.SZ</td>\n",
       "      <td>2018-12-18</td>\n",
       "      <td>2019-07-22</td>\n",
       "      <td>24.3593</td>\n",
       "      <td>17.05151</td>\n",
       "      <td>False</td>\n",
       "      <td>NaT</td>\n",
       "    </tr>\n",
       "    <tr>\n",
       "      <td>3</td>\n",
       "      <td>000002.SZ</td>\n",
       "      <td>2019-06-11</td>\n",
       "      <td>NaT</td>\n",
       "      <td>26.7721</td>\n",
       "      <td>18.74047</td>\n",
       "      <td>False</td>\n",
       "      <td>NaT</td>\n",
       "    </tr>\n",
       "    <tr>\n",
       "      <td>4</td>\n",
       "      <td>000002.SZ</td>\n",
       "      <td>2018-09-26</td>\n",
       "      <td>2019-06-05</td>\n",
       "      <td>22.9654</td>\n",
       "      <td>16.07578</td>\n",
       "      <td>False</td>\n",
       "      <td>NaT</td>\n",
       "    </tr>\n",
       "    <tr>\n",
       "      <td>5</td>\n",
       "      <td>000002.SZ</td>\n",
       "      <td>2018-09-28</td>\n",
       "      <td>2019-06-05</td>\n",
       "      <td>23.0231</td>\n",
       "      <td>16.11617</td>\n",
       "      <td>False</td>\n",
       "      <td>NaT</td>\n",
       "    </tr>\n",
       "  </tbody>\n",
       "</table>\n",
       "</div>"
      ],
      "text/plain": [
       "     ts_code start_date release_date  pledge_price  forcast_close_line  \\\n",
       "0  000002.SZ 2018-12-25   2019-08-26       22.4751            15.73257   \n",
       "2  000002.SZ 2018-12-18   2019-07-22       24.3593            17.05151   \n",
       "3  000002.SZ 2019-06-11          NaT       26.7721            18.74047   \n",
       "4  000002.SZ 2018-09-26   2019-06-05       22.9654            16.07578   \n",
       "5  000002.SZ 2018-09-28   2019-06-05       23.0231            16.11617   \n",
       "\n",
       "   is_reach_close_line close_date  \n",
       "0                False        NaT  \n",
       "2                False        NaT  \n",
       "3                False        NaT  \n",
       "4                False        NaT  \n",
       "5                False        NaT  "
      ]
     },
     "execution_count": 79,
     "metadata": {},
     "output_type": "execute_result"
    }
   ],
   "source": [
    "pledge_neg.head()"
   ]
  },
  {
   "cell_type": "code",
   "execution_count": 81,
   "metadata": {},
   "outputs": [
    {
     "name": "stdout",
     "output_type": "stream",
     "text": [
      "<class 'pandas.core.frame.DataFrame'>\n",
      "Int64Index: 27293 entries, 0 to 99283\n",
      "Data columns (total 7 columns):\n",
      "ts_code                27293 non-null object\n",
      "start_date             27293 non-null datetime64[ns]\n",
      "release_date           16054 non-null datetime64[ns]\n",
      "pledge_price           27293 non-null float64\n",
      "forcast_close_line     27293 non-null float64\n",
      "is_reach_close_line    27293 non-null bool\n",
      "close_date             0 non-null datetime64[ns]\n",
      "dtypes: bool(1), datetime64[ns](3), float64(2), object(1)\n",
      "memory usage: 1.5+ MB\n"
     ]
    }
   ],
   "source": [
    "pledge_neg.info()"
   ]
  },
  {
   "cell_type": "code",
   "execution_count": 82,
   "metadata": {},
   "outputs": [],
   "source": [
    "pledge_neg = pledge_neg.drop(['close_date'], axis=1)"
   ]
  },
  {
   "cell_type": "code",
   "execution_count": 83,
   "metadata": {},
   "outputs": [
    {
     "name": "stdout",
     "output_type": "stream",
     "text": [
      "<class 'pandas.core.frame.DataFrame'>\n",
      "Int64Index: 27293 entries, 0 to 99283\n",
      "Data columns (total 6 columns):\n",
      "ts_code                27293 non-null object\n",
      "start_date             27293 non-null datetime64[ns]\n",
      "release_date           16054 non-null datetime64[ns]\n",
      "pledge_price           27293 non-null float64\n",
      "forcast_close_line     27293 non-null float64\n",
      "is_reach_close_line    27293 non-null bool\n",
      "dtypes: bool(1), datetime64[ns](2), float64(2), object(1)\n",
      "memory usage: 1.3+ MB\n"
     ]
    }
   ],
   "source": [
    "pledge_neg.info()"
   ]
  },
  {
   "cell_type": "code",
   "execution_count": 84,
   "metadata": {},
   "outputs": [],
   "source": [
    "pledge_positive.to_csv('../data/pledge/pledge_pos.csv', index=False)\n",
    "pledge_neg.to_csv('../data/pledge/pledge_neg.csv', index=False)"
   ]
  },
  {
   "cell_type": "code",
   "execution_count": null,
   "metadata": {},
   "outputs": [],
   "source": []
  }
 ],
 "metadata": {
  "kernelspec": {
   "display_name": "Python [conda env:keras_tf] *",
   "language": "python",
   "name": "conda-env-keras_tf-py"
  },
  "language_info": {
   "codemirror_mode": {
    "name": "ipython",
    "version": 3
   },
   "file_extension": ".py",
   "mimetype": "text/x-python",
   "name": "python",
   "nbconvert_exporter": "python",
   "pygments_lexer": "ipython3",
   "version": "3.7.4"
  }
 },
 "nbformat": 4,
 "nbformat_minor": 2
}
