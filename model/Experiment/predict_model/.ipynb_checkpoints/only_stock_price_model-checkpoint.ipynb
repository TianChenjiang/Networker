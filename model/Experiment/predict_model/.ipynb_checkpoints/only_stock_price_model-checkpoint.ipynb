{
 "cells": [
  {
   "cell_type": "code",
   "execution_count": 1,
   "metadata": {},
   "outputs": [
    {
     "name": "stderr",
     "output_type": "stream",
     "text": [
      "Using TensorFlow backend.\n"
     ]
    }
   ],
   "source": [
    "import tushare as ts\n",
    "import seaborn as sns\n",
    "import keras\n",
    "import numpy as np\n",
    "import pandas as pd\n",
    "import random\n",
    "import matplotlib.pyplot as plt\n",
    "from IPython.display import set_matplotlib_formats\n",
    "from keras.models import Model\n",
    "from keras import backend as K\n",
    "from keras.layers import Input, Dense, LSTM, Dropout, Bidirectional, BatchNormalization, Activation\n",
    "from keras.callbacks import EarlyStopping, TensorBoard\n",
    "from keras.optimizers import RMSprop, Adam\n",
    "from keras.initializers import Orthogonal\n",
    "from tcn import TCN\n",
    "from sklearn.preprocessing import MinMaxScaler\n",
    "from sklearn.metrics import (\n",
    "    roc_auc_score, roc_curve, auc, f1_score,\n",
    "    confusion_matrix, recall_score, \n",
    "    precision_recall_fscore_support)\n",
    "set_matplotlib_formats('retina')"
   ]
  },
  {
   "cell_type": "code",
   "execution_count": 2,
   "metadata": {},
   "outputs": [],
   "source": [
    "use = ['Symbol', 'ContrshrProportion', 'IsRelatedTrading', 'ShareholderFirstProp',\n",
    "       'ControlProportion', 'FamEntyp_1.0', 'FamEntyp_2.0', 'FamEntyp_3.0',\n",
    "       'BoardCode_P3401', 'BoardCode_P3402', 'BoardCode_P3403', 'FamStyle_1',\n",
    "       'FamStyle_2', 'ManGeneration_1.0', 'ManGeneration_2.0',\n",
    "       'FamNameStatus_1', 'FamNameStatus_2', 'FamNameStatus_3',\n",
    "       'FamNameStatus_4', 'FamNameStatus_5']\n",
    "fam = pd.read_csv('../data/family_firm_clean.csv', index_col=0, usecols=use)"
   ]
  },
  {
   "cell_type": "code",
   "execution_count": 3,
   "metadata": {},
   "outputs": [],
   "source": [
    "pledge_neg = pd.read_csv('../data/pledge/pledge_company_neg.csv', \n",
    "                         parse_dates=['start_date'])\n",
    "pledge_pos = pd.read_csv('../data/pledge/pledge_company_pos.csv',\n",
    "                        parse_dates=['start_date', 'close_date'])"
   ]
  },
  {
   "cell_type": "code",
   "execution_count": 4,
   "metadata": {},
   "outputs": [],
   "source": [
    "pledge_neg = pledge_neg.sort_values(by=['start_date'])\n",
    "pledge_neg = pledge_neg.reset_index(drop=True)"
   ]
  },
  {
   "cell_type": "code",
   "execution_count": 5,
   "metadata": {},
   "outputs": [],
   "source": [
    "pledge_pos = pledge_pos.sort_values(by=['start_date'])\n",
    "pledge_pos = pledge_pos.reset_index(drop=True)"
   ]
  },
  {
   "cell_type": "code",
   "execution_count": 6,
   "metadata": {},
   "outputs": [
    {
     "data": {
      "text/plain": [
       "(15891, 29)"
      ]
     },
     "execution_count": 6,
     "metadata": {},
     "output_type": "execute_result"
    }
   ],
   "source": [
    "pledge_pos.shape"
   ]
  },
  {
   "cell_type": "code",
   "execution_count": 7,
   "metadata": {},
   "outputs": [
    {
     "data": {
      "text/plain": [
       "(19753, 28)"
      ]
     },
     "execution_count": 7,
     "metadata": {},
     "output_type": "execute_result"
    }
   ],
   "source": [
    "pledge_neg.shape"
   ]
  },
  {
   "cell_type": "code",
   "execution_count": 8,
   "metadata": {},
   "outputs": [],
   "source": [
    "pledge_neg = pledge_neg.merge(fam, how='left', left_on='ts_code', right_on='Symbol')\n",
    "pledge_neg = pledge_neg.fillna(0)"
   ]
  },
  {
   "cell_type": "code",
   "execution_count": 9,
   "metadata": {},
   "outputs": [],
   "source": [
    "pledge_pos = pledge_pos.merge(fam, how='left', left_on='ts_code', right_on='Symbol')\n",
    "pledge_pos = pledge_pos.fillna(0)"
   ]
  },
  {
   "cell_type": "code",
   "execution_count": 10,
   "metadata": {},
   "outputs": [
    {
     "data": {
      "text/html": [
       "<div>\n",
       "<style scoped>\n",
       "    .dataframe tbody tr th:only-of-type {\n",
       "        vertical-align: middle;\n",
       "    }\n",
       "\n",
       "    .dataframe tbody tr th {\n",
       "        vertical-align: top;\n",
       "    }\n",
       "\n",
       "    .dataframe thead th {\n",
       "        text-align: right;\n",
       "    }\n",
       "</style>\n",
       "<table border=\"1\" class=\"dataframe\">\n",
       "  <thead>\n",
       "    <tr style=\"text-align: right;\">\n",
       "      <th></th>\n",
       "      <th>ts_code</th>\n",
       "      <th>start_date</th>\n",
       "      <th>pledge_price</th>\n",
       "      <th>forcast_close_line</th>\n",
       "      <th>current_ratio</th>\n",
       "      <th>quick_ratio</th>\n",
       "      <th>cash_ratio</th>\n",
       "      <th>inv_turn</th>\n",
       "      <th>ar_turn</th>\n",
       "      <th>ca_turn</th>\n",
       "      <th>...</th>\n",
       "      <th>BoardCode_P3403</th>\n",
       "      <th>FamStyle_1</th>\n",
       "      <th>FamStyle_2</th>\n",
       "      <th>ManGeneration_1.0</th>\n",
       "      <th>ManGeneration_2.0</th>\n",
       "      <th>FamNameStatus_1</th>\n",
       "      <th>FamNameStatus_2</th>\n",
       "      <th>FamNameStatus_3</th>\n",
       "      <th>FamNameStatus_4</th>\n",
       "      <th>FamNameStatus_5</th>\n",
       "    </tr>\n",
       "  </thead>\n",
       "  <tbody>\n",
       "    <tr>\n",
       "      <td>0</td>\n",
       "      <td>600998.SH</td>\n",
       "      <td>2016-01-04</td>\n",
       "      <td>17.4032</td>\n",
       "      <td>12.18224</td>\n",
       "      <td>1.3862</td>\n",
       "      <td>1.0302</td>\n",
       "      <td>0.9365</td>\n",
       "      <td>1.7793</td>\n",
       "      <td>1.5325</td>\n",
       "      <td>0.5284</td>\n",
       "      <td>...</td>\n",
       "      <td>0.0</td>\n",
       "      <td>1.0</td>\n",
       "      <td>0.0</td>\n",
       "      <td>1.0</td>\n",
       "      <td>0.0</td>\n",
       "      <td>1.0</td>\n",
       "      <td>1.0</td>\n",
       "      <td>1.0</td>\n",
       "      <td>1.0</td>\n",
       "      <td>1.0</td>\n",
       "    </tr>\n",
       "    <tr>\n",
       "      <td>1</td>\n",
       "      <td>300071.SZ</td>\n",
       "      <td>2016-01-04</td>\n",
       "      <td>12.6686</td>\n",
       "      <td>8.86802</td>\n",
       "      <td>1.2334</td>\n",
       "      <td>1.2334</td>\n",
       "      <td>1.1324</td>\n",
       "      <td>0.0000</td>\n",
       "      <td>0.7313</td>\n",
       "      <td>0.5061</td>\n",
       "      <td>...</td>\n",
       "      <td>1.0</td>\n",
       "      <td>1.0</td>\n",
       "      <td>0.0</td>\n",
       "      <td>1.0</td>\n",
       "      <td>0.0</td>\n",
       "      <td>1.0</td>\n",
       "      <td>1.0</td>\n",
       "      <td>0.0</td>\n",
       "      <td>0.0</td>\n",
       "      <td>1.0</td>\n",
       "    </tr>\n",
       "    <tr>\n",
       "      <td>2</td>\n",
       "      <td>300409.SZ</td>\n",
       "      <td>2016-01-04</td>\n",
       "      <td>14.3533</td>\n",
       "      <td>10.04731</td>\n",
       "      <td>3.5132</td>\n",
       "      <td>2.8557</td>\n",
       "      <td>2.8079</td>\n",
       "      <td>0.2906</td>\n",
       "      <td>0.4558</td>\n",
       "      <td>0.1050</td>\n",
       "      <td>...</td>\n",
       "      <td>1.0</td>\n",
       "      <td>1.0</td>\n",
       "      <td>0.0</td>\n",
       "      <td>1.0</td>\n",
       "      <td>0.0</td>\n",
       "      <td>1.0</td>\n",
       "      <td>1.0</td>\n",
       "      <td>0.0</td>\n",
       "      <td>0.0</td>\n",
       "      <td>1.0</td>\n",
       "    </tr>\n",
       "    <tr>\n",
       "      <td>3</td>\n",
       "      <td>002706.SZ</td>\n",
       "      <td>2016-01-04</td>\n",
       "      <td>8.1208</td>\n",
       "      <td>5.68456</td>\n",
       "      <td>3.9828</td>\n",
       "      <td>3.4084</td>\n",
       "      <td>2.9236</td>\n",
       "      <td>0.9005</td>\n",
       "      <td>2.7326</td>\n",
       "      <td>0.2363</td>\n",
       "      <td>...</td>\n",
       "      <td>0.0</td>\n",
       "      <td>1.0</td>\n",
       "      <td>0.0</td>\n",
       "      <td>1.0</td>\n",
       "      <td>0.0</td>\n",
       "      <td>1.0</td>\n",
       "      <td>1.0</td>\n",
       "      <td>0.0</td>\n",
       "      <td>0.0</td>\n",
       "      <td>1.0</td>\n",
       "    </tr>\n",
       "    <tr>\n",
       "      <td>4</td>\n",
       "      <td>300203.SZ</td>\n",
       "      <td>2016-01-04</td>\n",
       "      <td>29.7155</td>\n",
       "      <td>20.80085</td>\n",
       "      <td>1.6633</td>\n",
       "      <td>1.3274</td>\n",
       "      <td>1.2020</td>\n",
       "      <td>0.2894</td>\n",
       "      <td>0.2386</td>\n",
       "      <td>0.1043</td>\n",
       "      <td>...</td>\n",
       "      <td>1.0</td>\n",
       "      <td>1.0</td>\n",
       "      <td>0.0</td>\n",
       "      <td>0.0</td>\n",
       "      <td>0.0</td>\n",
       "      <td>0.0</td>\n",
       "      <td>0.0</td>\n",
       "      <td>0.0</td>\n",
       "      <td>1.0</td>\n",
       "      <td>1.0</td>\n",
       "    </tr>\n",
       "    <tr>\n",
       "      <td>5</td>\n",
       "      <td>000603.SZ</td>\n",
       "      <td>2016-01-04</td>\n",
       "      <td>15.8926</td>\n",
       "      <td>11.12482</td>\n",
       "      <td>0.7487</td>\n",
       "      <td>0.6943</td>\n",
       "      <td>0.6544</td>\n",
       "      <td>0.7073</td>\n",
       "      <td>63.7869</td>\n",
       "      <td>0.1864</td>\n",
       "      <td>...</td>\n",
       "      <td>0.0</td>\n",
       "      <td>0.0</td>\n",
       "      <td>1.0</td>\n",
       "      <td>0.0</td>\n",
       "      <td>0.0</td>\n",
       "      <td>1.0</td>\n",
       "      <td>1.0</td>\n",
       "      <td>0.0</td>\n",
       "      <td>0.0</td>\n",
       "      <td>1.0</td>\n",
       "    </tr>\n",
       "    <tr>\n",
       "      <td>6</td>\n",
       "      <td>000401.SZ</td>\n",
       "      <td>2016-01-04</td>\n",
       "      <td>9.5732</td>\n",
       "      <td>6.70124</td>\n",
       "      <td>0.4462</td>\n",
       "      <td>0.3766</td>\n",
       "      <td>0.2715</td>\n",
       "      <td>0.9737</td>\n",
       "      <td>0.9353</td>\n",
       "      <td>0.1579</td>\n",
       "      <td>...</td>\n",
       "      <td>0.0</td>\n",
       "      <td>0.0</td>\n",
       "      <td>0.0</td>\n",
       "      <td>0.0</td>\n",
       "      <td>0.0</td>\n",
       "      <td>0.0</td>\n",
       "      <td>0.0</td>\n",
       "      <td>0.0</td>\n",
       "      <td>0.0</td>\n",
       "      <td>0.0</td>\n",
       "    </tr>\n",
       "    <tr>\n",
       "      <td>7</td>\n",
       "      <td>600189.SH</td>\n",
       "      <td>2016-01-04</td>\n",
       "      <td>8.8649</td>\n",
       "      <td>6.20543</td>\n",
       "      <td>0.8507</td>\n",
       "      <td>0.7656</td>\n",
       "      <td>0.5832</td>\n",
       "      <td>0.2099</td>\n",
       "      <td>1.4492</td>\n",
       "      <td>0.0485</td>\n",
       "      <td>...</td>\n",
       "      <td>0.0</td>\n",
       "      <td>0.0</td>\n",
       "      <td>0.0</td>\n",
       "      <td>0.0</td>\n",
       "      <td>0.0</td>\n",
       "      <td>0.0</td>\n",
       "      <td>0.0</td>\n",
       "      <td>0.0</td>\n",
       "      <td>0.0</td>\n",
       "      <td>0.0</td>\n",
       "    </tr>\n",
       "    <tr>\n",
       "      <td>8</td>\n",
       "      <td>000686.SZ</td>\n",
       "      <td>2016-01-04</td>\n",
       "      <td>14.1314</td>\n",
       "      <td>9.89198</td>\n",
       "      <td>1.4414</td>\n",
       "      <td>1.4414</td>\n",
       "      <td>0.0000</td>\n",
       "      <td>0.0000</td>\n",
       "      <td>0.0000</td>\n",
       "      <td>0.0000</td>\n",
       "      <td>...</td>\n",
       "      <td>0.0</td>\n",
       "      <td>0.0</td>\n",
       "      <td>0.0</td>\n",
       "      <td>0.0</td>\n",
       "      <td>0.0</td>\n",
       "      <td>0.0</td>\n",
       "      <td>0.0</td>\n",
       "      <td>0.0</td>\n",
       "      <td>0.0</td>\n",
       "      <td>0.0</td>\n",
       "    </tr>\n",
       "    <tr>\n",
       "      <td>9</td>\n",
       "      <td>002729.SZ</td>\n",
       "      <td>2016-01-05</td>\n",
       "      <td>62.5638</td>\n",
       "      <td>43.79466</td>\n",
       "      <td>8.5209</td>\n",
       "      <td>7.0754</td>\n",
       "      <td>4.3068</td>\n",
       "      <td>0.5076</td>\n",
       "      <td>1.0151</td>\n",
       "      <td>0.1381</td>\n",
       "      <td>...</td>\n",
       "      <td>0.0</td>\n",
       "      <td>1.0</td>\n",
       "      <td>0.0</td>\n",
       "      <td>0.0</td>\n",
       "      <td>0.0</td>\n",
       "      <td>1.0</td>\n",
       "      <td>0.0</td>\n",
       "      <td>1.0</td>\n",
       "      <td>1.0</td>\n",
       "      <td>1.0</td>\n",
       "    </tr>\n",
       "  </tbody>\n",
       "</table>\n",
       "<p>10 rows × 47 columns</p>\n",
       "</div>"
      ],
      "text/plain": [
       "     ts_code start_date  pledge_price  forcast_close_line  current_ratio  \\\n",
       "0  600998.SH 2016-01-04       17.4032            12.18224         1.3862   \n",
       "1  300071.SZ 2016-01-04       12.6686             8.86802         1.2334   \n",
       "2  300409.SZ 2016-01-04       14.3533            10.04731         3.5132   \n",
       "3  002706.SZ 2016-01-04        8.1208             5.68456         3.9828   \n",
       "4  300203.SZ 2016-01-04       29.7155            20.80085         1.6633   \n",
       "5  000603.SZ 2016-01-04       15.8926            11.12482         0.7487   \n",
       "6  000401.SZ 2016-01-04        9.5732             6.70124         0.4462   \n",
       "7  600189.SH 2016-01-04        8.8649             6.20543         0.8507   \n",
       "8  000686.SZ 2016-01-04       14.1314             9.89198         1.4414   \n",
       "9  002729.SZ 2016-01-05       62.5638            43.79466         8.5209   \n",
       "\n",
       "   quick_ratio  cash_ratio  inv_turn  ar_turn  ca_turn  ...  BoardCode_P3403  \\\n",
       "0       1.0302      0.9365    1.7793   1.5325   0.5284  ...              0.0   \n",
       "1       1.2334      1.1324    0.0000   0.7313   0.5061  ...              1.0   \n",
       "2       2.8557      2.8079    0.2906   0.4558   0.1050  ...              1.0   \n",
       "3       3.4084      2.9236    0.9005   2.7326   0.2363  ...              0.0   \n",
       "4       1.3274      1.2020    0.2894   0.2386   0.1043  ...              1.0   \n",
       "5       0.6943      0.6544    0.7073  63.7869   0.1864  ...              0.0   \n",
       "6       0.3766      0.2715    0.9737   0.9353   0.1579  ...              0.0   \n",
       "7       0.7656      0.5832    0.2099   1.4492   0.0485  ...              0.0   \n",
       "8       1.4414      0.0000    0.0000   0.0000   0.0000  ...              0.0   \n",
       "9       7.0754      4.3068    0.5076   1.0151   0.1381  ...              0.0   \n",
       "\n",
       "   FamStyle_1  FamStyle_2  ManGeneration_1.0  ManGeneration_2.0  \\\n",
       "0         1.0         0.0                1.0                0.0   \n",
       "1         1.0         0.0                1.0                0.0   \n",
       "2         1.0         0.0                1.0                0.0   \n",
       "3         1.0         0.0                1.0                0.0   \n",
       "4         1.0         0.0                0.0                0.0   \n",
       "5         0.0         1.0                0.0                0.0   \n",
       "6         0.0         0.0                0.0                0.0   \n",
       "7         0.0         0.0                0.0                0.0   \n",
       "8         0.0         0.0                0.0                0.0   \n",
       "9         1.0         0.0                0.0                0.0   \n",
       "\n",
       "   FamNameStatus_1  FamNameStatus_2  FamNameStatus_3  FamNameStatus_4  \\\n",
       "0              1.0              1.0              1.0              1.0   \n",
       "1              1.0              1.0              0.0              0.0   \n",
       "2              1.0              1.0              0.0              0.0   \n",
       "3              1.0              1.0              0.0              0.0   \n",
       "4              0.0              0.0              0.0              1.0   \n",
       "5              1.0              1.0              0.0              0.0   \n",
       "6              0.0              0.0              0.0              0.0   \n",
       "7              0.0              0.0              0.0              0.0   \n",
       "8              0.0              0.0              0.0              0.0   \n",
       "9              1.0              0.0              1.0              1.0   \n",
       "\n",
       "   FamNameStatus_5  \n",
       "0              1.0  \n",
       "1              1.0  \n",
       "2              1.0  \n",
       "3              1.0  \n",
       "4              1.0  \n",
       "5              1.0  \n",
       "6              0.0  \n",
       "7              0.0  \n",
       "8              0.0  \n",
       "9              1.0  \n",
       "\n",
       "[10 rows x 47 columns]"
      ]
     },
     "execution_count": 10,
     "metadata": {},
     "output_type": "execute_result"
    }
   ],
   "source": [
    "pledge_neg.head(10)"
   ]
  },
  {
   "cell_type": "code",
   "execution_count": 11,
   "metadata": {},
   "outputs": [
    {
     "data": {
      "text/plain": [
       "(19753, 47)"
      ]
     },
     "execution_count": 11,
     "metadata": {},
     "output_type": "execute_result"
    }
   ],
   "source": [
    "pledge_neg.shape"
   ]
  },
  {
   "cell_type": "code",
   "execution_count": 12,
   "metadata": {},
   "outputs": [
    {
     "data": {
      "text/plain": [
       "(15891, 48)"
      ]
     },
     "execution_count": 12,
     "metadata": {},
     "output_type": "execute_result"
    }
   ],
   "source": [
    "pledge_pos.shape"
   ]
  },
  {
   "cell_type": "code",
   "execution_count": 13,
   "metadata": {},
   "outputs": [
    {
     "data": {
      "text/plain": [
       "Index(['ts_code', 'start_date', 'pledge_price', 'forcast_close_line',\n",
       "       'close_date', 'current_ratio', 'quick_ratio', 'cash_ratio', 'inv_turn',\n",
       "       'ar_turn', 'ca_turn', 'netprofit_margin', 'grossprofit_margin', 'roe',\n",
       "       'debt_to_assets', 'op_yoy', 'ebt_yoy', 'assets_yoy', 'tr_yoy', 'or_yoy',\n",
       "       'q_gr_yoy', 'q_gr_qoq', 'q_sales_yoy', 'q_sales_qoq', 'q_op_yoy',\n",
       "       'q_op_qoq', 'q_profit_yoy', 'q_profit_qoq', 'revenue',\n",
       "       'ContrshrProportion', 'IsRelatedTrading', 'ShareholderFirstProp',\n",
       "       'ControlProportion', 'FamEntyp_1.0', 'FamEntyp_2.0', 'FamEntyp_3.0',\n",
       "       'BoardCode_P3401', 'BoardCode_P3402', 'BoardCode_P3403', 'FamStyle_1',\n",
       "       'FamStyle_2', 'ManGeneration_1.0', 'ManGeneration_2.0',\n",
       "       'FamNameStatus_1', 'FamNameStatus_2', 'FamNameStatus_3',\n",
       "       'FamNameStatus_4', 'FamNameStatus_5'],\n",
       "      dtype='object')"
      ]
     },
     "execution_count": 13,
     "metadata": {},
     "output_type": "execute_result"
    }
   ],
   "source": [
    "pledge_pos.columns"
   ]
  },
  {
   "cell_type": "code",
   "execution_count": 14,
   "metadata": {},
   "outputs": [],
   "source": [
    "codes = set(pd.read_csv('../data/pledge/pledge_full_clean.csv')['ts_code'])\n",
    "code_price_dict = dict()\n",
    "for code in codes:\n",
    "    price_df = pd.read_csv('../data/price/{}.csv'.format(code), index_col=0)\n",
    "    price_df.index = pd.to_datetime(price_df.index)\n",
    "    code_price_dict[code] = price_df"
   ]
  },
  {
   "cell_type": "code",
   "execution_count": 15,
   "metadata": {},
   "outputs": [],
   "source": [
    "def get_stock_price_by_pos_code(code, lookback, \n",
    "                                delay, pledge_date, \n",
    "                                close_position_date, \n",
    "                                code_price_dict, forcast_close_line):\n",
    "    \"\"\"\n",
    "    通过爆仓股票代码，过去天数，生成三维的股票价格矩阵\n",
    "    delay * lookback * 9(features)\n",
    "    \"\"\"\n",
    "#     scaler = MinMaxScaler()\n",
    "    non_close_rate = 4\n",
    "    step = 4\n",
    "    price_df = code_price_dict[code]\n",
    "    price_df = price_df.drop(['pre_close'], axis=1)\n",
    "    price_df['delta'] = price_df.apply(lambda x: x['close'] - forcast_close_line, axis=1)\n",
    "#     scaler.fit(price_df)\n",
    "    price_df = price_df[pledge_date: close_position_date]\n",
    "    price_values = price_df.values\n",
    "    # 平仓训练集\n",
    "    usable_close_len = len(price_df) - lookback\n",
    "    usable_close_len = min(usable_close_len, delay + 1)\n",
    "    close_list = []\n",
    "    for i in range(1, usable_close_len + 1, step):\n",
    "        price_time = price_values[-lookback - i: -i]\n",
    "        close_list.append(price_time)\n",
    "    # 正常训练集\n",
    "    usable_non_close_len = len(price_df) - delay - lookback\n",
    "    usable_non_close_len = min(usable_non_close_len, non_close_rate * delay)\n",
    "    non_close_list = []\n",
    "    for i in range(delay+1, delay+1+usable_non_close_len, step):\n",
    "        price_time = price_values[-lookback - i: -i]\n",
    "        non_close_list.append(price_time)\n",
    "        \n",
    "    return close_list, non_close_list"
   ]
  },
  {
   "cell_type": "code",
   "execution_count": 16,
   "metadata": {},
   "outputs": [],
   "source": [
    "def get_stock_price_by_neg_code(code, delay, lookback, pledge_date, code_price_dict, forcast_close_line):\n",
    "    \"\"\"\n",
    "    通过非爆仓股票代码，过去天数，生成三维的股票价格矩阵\n",
    "    delay * lookback * 9(features)\n",
    "    \"\"\"\n",
    "#     scaler = MinMaxScaler()\n",
    "    step = 4\n",
    "    price_df = code_price_dict[code]\n",
    "    price_df = price_df.drop(['pre_close'], axis=1)\n",
    "    price_df['delta'] = price_df.apply(lambda x: x['close'] - forcast_close_line, axis=1)\n",
    "#     scaler.fit(price_df)\n",
    "    price_df = price_df[:pledge_date]\n",
    "    price_values = price_df.values\n",
    "    # 质押前训练集\n",
    "    usable_close_len = len(price_df) - lookback\n",
    "    usable_close_len = min(usable_close_len, delay + 1)\n",
    "    price_list = []\n",
    "    for i in range(1, usable_close_len + 1, step):\n",
    "        price_time = price_values[-lookback - i: -i]\n",
    "        price_list.append(price_time)\n",
    "        \n",
    "    return price_list"
   ]
  },
  {
   "cell_type": "code",
   "execution_count": 21,
   "metadata": {},
   "outputs": [],
   "source": [
    "def pos_generator(pledge, lookback, delay, min_index, max_index, code_price_dict):\n",
    "    # batch_size == delay(30)\n",
    "    i = min_index\n",
    "    all_zip = []\n",
    "\n",
    "    pledge_drop = pledge.drop(['ts_code', 'start_date', 'close_date'], axis=1)\n",
    "    pledge_values = pledge_drop.values\n",
    "    while i < max_index:\n",
    "        single_pledge = pledge.loc[i]\n",
    "        single_pledge_scaled = pledge_values[i]\n",
    "        close_list, non_close_list = get_stock_price_by_pos_code(code=single_pledge['ts_code'],\n",
    "                               lookback=lookback,\n",
    "                               delay=delay,\n",
    "                               pledge_date=single_pledge['start_date'],\n",
    "                               close_position_date=single_pledge['close_date'],\n",
    "                               code_price_dict=code_price_dict,\n",
    "                               forcast_close_line=single_pledge['forcast_close_line'])\n",
    "        close_zip = [(prices, single_pledge_scaled, 1) for prices in close_list]\n",
    "        non_close_zip = [(prices, single_pledge_scaled, 0) for prices in non_close_list]\n",
    "        all_zip += close_zip + non_close_zip\n",
    "        i += 1\n",
    "    return all_zip"
   ]
  },
  {
   "cell_type": "code",
   "execution_count": 22,
   "metadata": {},
   "outputs": [],
   "source": [
    "def neg_generator(pledge, lookback, delay, min_index, max_index, code_price_dict):\n",
    "    # batch_size == delay(30)\n",
    "    i = min_index\n",
    "    all_zip = []\n",
    "\n",
    "    pledge_drop = pledge.drop(['ts_code', 'start_date'], axis=1)\n",
    "    pledge_values = pledge_drop.values\n",
    "    while i < max_index:\n",
    "        single_pledge = pledge.loc[i]\n",
    "        single_pledge_scaled = pledge_values[i]\n",
    "        price_list = get_stock_price_by_neg_code(code=single_pledge['ts_code'],\n",
    "                               lookback=lookback,\n",
    "                               delay=delay,\n",
    "                               pledge_date=single_pledge['start_date'],\n",
    "                               code_price_dict=code_price_dict,\n",
    "                               forcast_close_line=single_pledge['forcast_close_line'])\n",
    "        all_zip += [(prices, single_pledge_scaled, 0) for prices in price_list]\n",
    "        i += 1\n",
    "    return all_zip"
   ]
  },
  {
   "cell_type": "code",
   "execution_count": 23,
   "metadata": {},
   "outputs": [
    {
     "name": "stdout",
     "output_type": "stream",
     "text": [
      "neg: 19753  pos: 15891\n"
     ]
    }
   ],
   "source": [
    "print('neg: {}  pos: {}'.format(len(pledge_neg), len(pledge_pos)))"
   ]
  },
  {
   "cell_type": "code",
   "execution_count": 24,
   "metadata": {},
   "outputs": [],
   "source": [
    "lookback = 48\n",
    "delay = 30\n",
    "train_neg_num = int(len(pledge_neg) * 0.8)\n",
    "train_pos_num = int(len(pledge_pos) * 0.8)\n",
    "\n",
    "train_zip = neg_generator(pledge_neg, lookback, delay, 0, train_neg_num, code_price_dict) + pos_generator(pledge_pos, lookback, delay, 0, train_pos_num, code_price_dict)\n",
    "test_zip = neg_generator(pledge_neg, lookback, delay, train_neg_num, len(pledge_neg), code_price_dict) + pos_generator(pledge_pos, lookback, delay, train_pos_num, len(pledge_pos), code_price_dict)"
   ]
  },
  {
   "cell_type": "code",
   "execution_count": 25,
   "metadata": {},
   "outputs": [],
   "source": [
    "def get_price_info_target_by_zip(all_zip):\n",
    "    random.shuffle(all_zip)\n",
    "    price_time = np.stack([t[0] for t in all_zip])\n",
    "    pledge_info = np.stack([t[1] for t in all_zip])\n",
    "    targets = np.stack([t[2] for t in all_zip])\n",
    "    return price_time, pledge_info, targets"
   ]
  },
  {
   "cell_type": "code",
   "execution_count": 59,
   "metadata": {},
   "outputs": [],
   "source": [
    "train_price, train_info, train_target = get_price_info_target_by_zip(train_zip)\n",
    "test_price, test_info, test_target = get_price_info_target_by_zip(test_zip)"
   ]
  },
  {
   "cell_type": "code",
   "execution_count": 60,
   "metadata": {},
   "outputs": [],
   "source": [
    "info_scaler = MinMaxScaler()\n",
    "train_info = info_scaler.fit_transform(train_info)\n",
    "test_info = info_scaler.transform(test_info)"
   ]
  },
  {
   "cell_type": "code",
   "execution_count": 61,
   "metadata": {},
   "outputs": [],
   "source": [
    "price_scaler = MinMaxScaler()\n",
    "train_price_2d = price_scaler.fit_transform(train_price.reshape((-1, 9)))\n",
    "test_price_2d = price_scaler.transform(test_price.reshape((-1, 9)))\n",
    "train_price = train_price_2d.reshape((-1, 48, 9))\n",
    "test_price = test_price_2d.reshape((-1, 48, 9))"
   ]
  },
  {
   "cell_type": "code",
   "execution_count": 62,
   "metadata": {},
   "outputs": [],
   "source": [
    "import pickle\n",
    "with open('info_scaler.pkl', 'wb') as f:\n",
    "    pickle.dump(info_scaler, f)\n",
    "    \n",
    "with open('price_scaler.pkl', 'wb') as f:\n",
    "    pickle.dump(price_scaler, f)    "
   ]
  },
  {
   "cell_type": "code",
   "execution_count": 63,
   "metadata": {},
   "outputs": [
    {
     "data": {
      "text/plain": [
       "(442680, 45)"
      ]
     },
     "execution_count": 63,
     "metadata": {},
     "output_type": "execute_result"
    }
   ],
   "source": [
    "train_info.shape"
   ]
  },
  {
   "cell_type": "code",
   "execution_count": 64,
   "metadata": {},
   "outputs": [
    {
     "data": {
      "text/plain": [
       "(442680, 48, 9)"
      ]
     },
     "execution_count": 64,
     "metadata": {},
     "output_type": "execute_result"
    }
   ],
   "source": [
    "train_price.shape"
   ]
  },
  {
   "cell_type": "code",
   "execution_count": 65,
   "metadata": {},
   "outputs": [],
   "source": [
    "def show_ratio(target):\n",
    "    unique, counts = np.unique(target, return_counts=True)\n",
    "    d = dict(zip(unique, counts))\n",
    "    print(d)\n",
    "    print(d[0] / (d[0] + d[1]))\n",
    "    return d[0] / d[1]"
   ]
  },
  {
   "cell_type": "code",
   "execution_count": 66,
   "metadata": {},
   "outputs": [
    {
     "name": "stdout",
     "output_type": "stream",
     "text": [
      "{0: 350724, 1: 91956}\n",
      "0.7922743290864733\n"
     ]
    }
   ],
   "source": [
    "weight_1 = show_ratio(train_target)"
   ]
  },
  {
   "cell_type": "code",
   "execution_count": 67,
   "metadata": {},
   "outputs": [
    {
     "name": "stdout",
     "output_type": "stream",
     "text": [
      "{0: 50041, 1: 16210}\n",
      "0.7553244479328614\n"
     ]
    },
    {
     "data": {
      "text/plain": [
       "3.087045033929673"
      ]
     },
     "execution_count": 67,
     "metadata": {},
     "output_type": "execute_result"
    }
   ],
   "source": [
    "show_ratio(test_target)"
   ]
  },
  {
   "cell_type": "code",
   "execution_count": 68,
   "metadata": {},
   "outputs": [
    {
     "data": {
      "text/plain": [
       "3.8140414981077906"
      ]
     },
     "execution_count": 68,
     "metadata": {},
     "output_type": "execute_result"
    }
   ],
   "source": [
    "weight_1"
   ]
  },
  {
   "cell_type": "code",
   "execution_count": 69,
   "metadata": {},
   "outputs": [],
   "source": [
    "def f1(y_true, y_pred):\n",
    "    def recall(y_true, y_pred):\n",
    "        \"\"\"Recall metric.\n",
    "\n",
    "        Only computes a batch-wise average of recall.\n",
    "\n",
    "        Computes the recall, a metric for multi-label classification of\n",
    "        how many relevant items are selected.\n",
    "        \"\"\"\n",
    "        true_positives = K.sum(K.round(K.clip(y_true * y_pred, 0, 1)))\n",
    "        possible_positives = K.sum(K.round(K.clip(y_true, 0, 1)))\n",
    "        recall = true_positives / (possible_positives + K.epsilon())\n",
    "        return recall\n",
    "\n",
    "    def precision(y_true, y_pred):\n",
    "        \"\"\"Precision metric.\n",
    "\n",
    "        Only computes a batch-wise average of precision.\n",
    "\n",
    "        Computes the precision, a metric for multi-label classification of\n",
    "        how many selected items are relevant.\n",
    "        \"\"\"\n",
    "        true_positives = K.sum(K.round(K.clip(y_true * y_pred, 0, 1)))\n",
    "        predicted_positives = K.sum(K.round(K.clip(y_pred, 0, 1)))\n",
    "        precision = true_positives / (predicted_positives + K.epsilon())\n",
    "        return precision\n",
    "    precision = precision(y_true, y_pred)\n",
    "    recall = recall(y_true, y_pred)\n",
    "    return 2*((precision*recall)/(precision+recall+K.epsilon()))"
   ]
  },
  {
   "cell_type": "code",
   "execution_count": 86,
   "metadata": {},
   "outputs": [],
   "source": [
    "def get_model(time_steps, price_dim, info_dim):\n",
    "    price_input = Input(shape=(time_steps, price_dim), name='price_input')\n",
    "    \n",
    "#     lstm_out = Bidirectional(LSTM(16, \n",
    "#                     dropout=0.2,\n",
    "#                     recurrent_dropout=0.5, \n",
    "#                     kernel_initializer=Orthogonal(seed=7),\n",
    "#                     return_sequences=False\n",
    "#                    ))(price_input)\n",
    "    tcn_out = TCN(nb_filters=64, \n",
    "            kernel_size=3, \n",
    "            dilations=[1, 2, 4, 8, 16], \n",
    "            nb_stacks=1, \n",
    "            dropout_rate=0.3,\n",
    "            kernel_initializer=Orthogonal(seed=7),\n",
    "            return_sequences=False)(price_input)\n",
    "#     price_con = keras.layers.concatenate([lstm_out, tcn_out])\n",
    "#     price_out = Dense(16, activation='relu')(price_con)\n",
    "#     price_out = Dropout(0.3)(price_out)\n",
    "    \n",
    "    info_input = Input(shape=(info_dim,), name='info_input')\n",
    "    x = keras.layers.concatenate([tcn_out, info_input])\n",
    "    \n",
    "    x_1 = Dense(128, activation='relu')(x)\n",
    "    x = Dense(128, activation='relu')(x_1)\n",
    "    x = Dense(128, activation='relu')(x)\n",
    "    x = keras.layers.add([x, x_1])\n",
    "    \n",
    "    x = Dropout(0.3)(x)\n",
    "    x = BatchNormalization()(x)\n",
    "    \n",
    "#     x_2 = Dense(512, activation='relu')(x)\n",
    "#     x = Dense(512, activation='relu')(x_2)\n",
    "#     x = keras.layers.add([x, x_2])\n",
    "    \n",
    "#     x = Dropout(0.2)(x)\n",
    "#     x = BatchNormalization()(x)\n",
    "    \n",
    "#     x_3 = Dense(128, activation='relu')(x)\n",
    "#     x = Dense(128, activation='relu')(x_3)\n",
    "#     x = keras.layers.add([x, x_3])\n",
    "    \n",
    "#     x = Dropout(0.2)(x)\n",
    "#     x = BatchNormalization()(x)\n",
    "\n",
    "    x = Dense(32, activation='sigmoid')(x)\n",
    "    output = Dense(1, activation='sigmoid', name='output')(x)\n",
    "    \n",
    "    model = Model(inputs=[price_input, info_input], outputs=[output])\n",
    "    return model"
   ]
  },
  {
   "cell_type": "code",
   "execution_count": 87,
   "metadata": {},
   "outputs": [
    {
     "name": "stdout",
     "output_type": "stream",
     "text": [
      "__________________________________________________________________________________________________\n",
      "Layer (type)                    Output Shape         Param #     Connected to                     \n",
      "==================================================================================================\n",
      "price_input (InputLayer)        (None, 48, 9)        0                                            \n",
      "__________________________________________________________________________________________________\n",
      "conv1d_129 (Conv1D)             (None, 48, 64)       640         price_input[0][0]                \n",
      "__________________________________________________________________________________________________\n",
      "conv1d_130 (Conv1D)             (None, 48, 64)       12352       conv1d_129[0][0]                 \n",
      "__________________________________________________________________________________________________\n",
      "activation_121 (Activation)     (None, 48, 64)       0           conv1d_130[0][0]                 \n",
      "__________________________________________________________________________________________________\n",
      "spatial_dropout1d_81 (SpatialDr (None, 48, 64)       0           activation_121[0][0]             \n",
      "__________________________________________________________________________________________________\n",
      "conv1d_131 (Conv1D)             (None, 48, 64)       12352       spatial_dropout1d_81[0][0]       \n",
      "__________________________________________________________________________________________________\n",
      "activation_122 (Activation)     (None, 48, 64)       0           conv1d_131[0][0]                 \n",
      "__________________________________________________________________________________________________\n",
      "spatial_dropout1d_82 (SpatialDr (None, 48, 64)       0           activation_122[0][0]             \n",
      "__________________________________________________________________________________________________\n",
      "conv1d_132 (Conv1D)             (None, 48, 64)       4160        conv1d_129[0][0]                 \n",
      "__________________________________________________________________________________________________\n",
      "add_61 (Add)                    (None, 48, 64)       0           conv1d_132[0][0]                 \n",
      "                                                                 spatial_dropout1d_82[0][0]       \n",
      "__________________________________________________________________________________________________\n",
      "activation_123 (Activation)     (None, 48, 64)       0           add_61[0][0]                     \n",
      "__________________________________________________________________________________________________\n",
      "conv1d_133 (Conv1D)             (None, 48, 64)       12352       activation_123[0][0]             \n",
      "__________________________________________________________________________________________________\n",
      "activation_124 (Activation)     (None, 48, 64)       0           conv1d_133[0][0]                 \n",
      "__________________________________________________________________________________________________\n",
      "spatial_dropout1d_83 (SpatialDr (None, 48, 64)       0           activation_124[0][0]             \n",
      "__________________________________________________________________________________________________\n",
      "conv1d_134 (Conv1D)             (None, 48, 64)       12352       spatial_dropout1d_83[0][0]       \n",
      "__________________________________________________________________________________________________\n",
      "activation_125 (Activation)     (None, 48, 64)       0           conv1d_134[0][0]                 \n",
      "__________________________________________________________________________________________________\n",
      "spatial_dropout1d_84 (SpatialDr (None, 48, 64)       0           activation_125[0][0]             \n",
      "__________________________________________________________________________________________________\n",
      "conv1d_135 (Conv1D)             (None, 48, 64)       4160        activation_123[0][0]             \n",
      "__________________________________________________________________________________________________\n",
      "add_62 (Add)                    (None, 48, 64)       0           conv1d_135[0][0]                 \n",
      "                                                                 spatial_dropout1d_84[0][0]       \n",
      "__________________________________________________________________________________________________\n",
      "activation_126 (Activation)     (None, 48, 64)       0           add_62[0][0]                     \n",
      "__________________________________________________________________________________________________\n",
      "conv1d_136 (Conv1D)             (None, 48, 64)       12352       activation_126[0][0]             \n",
      "__________________________________________________________________________________________________\n",
      "activation_127 (Activation)     (None, 48, 64)       0           conv1d_136[0][0]                 \n",
      "__________________________________________________________________________________________________\n",
      "spatial_dropout1d_85 (SpatialDr (None, 48, 64)       0           activation_127[0][0]             \n",
      "__________________________________________________________________________________________________\n",
      "conv1d_137 (Conv1D)             (None, 48, 64)       12352       spatial_dropout1d_85[0][0]       \n",
      "__________________________________________________________________________________________________\n",
      "activation_128 (Activation)     (None, 48, 64)       0           conv1d_137[0][0]                 \n",
      "__________________________________________________________________________________________________\n",
      "spatial_dropout1d_86 (SpatialDr (None, 48, 64)       0           activation_128[0][0]             \n",
      "__________________________________________________________________________________________________\n",
      "conv1d_138 (Conv1D)             (None, 48, 64)       4160        activation_126[0][0]             \n",
      "__________________________________________________________________________________________________\n",
      "add_63 (Add)                    (None, 48, 64)       0           conv1d_138[0][0]                 \n",
      "                                                                 spatial_dropout1d_86[0][0]       \n",
      "__________________________________________________________________________________________________\n",
      "activation_129 (Activation)     (None, 48, 64)       0           add_63[0][0]                     \n",
      "__________________________________________________________________________________________________\n",
      "conv1d_139 (Conv1D)             (None, 48, 64)       12352       activation_129[0][0]             \n",
      "__________________________________________________________________________________________________\n",
      "activation_130 (Activation)     (None, 48, 64)       0           conv1d_139[0][0]                 \n",
      "__________________________________________________________________________________________________\n",
      "spatial_dropout1d_87 (SpatialDr (None, 48, 64)       0           activation_130[0][0]             \n",
      "__________________________________________________________________________________________________\n",
      "conv1d_140 (Conv1D)             (None, 48, 64)       12352       spatial_dropout1d_87[0][0]       \n",
      "__________________________________________________________________________________________________\n",
      "activation_131 (Activation)     (None, 48, 64)       0           conv1d_140[0][0]                 \n",
      "__________________________________________________________________________________________________\n",
      "spatial_dropout1d_88 (SpatialDr (None, 48, 64)       0           activation_131[0][0]             \n",
      "__________________________________________________________________________________________________\n",
      "conv1d_141 (Conv1D)             (None, 48, 64)       4160        activation_129[0][0]             \n",
      "__________________________________________________________________________________________________\n",
      "add_64 (Add)                    (None, 48, 64)       0           conv1d_141[0][0]                 \n",
      "                                                                 spatial_dropout1d_88[0][0]       \n",
      "__________________________________________________________________________________________________\n",
      "activation_132 (Activation)     (None, 48, 64)       0           add_64[0][0]                     \n",
      "__________________________________________________________________________________________________\n",
      "conv1d_142 (Conv1D)             (None, 48, 64)       12352       activation_132[0][0]             \n",
      "__________________________________________________________________________________________________\n",
      "activation_133 (Activation)     (None, 48, 64)       0           conv1d_142[0][0]                 \n",
      "__________________________________________________________________________________________________\n",
      "spatial_dropout1d_89 (SpatialDr (None, 48, 64)       0           activation_133[0][0]             \n",
      "__________________________________________________________________________________________________\n",
      "conv1d_143 (Conv1D)             (None, 48, 64)       12352       spatial_dropout1d_89[0][0]       \n",
      "__________________________________________________________________________________________________\n",
      "activation_134 (Activation)     (None, 48, 64)       0           conv1d_143[0][0]                 \n",
      "__________________________________________________________________________________________________\n",
      "spatial_dropout1d_90 (SpatialDr (None, 48, 64)       0           activation_134[0][0]             \n",
      "__________________________________________________________________________________________________\n",
      "add_66 (Add)                    (None, 48, 64)       0           spatial_dropout1d_82[0][0]       \n",
      "                                                                 spatial_dropout1d_84[0][0]       \n",
      "                                                                 spatial_dropout1d_86[0][0]       \n",
      "                                                                 spatial_dropout1d_88[0][0]       \n",
      "                                                                 spatial_dropout1d_90[0][0]       \n",
      "__________________________________________________________________________________________________\n",
      "lambda_9 (Lambda)               (None, 64)           0           add_66[0][0]                     \n",
      "__________________________________________________________________________________________________\n",
      "info_input (InputLayer)         (None, 45)           0                                            \n",
      "__________________________________________________________________________________________________\n",
      "concatenate_9 (Concatenate)     (None, 109)          0           lambda_9[0][0]                   \n",
      "                                                                 info_input[0][0]                 \n",
      "__________________________________________________________________________________________________\n",
      "dense_39 (Dense)                (None, 128)          14080       concatenate_9[0][0]              \n",
      "__________________________________________________________________________________________________\n",
      "dense_40 (Dense)                (None, 128)          16512       dense_39[0][0]                   \n",
      "__________________________________________________________________________________________________\n",
      "dense_41 (Dense)                (None, 128)          16512       dense_40[0][0]                   \n",
      "__________________________________________________________________________________________________\n",
      "add_67 (Add)                    (None, 128)          0           dense_41[0][0]                   \n",
      "                                                                 dense_39[0][0]                   \n",
      "__________________________________________________________________________________________________\n",
      "dropout_13 (Dropout)            (None, 128)          0           add_67[0][0]                     \n",
      "__________________________________________________________________________________________________\n",
      "batch_normalization_12 (BatchNo (None, 128)          512         dropout_13[0][0]                 \n",
      "__________________________________________________________________________________________________\n",
      "dense_42 (Dense)                (None, 32)           4128        batch_normalization_12[0][0]     \n",
      "__________________________________________________________________________________________________\n",
      "output (Dense)                  (None, 1)            33          dense_42[0][0]                   \n",
      "==================================================================================================\n",
      "Total params: 192,577\n",
      "Trainable params: 192,321\n",
      "Non-trainable params: 256\n",
      "__________________________________________________________________________________________________\n"
     ]
    }
   ],
   "source": [
    "model = get_model(time_steps=lookback, price_dim=train_price.shape[-1], info_dim=train_info.shape[-1])\n",
    "model.compile(optimizer=Adam(), \n",
    "              loss='binary_crossentropy', \n",
    "              metrics=['accuracy', f1])\n",
    "model.summary()"
   ]
  },
  {
   "cell_type": "code",
   "execution_count": 88,
   "metadata": {},
   "outputs": [
    {
     "name": "stdout",
     "output_type": "stream",
     "text": [
      "Train on 442680 samples, validate on 66251 samples\n",
      "Epoch 1/8\n",
      "442680/442680 [==============================] - 75s 171us/step - loss: 1.1009 - acc: 0.4927 - f1: 0.2803 - val_loss: 0.7028 - val_acc: 0.2447 - val_f1: 0.3915\n",
      "Epoch 2/8\n",
      "442680/442680 [==============================] - 73s 164us/step - loss: 1.0995 - acc: 0.4947 - f1: 0.2640 - val_loss: 0.6863 - val_acc: 0.7553 - val_f1: 0.0000e+00\n",
      "Epoch 3/8\n",
      "442680/442680 [==============================] - 73s 164us/step - loss: 0.9382 - acc: 0.6424 - f1: 0.4481 - val_loss: 0.5125 - val_acc: 0.7549 - val_f1: 0.6404\n",
      "Epoch 4/8\n",
      "442680/442680 [==============================] - 72s 162us/step - loss: 0.8170 - acc: 0.7503 - f1: 0.5585 - val_loss: 0.4164 - val_acc: 0.8256 - val_f1: 0.6880\n",
      "Epoch 5/8\n",
      "442680/442680 [==============================] - 71s 160us/step - loss: 0.8265 - acc: 0.7446 - f1: 0.5482 - val_loss: 0.5229 - val_acc: 0.7512 - val_f1: 0.6334\n",
      "Epoch 6/8\n",
      "442680/442680 [==============================] - 71s 160us/step - loss: 0.8704 - acc: 0.7232 - f1: 0.5202 - val_loss: 0.4887 - val_acc: 0.7945 - val_f1: 0.6678\n",
      "Epoch 7/8\n",
      "442680/442680 [==============================] - 72s 163us/step - loss: 0.8426 - acc: 0.7415 - f1: 0.5482 - val_loss: 0.4336 - val_acc: 0.8195 - val_f1: 0.6826\n",
      "Epoch 8/8\n",
      "442680/442680 [==============================] - 72s 163us/step - loss: 0.8179 - acc: 0.7499 - f1: 0.5582 - val_loss: 0.4539 - val_acc: 0.8084 - val_f1: 0.6765\n"
     ]
    }
   ],
   "source": [
    "class_weight = {\n",
    "    0: 1,\n",
    "    1: weight_1\n",
    "}\n",
    "\n",
    "early_stop = EarlyStopping(monitor='val_f1', patience=2, mode='max')\n",
    "history = model.fit([train_price, train_info], \n",
    "          train_target, \n",
    "          epochs=8, \n",
    "          batch_size=128,\n",
    "#           callbacks=[early_stop],\n",
    "          validation_data=([test_price, test_info], test_target),\n",
    "          class_weight=class_weight\n",
    ")"
   ]
  },
  {
   "cell_type": "code",
   "execution_count": 89,
   "metadata": {},
   "outputs": [],
   "source": [
    "def plot_loss(history, title):\n",
    "    loss = history.history['loss']\n",
    "    val_loss = history.history['val_loss']\n",
    "\n",
    "    epochs = range(len(loss))\n",
    "\n",
    "    plt.figure()\n",
    "\n",
    "    plt.plot(epochs, loss, 'r', label='Training loss')\n",
    "    plt.plot(epochs, val_loss, 'b', label='Validation loss')\n",
    "    plt.title(title)\n",
    "    plt.legend()\n",
    "\n",
    "    plt.show()"
   ]
  },
  {
   "cell_type": "code",
   "execution_count": 90,
   "metadata": {},
   "outputs": [
    {
     "data": {
      "image/png": "[encoded data removed]",
      "text/plain": [
       "<Figure size 432x288 with 1 Axes>"
      ]
     },
     "metadata": {
      "needs_background": "light"
     },
     "output_type": "display_data"
    }
   ],
   "source": [
    "plot_loss(history, 'TCN scaled')"
   ]
  },
  {
   "cell_type": "code",
   "execution_count": 91,
   "metadata": {},
   "outputs": [
    {
     "data": {
      "text/plain": [
       "0.8805570209725988"
      ]
     },
     "execution_count": 91,
     "metadata": {},
     "output_type": "execute_result"
    }
   ],
   "source": [
    "y_predict = model.predict([test_price, test_info]).ravel()\n",
    "roc_auc_score(test_target, y_predict)"
   ]
  },
  {
   "cell_type": "code",
   "execution_count": 92,
   "metadata": {},
   "outputs": [
    {
     "data": {
      "text/plain": [
       "array([[40111,  9930],\n",
       "       [ 2763, 13447]], dtype=int64)"
      ]
     },
     "execution_count": 92,
     "metadata": {},
     "output_type": "execute_result"
    }
   ],
   "source": [
    "y_class = [1 if p > 0.5 else 0 for p in y_predict]\n",
    "confusion_matrix(test_target, y_class)"
   ]
  },
  {
   "cell_type": "code",
   "execution_count": 93,
   "metadata": {},
   "outputs": [
    {
     "data": {
      "text/plain": [
       "{0: 42874, 1: 23377}"
      ]
     },
     "execution_count": 93,
     "metadata": {},
     "output_type": "execute_result"
    }
   ],
   "source": [
    "unique, counts = np.unique(y_class, return_counts=True)\n",
    "dict(zip(unique, counts))"
   ]
  },
  {
   "cell_type": "code",
   "execution_count": 94,
   "metadata": {},
   "outputs": [
    {
     "data": {
      "text/plain": [
       "0.8295496607032696"
      ]
     },
     "execution_count": 94,
     "metadata": {},
     "output_type": "execute_result"
    }
   ],
   "source": [
    "recall_score(test_target, y_class)"
   ]
  },
  {
   "cell_type": "code",
   "execution_count": 95,
   "metadata": {},
   "outputs": [
    {
     "data": {
      "text/plain": [
       "(array([0.93555535, 0.57522351]),\n",
       " array([0.80156272, 0.82954966]),\n",
       " array([0.86339127, 0.67936444]),\n",
       " array([50041, 16210], dtype=int64))"
      ]
     },
     "execution_count": 95,
     "metadata": {},
     "output_type": "execute_result"
    }
   ],
   "source": [
    "precision_recall_fscore_support(test_target, y_class)"
   ]
  },
  {
   "cell_type": "code",
   "execution_count": 96,
   "metadata": {},
   "outputs": [
    {
     "data": {
      "image/png": "[encoded data removed]",
      "text/plain": [
       "<Figure size 432x288 with 1 Axes>"
      ]
     },
     "metadata": {
      "needs_background": "light"
     },
     "output_type": "display_data"
    }
   ],
   "source": [
    "fpr_keras, tpr_keras, thresholds_keras = roc_curve(test_target, y_predict)\n",
    "auc_keras = auc(fpr_keras, tpr_keras)\n",
    "plt.plot([0, 1], [0, 1], 'k--')\n",
    "plt.plot(fpr_keras, tpr_keras, label='Keras (area = {:.3f})'.format(auc_keras))\n",
    "plt.xlabel('False positive rate')\n",
    "plt.ylabel('True positive rate')\n",
    "plt.title('ROC curve')\n",
    "plt.show()"
   ]
  },
  {
   "cell_type": "code",
   "execution_count": 97,
   "metadata": {},
   "outputs": [],
   "source": [
    "model.save('pledge_company_model.h5')"
   ]
  },
  {
   "cell_type": "code",
   "execution_count": null,
   "metadata": {},
   "outputs": [],
   "source": []
  }
 ],
 "metadata": {
  "kernelspec": {
   "display_name": "Python [conda env:keras_tf] *",
   "language": "python",
   "name": "conda-env-keras_tf-py"
  },
  "language_info": {
   "codemirror_mode": {
    "name": "ipython",
    "version": 3
   },
   "file_extension": ".py",
   "mimetype": "text/x-python",
   "name": "python",
   "nbconvert_exporter": "python",
   "pygments_lexer": "ipython3",
   "version": "3.7.4"
  }
 },
 "nbformat": 4,
 "nbformat_minor": 2
}
